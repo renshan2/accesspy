{
 "cells": [
  {
   "cell_type": "markdown",
   "metadata": {
    "slideshow": {
     "slide_type": "slide"
    }
   },
   "source": [
    "# comment place that \n",
    "## Subheading\n",
    "### hello\n",
    "#### Comments\n",
    "\n",
    "\n",
    "$e^{i\\pi} + 1 = 0$\n",
    "$$e^x=\\sum_{i=0}^\\infty \\frac{1}{i!}x^i$$\n",
    "\n",
    "\\*literal asterisks\\*\n",
    " *literal asterisks*\n",
    " \n",
    " \\\\Testing\n",
    " \n",
    " | This | is   |\n",
    "|------|------|\n",
    "|   a  | table| \n",
    "\n",
    "This is an [example link](https://daringfireball.net/projects/markdown/basics)\n",
    "\n",
    "\n",
    "> Markdown offers two styles of headers: **Setext and atx.**\n",
    "> Setext-style headers for are created by *“underlining” *"
   ]
  },
  {
   "cell_type": "code",
   "execution_count": null,
   "metadata": {},
   "outputs": [],
   "source": []
  },
  {
   "cell_type": "code",
   "execution_count": null,
   "metadata": {},
   "outputs": [],
   "source": []
  }
 ],
 "metadata": {
  "kernelspec": {
   "display_name": "Python 3",
   "language": "python",
   "name": "python3"
  },
  "language_info": {
   "codemirror_mode": {
    "name": "ipython",
    "version": 3
   },
   "file_extension": ".py",
   "mimetype": "text/x-python",
   "name": "python",
   "nbconvert_exporter": "python",
   "pygments_lexer": "ipython3",
   "version": "3.7.4"
  }
 },
 "nbformat": 4,
 "nbformat_minor": 2
}
