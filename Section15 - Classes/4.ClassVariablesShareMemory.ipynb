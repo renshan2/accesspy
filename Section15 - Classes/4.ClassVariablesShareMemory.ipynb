{
 "cells": [
  {
   "cell_type": "markdown",
   "metadata": {},
   "source": [
    "Exec: Student\n",
    "Fullname - Firstname Lastname\n",
    "DOB\n",
    "Class - String\n",
    "Score - 1-5\n",
    "Home Address\n",
    "\n",
    "instance obj - stud1\n",
    "Get a full name with a home address. Student.Get_Fullname_And_Home_Address(stud1)"
   ]
  }
 ],
 "metadata": {
  "kernelspec": {
   "display_name": "Python 3",
   "language": "python",
   "name": "python3"
  },
  "language_info": {
   "codemirror_mode": {
    "name": "ipython",
    "version": 3
   },
   "file_extension": ".py",
   "mimetype": "text/x-python",
   "name": "python",
   "nbconvert_exporter": "python",
   "pygments_lexer": "ipython3",
   "version": "3.7.3"
  }
 },
 "nbformat": 4,
 "nbformat_minor": 2
}
