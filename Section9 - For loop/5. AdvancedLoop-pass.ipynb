{
 "cells": [
  {
   "cell_type": "code",
   "execution_count": 5,
   "metadata": {},
   "outputs": [
    {
     "output_type": "stream",
     "name": "stdout",
     "text": "s\nt\ni\nn\ng\n"
    }
   ],
   "source": [
    "for letter in \"string\":\n",
    "    if letter == 'r':\n",
    "        pass\n",
    "    else: \n",
    "        print(letter)"
   ]
  },
  {
   "cell_type": "code",
   "execution_count": 6,
   "metadata": {},
   "outputs": [
    {
     "output_type": "stream",
     "name": "stdout",
     "text": "current letter:  s\ncurrent letter:  t\nThis is the pass block\ncurrent letter:  i\ncurrent letter:  n\ncurrent letter:  g\nout of the loop\n"
    }
   ],
   "source": [
    "for letter in \"string\":\n",
    "    if letter == 'r':\n",
    "        pass\n",
    "        print(\"This is the pass block\")\n",
    "    else: \n",
    "        print(\"current letter: \", letter)\n",
    "print(\"out of the loop\")"
   ]
  },
  {
   "cell_type": "code",
   "execution_count": 7,
   "metadata": {},
   "outputs": [
    {
     "output_type": "stream",
     "name": "stdout",
     "text": "1\n3\n5\n7\n9\n"
    }
   ],
   "source": [
    "for i in range(10):\n",
    "    if (i%2 == 0):\n",
    "        pass\n",
    "    else: \n",
    "        print(i)"
   ]
  },
  {
   "cell_type": "markdown",
   "metadata": {},
   "source": [
    "what's the difference?"
   ]
  }
 ],
 "metadata": {
  "kernelspec": {
   "display_name": "Python 3",
   "language": "python",
   "name": "python3"
  },
  "language_info": {
   "codemirror_mode": {
    "name": "ipython",
    "version": 3
   },
   "file_extension": ".py",
   "mimetype": "text/x-python",
   "name": "python",
   "nbconvert_exporter": "python",
   "pygments_lexer": "ipython3",
   "version": "3.7.4"
  }
 },
 "nbformat": 4,
 "nbformat_minor": 2
}