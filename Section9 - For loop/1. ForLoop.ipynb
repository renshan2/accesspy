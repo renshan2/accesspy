{
 "cells": [
  {
   "cell_type": "code",
   "execution_count": null,
   "metadata": {},
   "outputs": [],
   "source": [
    "for letter in ['H','e','l','l','o']:\n",
    "    print(letter)"
   ]
  },
  {
   "cell_type": "code",
   "execution_count": null,
   "metadata": {},
   "outputs": [],
   "source": [
    "for letter in \"Hello\":\n",
    "    print(letter)"
   ]
  },
  {
   "cell_type": "code",
   "execution_count": null,
   "metadata": {},
   "outputs": [],
   "source": [
    "dog_weight = (('Pug',20),('Doberman',80),('Golden Retriever',55))\n",
    "for i,(dog,weight) in enumerate(dog_weight):\n",
    "    print(\"The dog at index %d is a %s and it weights %s pounds.\" % (i, dog, weight))"
   ]
  },
  {
   "cell_type": "code",
   "execution_count": null,
   "metadata": {},
   "outputs": [],
   "source": [
    "for name in ['Lei', 'Phil', 'Vicky']:\n",
    "    print(name)"
   ]
  },
  {
   "cell_type": "code",
   "execution_count": null,
   "metadata": {},
   "outputs": [],
   "source": [
    "for name in ['Andy', 'Kathy', 'Lei', 'Philip', 'Vicky']:\n",
    "    print(name)"
   ]
  },
  {
   "cell_type": "code",
   "execution_count": null,
   "metadata": {},
   "outputs": [],
   "source": [
    "student_scores = {'John':80,'Sam':60,'Jill':50,'Bob':96}\n",
    "student_scores.keys()"
   ]
  },
  {
   "cell_type": "code",
   "execution_count": null,
   "metadata": {},
   "outputs": [],
   "source": [
    "for score in student_scores.values():\n",
    "    print(score)"
   ]
  },
  {
   "cell_type": "code",
   "execution_count": null,
   "metadata": {},
   "outputs": [],
   "source": [
    "for kk in student_scores:\n",
    "    print(kk)"
   ]
  },
  {
   "cell_type": "code",
   "execution_count": null,
   "metadata": {},
   "outputs": [],
   "source": [
    "for kv in student_scores.items():\n",
    "    print(kv)"
   ]
  },
  {
   "cell_type": "code",
   "execution_count": null,
   "metadata": {},
   "outputs": [],
   "source": [
    "for student,score in student_scores.items():\n",
    "    print(\"student %s \\tScore %s\" %(student, score))"
   ]
  },
  {
   "cell_type": "markdown",
   "metadata": {},
   "source": [
    "Mixed list data"
   ]
  },
  {
   "cell_type": "code",
   "execution_count": null,
   "metadata": {},
   "outputs": [],
   "source": [
    "mixed_list = [145, 10.5, 1+3j, \n",
    "             True, \"Python\", \n",
    "             (0,1), [2,-5],\n",
    "             {\"Class\":\"V\", \"Section\":\"A\"}]\n",
    "for item in mixed_list:\n",
    "    print(\"Type of \", item, \" is \", type(item))"
   ]
  },
  {
   "cell_type": "code",
   "execution_count": null,
   "metadata": {},
   "outputs": [],
   "source": [
    "num_list = [2,4,6,8]\n",
    "square = 0\n",
    "for val in num_list:\n",
    "    square = val**2\n",
    "    print(\"Square of\", val, \" is \", square)"
   ]
  },
  {
   "cell_type": "markdown",
   "metadata": {},
   "source": [
    "<font color=\"blue\">in Class exercise:</font> count the length of a string. just like the function of len\n"
   ]
  },
  {
   "cell_type": "code",
   "execution_count": null,
   "metadata": {},
   "outputs": [],
   "source": [
    "student_scores = {\"Ayden\":60, \"Gavin\":85,\"Ian\":70,\"Jane\":82, \"James\":70} \n",
    "new = {}\n",
    "for name,score in student_scores.items():\n",
    "    if score not in new:\n",
    "        new[score] = []\n",
    "    new[score].append(name)\n",
    "print(new[70])\n"
   ]
  },
  {
   "cell_type": "code",
   "execution_count": 17,
   "metadata": {},
   "outputs": [
    {
     "name": "stdout",
     "output_type": "stream",
     "text": [
      "2\n",
      "4\n",
      "6\n",
      "8\n",
      "No more items left in the list\n"
     ]
    }
   ],
   "source": [
    "num_list = [2,4,6,8]\n",
    "for num in num_list:\n",
    "    print(num)    \n",
    "else:\n",
    "    print(\"No more items left in the list\")"
   ]
  },
  {
   "cell_type": "code",
   "execution_count": 18,
   "metadata": {},
   "outputs": [
    {
     "name": "stdout",
     "output_type": "stream",
     "text": [
      "c\n",
      "b\n",
      "d\n",
      "a\n",
      "No more items left in the list\n"
     ]
    }
   ],
   "source": [
    "letter_list = {\"a\",\"b\",\"c\",\"d\"}\n",
    "for letter in letter_list:\n",
    "    print(letter)    \n",
    "else:\n",
    "    print(\"No more items left in the list\")"
   ]
  },
  {
   "cell_type": "code",
   "execution_count": 19,
   "metadata": {},
   "outputs": [
    {
     "name": "stdout",
     "output_type": "stream",
     "text": [
      "a\n",
      "b\n",
      "c\n",
      "d\n",
      "No more items left in the list\n"
     ]
    }
   ],
   "source": [
    "letter_list = [\"a\",\"b\",\"c\",\"d\"]\n",
    "for letter in letter_list:\n",
    "    print(letter)\n",
    "    \n",
    "else:\n",
    "    print(\"No more items left in the list\")"
   ]
  },
  {
   "cell_type": "code",
   "execution_count": 20,
   "metadata": {},
   "outputs": [
    {
     "name": "stdout",
     "output_type": "stream",
     "text": [
      "New York is present in the list\n"
     ]
    }
   ],
   "source": [
    "us_cities = [\"New York\",\"Nashville\",\"Seattle\"]\n",
    "for city in us_cities:\n",
    "    if city == \"New York\":\n",
    "        print(city, \"is present in the list\")"
   ]
  },
  {
   "cell_type": "code",
   "execution_count": 21,
   "metadata": {},
   "outputs": [
    {
     "name": "stdout",
     "output_type": "stream",
     "text": [
      "The list contains an even number: 2\n",
      "The list contains an even number: 22\n"
     ]
    }
   ],
   "source": [
    "numbers = [11,33,55,39,2,55,75,37,22,23,41,13]\n",
    "for num in numbers:\n",
    "    if num % 2 == 0:\n",
    "        print(\"The list contains an even number:\", num)"
   ]
  },
  {
   "cell_type": "code",
   "execution_count": 22,
   "metadata": {},
   "outputs": [
    {
     "name": "stdout",
     "output_type": "stream",
     "text": [
      "2016 is a leap year\n",
      "2017 is not a leap year\n",
      "2018 is not a leap year\n",
      "2019 is not a leap year\n",
      "2020 is a leap year\n"
     ]
    }
   ],
   "source": [
    "\"\"\" find out the leap year \"\"\"\n",
    "years = [2016, 2017, 2018, 2019, 2020]\n",
    "for year in years:\n",
    "    if year % 4 == 0:\n",
    "        print(year, \"is a leap year\")\n",
    "    else:\n",
    "        print(year, \"is not a leap year\")"
   ]
  },
  {
   "cell_type": "code",
   "execution_count": null,
   "metadata": {},
   "outputs": [],
   "source": []
  }
 ],
 "metadata": {
  "kernelspec": {
   "display_name": "Python 3",
   "language": "python",
   "name": "python3"
  },
  "language_info": {
   "codemirror_mode": {
    "name": "ipython",
    "version": 3
   },
   "file_extension": ".py",
   "mimetype": "text/x-python",
   "name": "python",
   "nbconvert_exporter": "python",
   "pygments_lexer": "ipython3",
   "version": "3.7.6"
  }
 },
 "nbformat": 4,
 "nbformat_minor": 2
}
