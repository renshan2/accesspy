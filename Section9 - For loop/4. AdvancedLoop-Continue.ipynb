{
 "cells": [
  {
   "cell_type": "code",
   "execution_count": 1,
   "metadata": {},
   "outputs": [
    {
     "name": "stdout",
     "output_type": "stream",
     "text": [
      "s\n",
      "t\n",
      "d\n",
      "n\n",
      "t\n",
      "s\n"
     ]
    }
   ],
   "source": [
    "my_string = \"students\"\n",
    "vow_list = [\"a\", \"e\", \"i\",\"o\",\"u\"]\n",
    "for letter in my_string:\n",
    "    if (letter in vow_list):\n",
    "        continue\n",
    "    else:\n",
    "        print(letter)"
   ]
  },
  {
   "cell_type": "markdown",
   "metadata": {},
   "source": [
    "In class exercise: for a range of 1-10, if it is an even number, print with a note.     \n",
    "If it is an odd number, just print it out.  "
   ]
  },
  {
   "cell_type": "code",
   "execution_count": 2,
   "metadata": {},
   "outputs": [
    {
     "name": "stdout",
     "output_type": "stream",
     "text": [
      "1\n",
      "Found an even number: 2\n",
      "3\n",
      "Found an even number: 4\n",
      "5\n",
      "Found an even number: 6\n",
      "7\n",
      "Found an even number: 8\n",
      "9\n"
     ]
    }
   ],
   "source": []
  },
  {
   "cell_type": "code",
   "execution_count": null,
   "metadata": {},
   "outputs": [],
   "source": []
  }
 ],
 "metadata": {
  "kernelspec": {
   "display_name": "Python 3",
   "language": "python",
   "name": "python3"
  },
  "language_info": {
   "codemirror_mode": {
    "name": "ipython",
    "version": 3
   },
   "file_extension": ".py",
   "mimetype": "text/x-python",
   "name": "python",
   "nbconvert_exporter": "python",
   "pygments_lexer": "ipython3",
   "version": "3.7.4"
  }
 },
 "nbformat": 4,
 "nbformat_minor": 2
}
