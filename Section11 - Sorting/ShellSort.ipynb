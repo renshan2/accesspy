{
 "cells": [
  {
   "cell_type": "code",
   "execution_count": 5,
   "metadata": {},
   "outputs": [],
   "source": [
    "def shellSort(arr): \n",
    "  \n",
    "    # Start with a big gap, then reduce the gap \n",
    "    n = len(arr) \n",
    "    gap = n//2\n",
    "  \n",
    "    # Do a gapped insertion sort for this gap size. \n",
    "    # The first gap elements a[0..gap-1] are already in gapped  \n",
    "    # order keep adding one more element until the entire array \n",
    "    # is gap sorted \n",
    "    while gap > 0: \n",
    "  \n",
    "        for i in range(gap,n): \n",
    "  \n",
    "            # add a[i] to the elements that have been gap sorted \n",
    "            # save a[i] in temp and make a hole at position i \n",
    "            temp = arr[i] \n",
    "  \n",
    "            # shift earlier gap-sorted elements up until the correct \n",
    "            # location for a[i] is found \n",
    "            j = i \n",
    "            while  j >= gap and arr[j-gap] >temp: \n",
    "                arr[j] = arr[j-gap] \n",
    "                j -= gap \n",
    "  \n",
    "            # put temp (the original a[i]) in its correct location \n",
    "            arr[j] = temp \n",
    "        gap //= 2"
   ]
  },
  {
   "cell_type": "code",
   "execution_count": 7,
   "metadata": {},
   "outputs": [
    {
     "name": "stdout",
     "output_type": "stream",
     "text": [
      "Array before sorting:\n",
      "12 34 54 2 3 \n",
      "Array after sorting:\n",
      "2 3 12 34 54 "
     ]
    }
   ],
   "source": [
    "# Driver code to test above \n",
    "arr = [12, 34, 54, 2, 3] \n",
    "  \n",
    "n = len(arr) \n",
    "print (\"Array before sorting:\") \n",
    "for i in range(n): \n",
    "    print(arr[i],end=\" \"), \n",
    "  \n",
    "shellSort(arr) \n",
    "  \n",
    "print (\"\\nArray after sorting:\") \n",
    "for i in range(n): \n",
    "    print(arr[i],end=\" \")"
   ]
  },
  {
   "cell_type": "markdown",
   "metadata": {},
   "source": [
    "what is the first loop after gap = 2?\n",
    "i = 2:\n",
    "temp = 54\n",
    "j = 2\n",
    "[12,2,54,34,3]\n",
    "\n",
    "i = 3\n",
    "temp = 34\n",
    "j = 3\n",
    "j-gap = 1\n",
    "\n",
    "i = 4\n",
    "\n",
    "\n",
    "what is the 2nd loop when gap =1?\n",
    "\n",
    "After increments of size 4 The list is [14, 41, 43, 21, 57, 46, 45, 27, 70]                                   [14,21,43,41,45,27,57,46,70]\n",
    "            [\n",
    "After increments of size 2 The list is [14, 21, 43, 27, 45, 41, 57, 46, 70]  "
   ]
  }
 ],
 "metadata": {
  "kernelspec": {
   "display_name": "Python 3",
   "language": "python",
   "name": "python3"
  },
  "language_info": {
   "codemirror_mode": {
    "name": "ipython",
    "version": 3
   },
   "file_extension": ".py",
   "mimetype": "text/x-python",
   "name": "python",
   "nbconvert_exporter": "python",
   "pygments_lexer": "ipython3",
   "version": "3.7.3"
  }
 },
 "nbformat": 4,
 "nbformat_minor": 2
}
