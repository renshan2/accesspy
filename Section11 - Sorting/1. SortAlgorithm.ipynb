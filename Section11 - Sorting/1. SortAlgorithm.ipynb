{
 "cells": [
  {
   "cell_type": "code",
   "execution_count": 1,
   "metadata": {},
   "outputs": [],
   "source": [
    "numbers = [15,32, 26, 11 ,36 ,19, 42 ,44 ,14]"
   ]
  },
  {
   "cell_type": "code",
   "execution_count": 2,
   "metadata": {},
   "outputs": [
    {
     "output_type": "error",
     "ename": "NameError",
     "evalue": "name 'sort' is not defined",
     "traceback": [
      "\u001b[1;31m---------------------------------------------------------------------------\u001b[0m",
      "\u001b[1;31mNameError\u001b[0m                                 Traceback (most recent call last)",
      "\u001b[1;32m<ipython-input-2-c3c4ad939425>\u001b[0m in \u001b[0;36m<module>\u001b[1;34m\u001b[0m\n\u001b[1;32m----> 1\u001b[1;33m \u001b[0msort\u001b[0m\u001b[1;33m(\u001b[0m\u001b[0mnumbers\u001b[0m\u001b[1;33m)\u001b[0m\u001b[1;33m\u001b[0m\u001b[1;33m\u001b[0m\u001b[0m\n\u001b[0m",
      "\u001b[1;31mNameError\u001b[0m: name 'sort' is not defined"
     ]
    }
   ],
   "source": [
    "sort(numbers)"
   ]
  },
  {
   "cell_type": "code",
   "execution_count": null,
   "metadata": {},
   "outputs": [],
   "source": [
    "nummbers = [11,14,15,26,32,36,42,44]"
   ]
  },
  {
   "cell_type": "code",
   "execution_count": 4,
   "metadata": {
    "tags": []
   },
   "outputs": [
    {
     "output_type": "stream",
     "name": "stdout",
     "text": "[44, 42, 36, 32, 26, 19, 15, 14, 11]\n"
    }
   ],
   "source": [
    "numbers = [15, 32, 26, 11, 36, 19, 42, 44, 14]\n",
    "\n",
    "for i in range(len(numbers)-1):\n",
    "    for j in range(i+1,len(numbers)):\n",
    "        if numbers[i] < numbers[j]:\n",
    "            numbers[i], numbers[j] = numbers[j], numbers[i]\n",
    "print(numbers)\n"
   ]
  },
  {
   "cell_type": "code",
   "execution_count": 13,
   "metadata": {},
   "outputs": [
    {
     "name": "stdout",
     "output_type": "stream",
     "text": [
      "8\n",
      "7\n",
      "6\n",
      "5\n",
      "4\n",
      "3\n",
      "2\n",
      "1\n"
     ]
    }
   ],
   "source": [
    "for j in range(8, 0, -1):\n",
    "    print(j)"
   ]
  },
  {
   "cell_type": "code",
   "execution_count": null,
   "metadata": {},
   "outputs": [],
   "source": [
    "numbers = [15, 32, 26, 11, 36, 19, 42, 44, 14]\n",
    "\n",
    "for i in range(len(numbers)-1,0,-1):\n",
    "    for j in range(i):\n",
    "        if numbers[j] > numbers[j+1]:\n",
    "            numbers[j], numbers[j+1] = numbers[j+1], numbers[j]\n",
    "print(numbers)\n"
   ]
  },
  {
   "cell_type": "code",
   "execution_count": null,
   "metadata": {},
   "outputs": [],
   "source": [
    "a = 3\n",
    "b = 4\n",
    "c = a + b\n",
    "print (c)\n",
    "a = 5 "
   ]
  },
  {
   "cell_type": "code",
   "execution_count": null,
   "metadata": {},
   "outputs": [],
   "source": [
    "primitive data\n",
    "int boolean list\n",
    "complex data linked list"
   ]
  },
  {
   "cell_type": "code",
   "execution_count": 17,
   "metadata": {},
   "outputs": [
    {
     "name": "stdout",
     "output_type": "stream",
     "text": [
      "[11, 14, 15, 19, 26, 32, 36, 42, 44]\n"
     ]
    }
   ],
   "source": [
    "numbers = [15, 32, 26, 11, 36, 19, 42, 44, 14]\n",
    "for i in range(len(numbers)): \n",
    "    for j in range(i,0,-1):\n",
    "        if numbers[j] < numbers[j-1]:\n",
    "            numbers[j], numbers[j-1] = numbers[j-1], numbers[j]\n",
    "print(numbers)"
   ]
  },
  {
   "cell_type": "code",
   "execution_count": 16,
   "metadata": {},
   "outputs": [
    {
     "name": "stdout",
     "output_type": "stream",
     "text": [
      "[11, 14, 15, 19, 26, 32, 36, 42, 44]\n"
     ]
    }
   ],
   "source": [
    "numbers = [15, 32, 26, 11, 36, 19, 42, 44, 14]\n",
    "for i in range(len(numbers)): \n",
    "    for i in range(i,0,-1):\n",
    "        if numbers[i] < numbers[i-1]:\n",
    "            numbers[i], numbers[i-1] = numbers[i-1], numbers[i]\n",
    "print(numbers)\n"
   ]
  },
  {
   "cell_type": "code",
   "execution_count": 6,
   "metadata": {},
   "outputs": [
    {
     "data": {
      "text/plain": [
       "32"
      ]
     },
     "execution_count": 6,
     "metadata": {},
     "output_type": "execute_result"
    }
   ],
   "source": [
    "numbers = [15, 32, 26, 11, 36, 19, 42, 44, 14]\n",
    "i = 1\n",
    "numbers[i]"
   ]
  },
  {
   "cell_type": "code",
   "execution_count": 8,
   "metadata": {},
   "outputs": [
    {
     "name": "stdout",
     "output_type": "stream",
     "text": [
      "[15, 32, 26, 11, 36, 19, 42, 44, 14]\n"
     ]
    }
   ],
   "source": [
    "numbers = [15, 32, 26, 11, 36, 19, 42, 44, 14]\n",
    "i = 1\n",
    "for i in range(i,0,-1):\n",
    "        if numbers[i] < numbers[i-1]:\n",
    "            numbers[i], numbers[i-1] = numbers[i-1], numbers[i]\n",
    "print(numbers)"
   ]
  },
  {
   "cell_type": "code",
   "execution_count": 10,
   "metadata": {},
   "outputs": [
    {
     "name": "stdout",
     "output_type": "stream",
     "text": [
      "[15, 26, 32, 11, 36, 19, 42, 44, 14]\n"
     ]
    }
   ],
   "source": [
    "i = 2\n",
    "for i in range(i,0,-1):\n",
    "        if numbers[i] < numbers[i-1]:\n",
    "            numbers[i], numbers[i-1] = numbers[i-1], numbers[i]\n",
    "print(numbers)"
   ]
  },
  {
   "cell_type": "code",
   "execution_count": 18,
   "metadata": {},
   "outputs": [
    {
     "name": "stdout",
     "output_type": "stream",
     "text": [
      "[11, 14, 15, 19, 26, 32, 36, 42, 44]\n"
     ]
    }
   ],
   "source": [
    "numbers = [11, 15, 19, 26, 32, 36, 42, 44, 14]\n",
    "i = 8\n",
    "for i in range(i,0,-1):\n",
    "        if numbers[i] < numbers[i-1]:\n",
    "            numbers[i], numbers[i-1] = numbers[i-1], numbers[i]\n",
    "print(numbers)"
   ]
  },
  {
   "cell_type": "code",
   "execution_count": null,
   "metadata": {},
   "outputs": [],
   "source": [
    "numbers = [15, 32, 26, 11, 36, 19, 42, 44, 14]\n",
    "\n"
   ]
  },
  {
   "cell_type": "code",
   "execution_count": null,
   "metadata": {},
   "outputs": [],
   "source": [
    "numbers = [15, 32, 26, 11, 36, 19, 42, 44, 14]\n",
    "def Insert(numbers, number_index, len_index):\n",
    "    # you want to deal with 3 cases in a sublist from 0 to len_index(j),\n",
    "    # if the number is in the front\n",
    "    if numbers[number_index] < numbers[0]:\n",
    "        # insert to the front\n",
    "        numbers.prepend(...)\n",
    "    # if the number is in the end\n",
    "    elif numbers[number_index] > numbers[len_index]:\n",
    "        #insert to the end\n",
    "        numbers.append(...)\n",
    "    else \n",
    "        # if the number is in the middle\n",
    "        #insert to the middle\n",
    "        numbers.insert(...)\n",
    "    return numbers\n",
    "\n",
    "for i in range(len(numbers)): \n",
    "    for j in range(0,i):\n",
    "        numbers = Insert(numbers, i, j)\n",
    "print(numbers)"
   ]
  },
  {
   "cell_type": "code",
   "execution_count": null,
   "metadata": {},
   "outputs": [],
   "source": [
    "def Insert(numbers,number_index,len_index):\n",
    "    # if the number is in the front\n",
    "    if numbers[number_index] < numbers[0]:\n",
    "        #insert to the front\n",
    "        numbers.insert(0,numbers[number_index])\n",
    "    # if the number is in the end\n",
    "    elif numbers[number_index] > numbers[len_index]:\n",
    "        #insert to the end\n",
    "        numbers.insert(len_index,numbers[number_index])\n",
    "\n",
    "    else:\n",
    "        numbers = numbers[:numbers_index] + numbers[numbers_index] + numbers[numbers_index:]\n",
    "    # insert to the middle\n",
    "   \n",
    "    # if the number is in the m\n",
    "    return numbers\n",
    "\n"
   ]
  },
  {
   "cell_type": "code",
   "execution_count": null,
   "metadata": {},
   "outputs": [],
   "source": [
    "for i in range(len(numbers)): \n",
    "    for j in range(0,i):\n",
    "        numbers = Insert(numbers, i, j)\n",
    "print(numbers)"
   ]
  }
 ],
 "metadata": {
  "kernelspec": {
   "display_name": "Python 3",
   "language": "python",
   "name": "python3"
  },
  "language_info": {
   "codemirror_mode": {
    "name": "ipython",
    "version": 3
   },
   "file_extension": ".py",
   "mimetype": "text/x-python",
   "name": "python",
   "nbconvert_exporter": "python",
   "pygments_lexer": "ipython3",
   "version": "3.7.6-final"
  }
 },
 "nbformat": 4,
 "nbformat_minor": 2
}