{
 "cells": [
  {
   "cell_type": "code",
   "execution_count": 2,
   "metadata": {},
   "outputs": [],
   "source": [
    "numbers = [15,32, 26, 11 ,36 ,19, 42 ,44 ,14]\n"
   ]
  },
  {
   "cell_type": "code",
   "execution_count": null,
   "metadata": {},
   "outputs": [],
   "source": [
    "nummbers = [11,14,15,26,32,36,42,44]"
   ]
  },
  {
   "cell_type": "code",
   "execution_count": null,
   "metadata": {},
   "outputs": [],
   "source": [
    "numbers = [15, 32, 26, 11, 36, 19, 42, 44, 14]\n",
    "\n",
    "for i in range(len(numbers)):\n",
    "    for i in range(i,0,-1):\n",
    "        if numbers[i] < numbers[j]:\n",
    "            numbers[i], numbers[j] = numbers[j], numbers[i]\n",
    "print(numbers)\n"
   ]
  },
  {
   "cell_type": "code",
   "execution_count": 3,
   "metadata": {},
   "outputs": [
    {
     "name": "stdout",
     "output_type": "stream",
     "text": [
      "10\n",
      "9\n",
      "8\n",
      "7\n",
      "6\n",
      "5\n",
      "4\n",
      "3\n",
      "2\n",
      "1\n"
     ]
    }
   ],
   "source": [
    "for i in range(10, 0, -1):\n",
    "    print(i)"
   ]
  },
  {
   "cell_type": "code",
   "execution_count": null,
   "metadata": {},
   "outputs": [],
   "source": [
    "numbers = [15, 32, 26, 11, 36, 19, 42, 44, 14]\n",
    "\n",
    "for i in range(len(numbers)-1,0,-1):\n",
    "    for j in range(i):\n",
    "        if numbers[j] > numbers[j+1]:\n",
    "            numbers[j], numbers[j+1] = numbers[j+1], numbers[j]\n",
    "print(numbers)\n"
   ]
  },
  {
   "cell_type": "code",
   "execution_count": 4,
   "metadata": {},
   "outputs": [
    {
     "name": "stdout",
     "output_type": "stream",
     "text": [
      "7\n"
     ]
    }
   ],
   "source": [
    "a = 3\n",
    "b = 4\n",
    "c = a + b\n",
    "print (c)\n",
    "a = 5 "
   ]
  },
  {
   "cell_type": "code",
   "execution_count": null,
   "metadata": {},
   "outputs": [],
   "source": [
    "primitive data\n",
    "int boolean list\n",
    "complex data linked list"
   ]
  },
  {
   "cell_type": "code",
   "execution_count": null,
   "metadata": {},
   "outputs": [],
   "source": [
    "numbers = [15, 32, 26, 11, 36, 19, 42, 44, 14]\n",
    "for i in range(len(numbers)): \n",
    "    for i in range(i,0,-1):\n",
    "        if numbers[i] < numbers[i-1]:\n",
    "            numbers[i], numbers[i-1] = numbers[i-1], numbers[i]\n",
    "print(numbers)\n"
   ]
  },
  {
   "cell_type": "code",
   "execution_count": 5,
   "metadata": {},
   "outputs": [
    {
     "name": "stdout",
     "output_type": "stream",
     "text": [
      "[15, 32, 26, 11, 36, 19, 42, 44, 14]\n"
     ]
    }
   ],
   "source": [
    "numbers = [15, 32, 26, 11, 36, 19, 42, 44, 14]\n",
    "i = 1\n",
    "for i in range(i,0,-1):\n",
    "        if numbers[i] < numbers[i-1]:\n",
    "            numbers[i], numbers[i-1] = numbers[i-1], numbers[i]\n",
    "print(numbers)"
   ]
  },
  {
   "cell_type": "code",
   "execution_count": 6,
   "metadata": {},
   "outputs": [
    {
     "name": "stdout",
     "output_type": "stream",
     "text": [
      "[15, 26, 32, 11, 36, 19, 42, 44, 14]\n"
     ]
    }
   ],
   "source": [
    "i = 2\n",
    "for i in range(i,0,-1):\n",
    "        if numbers[i] < numbers[i-1]:\n",
    "            numbers[i], numbers[i-1] = numbers[i-1], numbers[i]\n",
    "print(numbers)"
   ]
  },
  {
   "cell_type": "code",
   "execution_count": null,
   "metadata": {},
   "outputs": [],
   "source": [
    "i = 9\n",
    "for i in range(i,0,-1):\n",
    "        if numbers[i] < numbers[i-1]:\n",
    "            numbers[i], numbers[i-1] = numbers[i-1], numbers[i]\n",
    "print(numbers)"
   ]
  },
  {
   "cell_type": "code",
   "execution_count": null,
   "metadata": {},
   "outputs": [],
   "source": [
    "numbers = [15, 32, 26, 11, 36, 19, 42, 44, 14]\n",
    "\n"
   ]
  },
  {
   "cell_type": "code",
   "execution_count": null,
   "metadata": {},
   "outputs": [],
   "source": [
    "numbers = [15, 32, 26, 11, 36, 19, 42, 44, 14]\n",
    "Def Insert(numbers, number_index, len_index):\n",
    "    # you want to deal with 3 cases in a sublist from 0 to len_index(j),\n",
    "    # if the number is in the front\n",
    "    if numbers[number_index] < numbers[0]:\n",
    "        # insert to the front\n",
    "        numbers.prepend(...)\n",
    "    # if the number is in the end\n",
    "    elif numbers[number_index] > numbers[len_index]:\n",
    "        #insert to the end\n",
    "        numbers.append(...)\n",
    "    else \n",
    "        # if the number is in the middle\n",
    "        #insert to the middle\n",
    "        numbers.insert(...)\n",
    "    return numbers\n",
    "\n",
    "for i in range(len(numbers)): \n",
    "    for j in range(0,i):\n",
    "        numbers = Insert(numbers, i, j)\n",
    "print(numbers)"
   ]
  }
 ],
 "metadata": {
  "kernelspec": {
   "display_name": "Python 3",
   "language": "python",
   "name": "python3"
  },
  "language_info": {
   "codemirror_mode": {
    "name": "ipython",
    "version": 3
   },
   "file_extension": ".py",
   "mimetype": "text/x-python",
   "name": "python",
   "nbconvert_exporter": "python",
   "pygments_lexer": "ipython3",
   "version": "3.7.3"
  }
 },
 "nbformat": 4,
 "nbformat_minor": 2
}
