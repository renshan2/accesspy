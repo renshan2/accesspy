{
 "cells": [
  {
   "cell_type": "markdown",
   "metadata": {},
   "source": [
    "If statements with Primitive Data"
   ]
  },
  {
   "cell_type": "code",
   "execution_count": null,
   "metadata": {},
   "outputs": [],
   "source": [
    "if 20 < 15  :\n",
    "    print(\"10 is less than 15\")"
   ]
  },
  {
   "cell_type": "code",
   "execution_count": null,
   "metadata": {},
   "outputs": [],
   "source": [
    "if 46 > (40 + 5):\n",
    "    print(\"46 is greater than 45\")"
   ]
  },
  {
   "cell_type": "code",
   "execution_count": null,
   "metadata": {
    "scrolled": true
   },
   "outputs": [],
   "source": [
    "if 46 > 40:\n",
    "    print(\"46 is greater than 45\")"
   ]
  },
  {
   "cell_type": "code",
   "execution_count": null,
   "metadata": {},
   "outputs": [],
   "source": [
    "x = 15\n",
    "y = 25\n",
    "if x < y: \n",
    "    print(\"Value of x is less than the value of y\")"
   ]
  },
  {
   "cell_type": "code",
   "execution_count": null,
   "metadata": {},
   "outputs": [],
   "source": [
    "my_str = \"hello python world\""
   ]
  },
  {
   "cell_type": "code",
   "execution_count": null,
   "metadata": {},
   "outputs": [],
   "source": [
    "if \"not\" in my_str:\n",
    "    print(\"Yes, 'not' is in my_str\")"
   ]
  },
  {
   "cell_type": "markdown",
   "metadata": {},
   "source": [
    "Complex Data Type"
   ]
  },
  {
   "cell_type": "code",
   "execution_count": null,
   "metadata": {},
   "outputs": [],
   "source": [
    "list_students = [\"Ayden\",\"Gavin\",\"Ian\",\"Jose\",\"Jane\"]\n",
    "if \"Jose\" in list_students:\n",
    "    print(\"Jose is a student\")"
   ]
  },
  {
   "cell_type": "code",
   "execution_count": null,
   "metadata": {},
   "outputs": [],
   "source": [
    "tuple_teachers = (\"Ayden\",\"Gavin\",\"Ian\",\"Jose\",\"Jane\")\n",
    "tuple_teachers"
   ]
  },
  {
   "cell_type": "code",
   "execution_count": null,
   "metadata": {},
   "outputs": [],
   "source": [
    "if \"Gavin\" in tuple_teachers:\n",
    "    print(\"Gavin is a teacher\")"
   ]
  },
  {
   "cell_type": "code",
   "execution_count": null,
   "metadata": {},
   "outputs": [],
   "source": [
    "student_scores = {\"Ayden\":60, \"Gavin\":85,\"Ian\":70,\"Jane\":82, \"Jane\":28}\n",
    "student_scores"
   ]
  },
  {
   "cell_type": "code",
   "execution_count": null,
   "metadata": {},
   "outputs": [],
   "source": [
    "if \"Ian\" in student_scores:\n",
    "    print(\"Ian is a student score dictionary\")\n",
    "    print(\"and the score is:\", student_scores[\"Ian\"])"
   ]
  },
  {
   "cell_type": "code",
   "execution_count": null,
   "metadata": {},
   "outputs": [],
   "source": [
    "if \"James\" in student_scores:\n",
    "    print(\"James is a student score dictionary\")\n",
    "    print(\"and the score is:\", student_scores[\"James\"])"
   ]
  },
  {
   "cell_type": "markdown",
   "metadata": {},
   "source": [
    "Logic ops: and, or, not"
   ]
  },
  {
   "cell_type": "code",
   "execution_count": null,
   "metadata": {},
   "outputs": [],
   "source": [
    "a = 5\n",
    "b = 15"
   ]
  },
  {
   "cell_type": "code",
   "execution_count": null,
   "metadata": {},
   "outputs": [],
   "source": [
    "if a > b and False:\n",
    "    print(\"a is greater than b\")"
   ]
  },
  {
   "cell_type": "code",
   "execution_count": null,
   "metadata": {},
   "outputs": [],
   "source": [
    "if a > b and True:\n",
    "    print(\"a is greater than b\")"
   ]
  },
  {
   "cell_type": "code",
   "execution_count": null,
   "metadata": {},
   "outputs": [],
   "source": [
    "if not (a < b):\n",
    "    print(\"a is greater than b\")"
   ]
  },
  {
   "cell_type": "code",
   "execution_count": null,
   "metadata": {},
   "outputs": [],
   "source": [
    "if a > b:\n",
    "    num = num -20\n",
    "else: \n",
    "    num = num + 20"
   ]
  },
  {
   "cell_type": "code",
   "execution_count": 1,
   "metadata": {},
   "outputs": [
    {
     "name": "stdout",
     "output_type": "stream",
     "text": [
      "num before expression:  10\n"
     ]
    }
   ],
   "source": [
    "num = 10\n",
    "print(\"num before expression: \", num)\n"
   ]
  },
  {
   "cell_type": "code",
   "execution_count": 2,
   "metadata": {},
   "outputs": [
    {
     "name": "stdout",
     "output_type": "stream",
     "text": [
      "num after expression:  30\n"
     ]
    }
   ],
   "source": [
    "num = num - 20 if num > 20 else num + 20\n",
    "print(\"num after expression: \", num) "
   ]
  },
  {
   "cell_type": "code",
   "execution_count": null,
   "metadata": {},
   "outputs": [],
   "source": [
    "num = 50\n",
    "if num > 20:\n",
    "    num = num -20\n",
    "else: \n",
    "    num = num + 20\n",
    "print(num)"
   ]
  },
  {
   "cell_type": "code",
   "execution_count": null,
   "metadata": {},
   "outputs": [],
   "source": [
    "bal = bal - 10 if bal > 100 else bal + 100"
   ]
  },
  {
   "cell_type": "markdown",
   "metadata": {},
   "source": [
    "In class exercise: write a if-else statement with the indentation"
   ]
  },
  {
   "cell_type": "code",
   "execution_count": 3,
   "metadata": {},
   "outputs": [
    {
     "name": "stdout",
     "output_type": "stream",
     "text": [
      "15 is less than 20\n",
      "elif block activated\n"
     ]
    }
   ],
   "source": [
    "a = 15\n",
    "b = 20\n",
    "if a > b:\n",
    "    print(\"15 is greater than 20\")\n",
    "    print(\"if block activated\")\n",
    "elif a < b: \n",
    "    print(\"15 is less than 20\")\n",
    "    print(\"elif block activated\")\n",
    "else: \n",
    "    print(\"They aer equal\")\n",
    "    print(\"else block activated\")"
   ]
  },
  {
   "cell_type": "code",
   "execution_count": 4,
   "metadata": {},
   "outputs": [
    {
     "name": "stdout",
     "output_type": "stream",
     "text": [
      "15 is less than 20\n",
      "elif block activated\n"
     ]
    }
   ],
   "source": [
    "a = 15\n",
    "b = 20\n",
    "if a > b:\n",
    "    print(\"15 is greater than 20\")\n",
    "    print(\"if block activated\")\n",
    "elif a < b: \n",
    "    print(\"15 is less than 20\")\n",
    "    print(\"elif block activated\")\n",
    "#else: \n",
    "#    print(\"They aer equal\")\n",
    "#    print(\"else block activated\")"
   ]
  },
  {
   "cell_type": "markdown",
   "metadata": {},
   "source": [
    "Multiple elif"
   ]
  },
  {
   "cell_type": "code",
   "execution_count": 6,
   "metadata": {},
   "outputs": [
    {
     "name": "stdout",
     "output_type": "stream",
     "text": [
      "a cheaper bike\n",
      "if block activated\n"
     ]
    }
   ],
   "source": [
    "a = 15\n",
    "b = 20\n",
    "c = 30\n",
    "#input bike_price from the screen \n",
    "bike_price = 16\n",
    "if bike_price < a:\n",
    "    print(\"a cheaper bike\")\n",
    "    print(\"if block activated\")\n",
    "elif bike_price >= a and bike_price <=b: \n",
    "    print(\"a moderate bike\")\n",
    "    print(\"elif block activated\")\n",
    "elif bike_price > b and bike_price <= c:\n",
    "    print(\"a expensive bike\")\n",
    "    print(\"elif block activated\")\n",
    "else: \n",
    "    print(\"a very expensive bike\")\n",
    "    print(\"else block activated\")"
   ]
  },
  {
   "cell_type": "code",
   "execution_count": null,
   "metadata": {},
   "outputs": [],
   "source": [
    "a = 15\n",
    "b = 20\n",
    "c = 30\n",
    "bike_price = 22\n",
    "if bike_price < a:\n",
    "    print(\"a cheaper bike\")\n",
    "    print(\"if block activated\")\n",
    "elif bike_price >= a and bike_price <=b: \n",
    "    print(\"a moderate bike\")\n",
    "    print(\"elif block activated\")\n",
    "elif bike_price > b and bike_price <= c:\n",
    "    print(\"a expensive bike\")\n",
    "    print(\"elif block activated\")\n",
    "else: \n",
    "    print(\"a very expensive bike\")\n",
    "    print(\"else block activated\")"
   ]
  },
  {
   "cell_type": "markdown",
   "metadata": {},
   "source": [
    "Nested elif"
   ]
  },
  {
   "cell_type": "code",
   "execution_count": 7,
   "metadata": {},
   "outputs": [
    {
     "name": "stdout",
     "output_type": "stream",
     "text": [
      "enter the number x=:25\n",
      "The first condition is true\n",
      "both conditions are true\n"
     ]
    }
   ],
   "source": [
    "x=int(input(\"enter the number x=:\"))\n",
    "y=35\n",
    "z=45\n",
    "if x < y:\n",
    "    print (\"The first condition is true\")\n",
    "    if x < z:\n",
    "        print(\"both conditions are true\")\n",
    "    else: \n",
    "        print(\"the first condition is true, the second condition is false\")\n",
    "else: \n",
    "    print(\"the first condition is false\")"
   ]
  },
  {
   "cell_type": "markdown",
   "metadata": {},
   "source": [
    "In class exercise: create a input asking for age, then print statements based on:  \n",
    "if < 15 ->\"You are too young for this camping;  \n",
    "if >= 15 -> for age older than 20, \"You are in the senior group for this camping\"  \n",
    "if >= 15 -> for age less or equal to 20, \"You are in the junior group for this camping\""
   ]
  },
  {
   "cell_type": "markdown",
   "metadata": {},
   "source": [
    "IfElse Statement in Complex Data Types"
   ]
  },
  {
   "cell_type": "code",
   "execution_count": 11,
   "metadata": {},
   "outputs": [],
   "source": [
    "fruit_list=[\"apple\",\"orange\",\"grape\",\"banana\"]"
   ]
  },
  {
   "cell_type": "code",
   "execution_count": 15,
   "metadata": {},
   "outputs": [
    {
     "name": "stdout",
     "output_type": "stream",
     "text": [
      "Yes, grape is in the fruit list\n"
     ]
    }
   ],
   "source": [
    "an_item = \"grap\"\n",
    "if an_item in fruit_list:\n",
    "    print(\"Yes, {} is in the fruit list\".format(an_item))\n",
    "else:\n",
    "    print(\"the fruit list has no \", an_item)"
   ]
  },
  {
   "cell_type": "code",
   "execution_count": 20,
   "metadata": {},
   "outputs": [
    {
     "name": "stdout",
     "output_type": "stream",
     "text": [
      "Yes, kiwi is in the fruit list and grape we have another one item: \n"
     ]
    }
   ],
   "source": [
    "an_item = \"grape\"\n",
    "another_item = \"kiwi\"\n",
    "if an_item in fruit_list:\n",
    "    print(\"Yes, {} is in the fruit list and {} we have another one item: \".format(another_item, an_item))\n",
    "else:\n",
    "    print(\"the fruit list has no \", an_item)"
   ]
  },
  {
   "cell_type": "markdown",
   "metadata": {},
   "source": [
    "Conversions:"
   ]
  },
  {
   "cell_type": "code",
   "execution_count": null,
   "metadata": {},
   "outputs": [],
   "source": []
  }
 ],
 "metadata": {
  "kernelspec": {
   "display_name": "Python 3",
   "language": "python",
   "name": "python3"
  },
  "language_info": {
   "codemirror_mode": {
    "name": "ipython",
    "version": 3
   },
   "file_extension": ".py",
   "mimetype": "text/x-python",
   "name": "python",
   "nbconvert_exporter": "python",
   "pygments_lexer": "ipython3",
   "version": "3.7.3"
  }
 },
 "nbformat": 4,
 "nbformat_minor": 2
}
