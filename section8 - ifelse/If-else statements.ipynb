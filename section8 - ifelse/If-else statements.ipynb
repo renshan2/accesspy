{
 "cells": [
  {
   "cell_type": "markdown",
   "metadata": {},
   "source": [
    "If statements with Primitive Data"
   ]
  },
  {
   "cell_type": "code",
   "execution_count": null,
   "metadata": {},
   "outputs": [],
   "source": [
    "if 10 < 15:\n",
    "    print(\"10 is less than 15\")"
   ]
  },
  {
   "cell_type": "code",
   "execution_count": null,
   "metadata": {},
   "outputs": [],
   "source": [
    "if 46 > 40 + 5:\n",
    "    print(\"46 is greater than 45\")"
   ]
  },
  {
   "cell_type": "code",
   "execution_count": 1,
   "metadata": {
    "scrolled": true
   },
   "outputs": [
    {
     "ename": "IndentationError",
     "evalue": "expected an indented block (<ipython-input-1-5cb01cbb78be>, line 2)",
     "output_type": "error",
     "traceback": [
      "\u001b[1;36m  File \u001b[1;32m\"<ipython-input-1-5cb01cbb78be>\"\u001b[1;36m, line \u001b[1;32m2\u001b[0m\n\u001b[1;33m    print(\"46 is greater than 45\")\u001b[0m\n\u001b[1;37m        ^\u001b[0m\n\u001b[1;31mIndentationError\u001b[0m\u001b[1;31m:\u001b[0m expected an indented block\n"
     ]
    }
   ],
   "source": [
    "if 46 > 40:\n",
    "print(\"46 is greater than 45\")"
   ]
  },
  {
   "cell_type": "code",
   "execution_count": 2,
   "metadata": {},
   "outputs": [],
   "source": [
    "x = 65\n",
    "y = 25\n",
    "if x < y: \n",
    "    print(\"Value of x is less than the value of y\")"
   ]
  },
  {
   "cell_type": "code",
   "execution_count": 4,
   "metadata": {},
   "outputs": [],
   "source": [
    "my_str = \"hello python world\""
   ]
  },
  {
   "cell_type": "code",
   "execution_count": 5,
   "metadata": {},
   "outputs": [
    {
     "name": "stdout",
     "output_type": "stream",
     "text": [
      "Yes, 'python world' is in my_str\n"
     ]
    }
   ],
   "source": [
    "if \"python world\" in my_str:\n",
    "    print(\"Yes, 'python world' is in my_str\")"
   ]
  },
  {
   "cell_type": "markdown",
   "metadata": {},
   "source": [
    "Complex Data Type"
   ]
  },
  {
   "cell_type": "code",
   "execution_count": 6,
   "metadata": {},
   "outputs": [
    {
     "name": "stdout",
     "output_type": "stream",
     "text": [
      "Jose is a student\n"
     ]
    }
   ],
   "source": [
    "list_students = [\"Ayden\",\"Gavin\",\"Ian\",\"Jose\",\"Jane\"]\n",
    "if \"Jose\" in list_students:\n",
    "    print(\"Jose is a student\")"
   ]
  },
  {
   "cell_type": "code",
   "execution_count": 7,
   "metadata": {},
   "outputs": [
    {
     "data": {
      "text/plain": [
       "('Ayden', 'Gavin', 'Ian', 'Jose', 'Jane')"
      ]
     },
     "execution_count": 7,
     "metadata": {},
     "output_type": "execute_result"
    }
   ],
   "source": [
    "tuple_teachers = (\"Ayden\",\"Gavin\",\"Ian\",\"Jose\",\"Jane\")\n",
    "tuple_teachers"
   ]
  },
  {
   "cell_type": "code",
   "execution_count": 8,
   "metadata": {},
   "outputs": [
    {
     "name": "stdout",
     "output_type": "stream",
     "text": [
      "Gavin is a teacher\n"
     ]
    }
   ],
   "source": [
    "if \"Gavin\" in tuple_teachers:\n",
    "    print(\"Gavin is a teacher\")"
   ]
  },
  {
   "cell_type": "code",
   "execution_count": 10,
   "metadata": {},
   "outputs": [
    {
     "data": {
      "text/plain": [
       "{'Ayden': 60, 'Gavin': 85, 'Ian': 70, 'Jane': 28}"
      ]
     },
     "execution_count": 10,
     "metadata": {},
     "output_type": "execute_result"
    }
   ],
   "source": [
    "student_scores = {\"Ayden\":60, \"Gavin\":85,\"Ian\":70,\"Jane\":82, \"Jane\":28}\n",
    "student_scores"
   ]
  },
  {
   "cell_type": "code",
   "execution_count": 11,
   "metadata": {},
   "outputs": [
    {
     "name": "stdout",
     "output_type": "stream",
     "text": [
      "Ian is a student score dictionary\n",
      "and the score is: 70\n"
     ]
    }
   ],
   "source": [
    "if \"Ian\" in student_scores:\n",
    "    print(\"Ian is a student score dictionary\")\n",
    "    print(\"and the score is:\", student_scores[\"Ian\"])"
   ]
  },
  {
   "cell_type": "code",
   "execution_count": 12,
   "metadata": {},
   "outputs": [],
   "source": [
    "if \"James\" in student_scores:\n",
    "    print(\"James is a student score dictionary\")\n",
    "    print(\"and the score is:\", student_scores[\"James\"])"
   ]
  },
  {
   "cell_type": "markdown",
   "metadata": {},
   "source": [
    "Logic ops: and, or, not"
   ]
  },
  {
   "cell_type": "code",
   "execution_count": 20,
   "metadata": {},
   "outputs": [],
   "source": [
    "a = 5\n",
    "b = 15"
   ]
  },
  {
   "cell_type": "code",
   "execution_count": 17,
   "metadata": {},
   "outputs": [],
   "source": [
    "if a > b and False:\n",
    "    print(\"a is greater than b\")"
   ]
  },
  {
   "cell_type": "code",
   "execution_count": 16,
   "metadata": {},
   "outputs": [
    {
     "name": "stdout",
     "output_type": "stream",
     "text": [
      "a is greater than b\n"
     ]
    }
   ],
   "source": [
    "if a > b and True:\n",
    "    print(\"a is greater than b\")"
   ]
  },
  {
   "cell_type": "code",
   "execution_count": 18,
   "metadata": {},
   "outputs": [
    {
     "name": "stdout",
     "output_type": "stream",
     "text": [
      "a is greater than b\n"
     ]
    }
   ],
   "source": [
    "if not (a < b):\n",
    "    print(\"a is greater than b\")"
   ]
  },
  {
   "cell_type": "code",
   "execution_count": 21,
   "metadata": {},
   "outputs": [
    {
     "name": "stdout",
     "output_type": "stream",
     "text": [
      "a is not greater than b\n"
     ]
    }
   ],
   "source": [
    "if a > b:\n",
    "    print(\"a is greater than b\")\n",
    "else: \n",
    "    print(\"a is not greater than b\")"
   ]
  },
  {
   "cell_type": "code",
   "execution_count": 22,
   "metadata": {},
   "outputs": [
    {
     "name": "stdout",
     "output_type": "stream",
     "text": [
      "num before expression:  50\n",
      "num after expression:  30\n"
     ]
    }
   ],
   "source": [
    "num = 50\n",
    "print(\"num before expression: \", num)\n",
    "num = num - 20 if num > 20 else num + 20\n",
    "print(\"num after expression: \", num)"
   ]
  },
  {
   "cell_type": "code",
   "execution_count": null,
   "metadata": {},
   "outputs": [],
   "source": [
    "    "
   ]
  },
  {
   "cell_type": "markdown",
   "metadata": {},
   "source": [
    "In class exercise: write a if-else statement with the indentation"
   ]
  },
  {
   "cell_type": "code",
   "execution_count": 23,
   "metadata": {},
   "outputs": [
    {
     "name": "stdout",
     "output_type": "stream",
     "text": [
      "15 is less than 20\n",
      "elif block activated\n"
     ]
    }
   ],
   "source": [
    "a = 15\n",
    "b = 20\n",
    "if a > b:\n",
    "    print(\"15 is greater than 20\")\n",
    "    print(\"if block activated\")\n",
    "elif a < b: \n",
    "    print(\"15 is less than 20\")\n",
    "    print(\"elif block activated\")\n",
    "else: \n",
    "    print(\"They aer equal\")\n",
    "    print(\"else block activated\")"
   ]
  },
  {
   "cell_type": "code",
   "execution_count": 24,
   "metadata": {},
   "outputs": [
    {
     "name": "stdout",
     "output_type": "stream",
     "text": [
      "15 is less than 20\n",
      "elif block activated\n"
     ]
    }
   ],
   "source": [
    "a = 15\n",
    "b = 20\n",
    "if a > b:\n",
    "    print(\"15 is greater than 20\")\n",
    "    print(\"if block activated\")\n",
    "elif a < b: \n",
    "    print(\"15 is less than 20\")\n",
    "    print(\"elif block activated\")\n",
    "#else: \n",
    "#    print(\"They aer equal\")\n",
    "#    print(\"else block activated\")"
   ]
  },
  {
   "cell_type": "markdown",
   "metadata": {},
   "source": [
    "Multiple elif"
   ]
  },
  {
   "cell_type": "code",
   "execution_count": null,
   "metadata": {},
   "outputs": [],
   "source": [
    "a = 15\n",
    "b = 20\n",
    "c = 30\n",
    "#input bike_price from the screen \n",
    "if bike_price < a:\n",
    "    print(\"a cheaper bike\")\n",
    "    print(\"if block activated\")\n",
    "elif bike_price >= a and bike_price <=b: \n",
    "    print(\"a moderate bike\")\n",
    "    print(\"elif block activated\")\n",
    "elif bike_price > b and bike_price <= c:\n",
    "    print(\"a expensive bike\")\n",
    "    print(\"elif block activated\")\n",
    "else: \n",
    "    print(\"a very expensive bike\")\n",
    "    print(\"else block activated\")"
   ]
  },
  {
   "cell_type": "code",
   "execution_count": 25,
   "metadata": {},
   "outputs": [
    {
     "name": "stdout",
     "output_type": "stream",
     "text": [
      "a moderate bike\n",
      "elif block activated\n"
     ]
    }
   ],
   "source": [
    "a = 15\n",
    "b = 20\n",
    "c = 30\n",
    "bike_price = 18\n",
    "if bike_price < a:\n",
    "    print(\"a cheaper bike\")\n",
    "    print(\"if block activated\")\n",
    "elif bike_price >= a and bike_price <=b: \n",
    "    print(\"a moderate bike\")\n",
    "    print(\"elif block activated\")\n",
    "elif bike_price > b and bike_price <= c:\n",
    "    print(\"a expensive bike\")\n",
    "    print(\"elif block activated\")\n",
    "else: \n",
    "    print(\"a very expensive bike\")\n",
    "    print(\"else block activated\")"
   ]
  },
  {
   "cell_type": "markdown",
   "metadata": {},
   "source": [
    "Nested elif"
   ]
  },
  {
   "cell_type": "code",
   "execution_count": null,
   "metadata": {},
   "outputs": [],
   "source": [
    "x=int(input(\"enter the number x=:\"))\n",
    "y=35\n",
    "z=45\n",
    "if x < y:\n",
    "    print (\"The first condition is true\")\n",
    "    if x < z:\n",
    "        print(\"both conditions are true\")\n",
    "    else: \n",
    "        print(\"the first condition is true, the second condition is false\")\n",
    "else: \n",
    "    print(\"the first condition is false\")"
   ]
  },
  {
   "cell_type": "markdown",
   "metadata": {},
   "source": [
    "In class exercise: create a input asking for age, then print statements based on:  \n",
    "if < 15 ->\"You are too young for this camping;  \n",
    "if >= 15 -> for age older than 20, \"You are in the senior group for this camping\"  \n",
    "if >= 15 -> for age less or equal to 20, \"You are in the junior group for this camping\""
   ]
  },
  {
   "cell_type": "markdown",
   "metadata": {},
   "source": [
    "IfElse Statement in Complex Data Types"
   ]
  },
  {
   "cell_type": "code",
   "execution_count": 26,
   "metadata": {},
   "outputs": [],
   "source": [
    "fruit_list=[\"apple\",\"orange\",\"grape\",\"banana\"]"
   ]
  },
  {
   "cell_type": "code",
   "execution_count": 27,
   "metadata": {},
   "outputs": [
    {
     "name": "stdout",
     "output_type": "stream",
     "text": [
      "Yes, grape is in the fruit list\n"
     ]
    }
   ],
   "source": [
    "if \"grape\" in fruit_list:\n",
    "    print(\"Yes, grape is in the fruit list\")\n",
    "else:\n",
    "    print(\"No, grape is not in the fruit list\")"
   ]
  },
  {
   "cell_type": "code",
   "execution_count": 29,
   "metadata": {},
   "outputs": [
    {
     "name": "stdout",
     "output_type": "stream",
     "text": [
      "No, grap is not in the fruit list\n"
     ]
    }
   ],
   "source": [
    "if \"grap\" in fruit_list:\n",
    "    print(\"Yes, grape is in the fruit list\")\n",
    "else:\n",
    "    print(\"No, grap is not in the fruit list\")"
   ]
  },
  {
   "cell_type": "markdown",
   "metadata": {},
   "source": [
    "Conversions:"
   ]
  },
  {
   "cell_type": "code",
   "execution_count": null,
   "metadata": {},
   "outputs": [],
   "source": []
  }
 ],
 "metadata": {
  "kernelspec": {
   "display_name": "Python 3",
   "language": "python",
   "name": "python3"
  },
  "language_info": {
   "codemirror_mode": {
    "name": "ipython",
    "version": 3
   },
   "file_extension": ".py",
   "mimetype": "text/x-python",
   "name": "python",
   "nbconvert_exporter": "python",
   "pygments_lexer": "ipython3",
   "version": "3.7.3"
  }
 },
 "nbformat": 4,
 "nbformat_minor": 2
}
