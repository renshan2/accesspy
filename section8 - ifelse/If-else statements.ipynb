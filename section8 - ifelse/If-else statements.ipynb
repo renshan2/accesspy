{
 "cells": [
  {
   "cell_type": "markdown",
   "metadata": {},
   "source": [
    "If statements with Primitive Data"
   ]
  },
  {
   "cell_type": "code",
   "execution_count": null,
   "metadata": {},
   "outputs": [],
   "source": [
    "if 10 < 15:\n",
    "    print(\"10 is less than 15\")"
   ]
  },
  {
   "cell_type": "code",
   "execution_count": null,
   "metadata": {},
   "outputs": [],
   "source": [
    "if 46 > 40+5:\n",
    "    print(\"46 is greater than 45\")"
   ]
  },
  {
   "cell_type": "code",
   "execution_count": null,
   "metadata": {
    "scrolled": true
   },
   "outputs": [],
   "source": [
    "if 46 > 40:\n",
    "print(\"46 is greater than 45\")"
   ]
  },
  {
   "cell_type": "code",
   "execution_count": null,
   "metadata": {},
   "outputs": [],
   "source": [
    "x = 65\n",
    "y = 25\n",
    "if x < y: \n",
    "    print(\"Value of x is less than the value of y\")"
   ]
  },
  {
   "cell_type": "code",
   "execution_count": null,
   "metadata": {},
   "outputs": [],
   "source": [
    "my_str = \"hello python world\""
   ]
  },
  {
   "cell_type": "code",
   "execution_count": null,
   "metadata": {},
   "outputs": [],
   "source": [
    "if \"python world\" in my_str:\n",
    "    print(\"Yes, 'python world' is in my_str\")"
   ]
  },
  {
   "cell_type": "markdown",
   "metadata": {},
   "source": [
    "Complex Data Type"
   ]
  },
  {
   "cell_type": "code",
   "execution_count": null,
   "metadata": {},
   "outputs": [],
   "source": [
    "list_students = [\"Ayden\",\"Gavin\",\"Ian\",\"Jose\",\"Jane\"]\n",
    "if \"Jose\" in list_students:\n",
    "    print(\"Jose is a student\")"
   ]
  },
  {
   "cell_type": "code",
   "execution_count": null,
   "metadata": {},
   "outputs": [],
   "source": [
    "tuple_teachers = (\"Ayden\",\"Gavin\",\"Ian\",\"Jose\",\"Jane\")\n",
    "tuple_teachers"
   ]
  },
  {
   "cell_type": "code",
   "execution_count": null,
   "metadata": {},
   "outputs": [],
   "source": [
    "if \"Gavin\" in tuple_teachers:\n",
    "    print(\"Gavin is a teacher\")"
   ]
  },
  {
   "cell_type": "code",
   "execution_count": null,
   "metadata": {},
   "outputs": [],
   "source": [
    "student_scores = {\"Ayden\":60, \"Gavin\":85,\"Ian\":70,\"Jane\":82}\n",
    "student_scores"
   ]
  },
  {
   "cell_type": "code",
   "execution_count": null,
   "metadata": {},
   "outputs": [],
   "source": [
    "if \"Ian\" in student_scores:\n",
    "    print(\"Ian is a student score dictionary\")\n",
    "    print(\"and the score is:\", student_scores[\"Ian\"])"
   ]
  },
  {
   "cell_type": "markdown",
   "metadata": {},
   "source": [
    "Logic ops: and, or, not"
   ]
  },
  {
   "cell_type": "code",
   "execution_count": null,
   "metadata": {},
   "outputs": [],
   "source": [
    "a = 60\n",
    "b = 15"
   ]
  },
  {
   "cell_type": "code",
   "execution_count": null,
   "metadata": {},
   "outputs": [],
   "source": [
    "if a > b and true:\n",
    "    print(\"a is greater than b\")"
   ]
  },
  {
   "cell_type": "code",
   "execution_count": null,
   "metadata": {},
   "outputs": [],
   "source": [
    "if not (a < b):\n",
    "    print(\"a is greater than b\")"
   ]
  },
  {
   "cell_type": "code",
   "execution_count": null,
   "metadata": {},
   "outputs": [],
   "source": [
    "if a > b:\n",
    "    print(\"a is greater than b\")\n",
    "else: \n",
    "    print(\"a is not greater than b\")"
   ]
  },
  {
   "cell_type": "code",
   "execution_count": null,
   "metadata": {},
   "outputs": [],
   "source": [
    "num = 50\n",
    "print(\"num before expression: \", num)\n",
    "num = num - 20 if num > 20 else num + 20\n",
    "print(\"num before expression: \", num)"
   ]
  },
  {
   "cell_type": "markdown",
   "metadata": {},
   "source": [
    "In class exercise: write a if-else statement with the indentation"
   ]
  },
  {
   "cell_type": "code",
   "execution_count": null,
   "metadata": {},
   "outputs": [],
   "source": [
    "a = 15\n",
    "b = 20\n",
    "if a > b:\n",
    "    print(\"15 is greater than 20\")\n",
    "    print(\"if block activated\")\n",
    "elif a < b: \n",
    "    print(\"15 is less than 20\")\n",
    "    print(\"elif block activated\")\n",
    "else: \n",
    "    print(\"They aer equal\")\n",
    "    print(\"else block activated\")"
   ]
  },
  {
   "cell_type": "markdown",
   "metadata": {},
   "source": [
    "Multiple elif"
   ]
  },
  {
   "cell_type": "code",
   "execution_count": null,
   "metadata": {},
   "outputs": [],
   "source": [
    "a = 15\n",
    "b = 20\n",
    "c = 30\n",
    "bike_price = 18\n",
    "if bike_price < a:\n",
    "    print(\"a cheaper bike\")\n",
    "    print(\"if block activated\")\n",
    "elif bike_price >= a and bike_price <=b: \n",
    "    print(\"a moderate bike\")\n",
    "    print(\"elif block activated\")\n",
    "elif bike_price > b and bike_price <= c:\n",
    "    print(\"a expensive bike\")\n",
    "    print(\"elif block activated\")\n",
    "else: \n",
    "    print(\"a very expensive bike\")\n",
    "    print(\"else block activated\")"
   ]
  },
  {
   "cell_type": "markdown",
   "metadata": {},
   "source": [
    "Nested elif"
   ]
  },
  {
   "cell_type": "code",
   "execution_count": null,
   "metadata": {},
   "outputs": [],
   "source": [
    "x=int(input(\"enter the number x=:\"))\n",
    "y=35\n",
    "z=45\n",
    "if x < y:\n",
    "    print (\"The first condition is true\")\n",
    "    if x < z:\n",
    "        print(\"both conditions are true\")\n",
    "    else: \n",
    "        print(\"the first condition is true, the second condition is false\")\n",
    "else: \n",
    "    print(\"the first condition is false\")"
   ]
  },
  {
   "cell_type": "markdown",
   "metadata": {},
   "source": [
    "In class exercise: create a input asking for age, then print statements based on:  \n",
    "if < 15 ->\"You are too young for this camping;  \n",
    "if >= 15 -> for age older than 20, \"You are in the senior group for this camping\"  \n",
    "if >= 15 -> for age less or equal to 20, \"You are in the junior group for this camping\""
   ]
  },
  {
   "cell_type": "markdown",
   "metadata": {},
   "source": [
    "IfElese Statement in Complex Data Types"
   ]
  },
  {
   "cell_type": "code",
   "execution_count": null,
   "metadata": {},
   "outputs": [],
   "source": [
    "fruit_list=[\"apple\",\"orange\",\"grape\",\"banana\"]"
   ]
  },
  {
   "cell_type": "code",
   "execution_count": null,
   "metadata": {},
   "outputs": [],
   "source": [
    "if \"grap\" in fruit_list:\n",
    "    print(\"Yes, grape is in the fruit list\")\n",
    "else:\n",
    "    print(\"No, grape is not in the fruit list\")"
   ]
  },
  {
   "cell_type": "markdown",
   "metadata": {},
   "source": [
    "Conversions:"
   ]
  },
  {
   "cell_type": "code",
   "execution_count": null,
   "metadata": {},
   "outputs": [],
   "source": [
    "type(66)"
   ]
  },
  {
   "cell_type": "code",
   "execution_count": null,
   "metadata": {},
   "outputs": [],
   "source": [
    "float(66)"
   ]
  },
  {
   "cell_type": "code",
   "execution_count": null,
   "metadata": {},
   "outputs": [],
   "source": [
    "int(390.8)"
   ]
  },
  {
   "cell_type": "code",
   "execution_count": null,
   "metadata": {},
   "outputs": [],
   "source": [
    "int('12')"
   ]
  },
  {
   "cell_type": "code",
   "execution_count": null,
   "metadata": {},
   "outputs": [],
   "source": [
    "my_str = str(12345.45)\n",
    "my_str"
   ]
  },
  {
   "cell_type": "code",
   "execution_count": null,
   "metadata": {},
   "outputs": [],
   "source": [
    "type(my_str)"
   ]
  },
  {
   "cell_type": "markdown",
   "metadata": {},
   "source": [
    "In class exercise:   \n",
    "    input a number  \n",
    "    add by 10  \n",
    "    print out the result"
   ]
  },
  {
   "cell_type": "markdown",
   "metadata": {},
   "source": [
    "Conversions with Complex Data Type"
   ]
  },
  {
   "cell_type": "code",
   "execution_count": null,
   "metadata": {},
   "outputs": [],
   "source": [
    "num1 = \"500\"\n",
    "num2 = \"10\"\n",
    "remaining_num = num1 + num2\n",
    "remaining_num"
   ]
  },
  {
   "cell_type": "code",
   "execution_count": null,
   "metadata": {},
   "outputs": [],
   "source": [
    "remaining_num = num1 - num2\n",
    "remaining_num"
   ]
  },
  {
   "cell_type": "code",
   "execution_count": null,
   "metadata": {},
   "outputs": [],
   "source": [
    "value_str = \"python world\"\n",
    "value_list = list(value_str)\n",
    "value_list"
   ]
  },
  {
   "cell_type": "code",
   "execution_count": null,
   "metadata": {},
   "outputs": [],
   "source": []
  }
 ],
 "metadata": {
  "kernelspec": {
   "display_name": "Python 3",
   "language": "python",
   "name": "python3"
  },
  "language_info": {
   "codemirror_mode": {
    "name": "ipython",
    "version": 3
   },
   "file_extension": ".py",
   "mimetype": "text/x-python",
   "name": "python",
   "nbconvert_exporter": "python",
   "pygments_lexer": "ipython3",
   "version": "3.7.4"
  }
 },
 "nbformat": 4,
 "nbformat_minor": 2
}
