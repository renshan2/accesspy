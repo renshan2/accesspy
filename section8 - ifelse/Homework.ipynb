{
 "cells": [
  {
   "cell_type": "markdown",
   "metadata": {},
   "source": [
    "HW:   \n",
    "1. find out how to convert a list to a dictionary data type\n",
    "2. student_scores = {\"Ayden\":60, \"Gavin\":85,\"Ian\":70,\"Jane\":82, \"James\":70}\n",
    "    How to find the keys based on a value of 70?  \n",
    "3. {\"renshan\":\"owner\", \"michael\":\"reader\"} people not on the list (\"not allowed\")\n",
    "    input a name, and display the result."
   ]
  },
  {
   "cell_type": "code",
   "execution_count": null,
   "metadata": {},
   "outputs": [],
   "source": []
  }
 ],
 "metadata": {
  "kernelspec": {
   "display_name": "Python 3",
   "language": "python",
   "name": "python3"
  },
  "language_info": {
   "codemirror_mode": {
    "name": "ipython",
    "version": 3
   },
   "file_extension": ".py",
   "mimetype": "text/x-python",
   "name": "python",
   "nbconvert_exporter": "python",
   "pygments_lexer": "ipython3",
   "version": "3.7.3"
  }
 },
 "nbformat": 4,
 "nbformat_minor": 2
}
