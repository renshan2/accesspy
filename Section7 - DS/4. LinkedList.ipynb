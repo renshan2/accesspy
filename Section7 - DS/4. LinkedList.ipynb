{
 "cells": [
  {
   "cell_type": "markdown",
   "metadata": {},
   "source": [
    "Linked List Nodes\n",
    "\n",
    "https://www.geeksforgeeks.org/linked-list-set-1-introduction/\n"
   ]
  },
  {
   "cell_type": "code",
   "execution_count": 1,
   "metadata": {},
   "outputs": [],
   "source": [
    "class Node: \n",
    "    def __init__(self, dataval=None, nextval=None): \n",
    "        self.dataval = dataval \n",
    "        self.nextval = nextval \n",
    "        \n",
    "    def __repr__(self): \n",
    "        return repr(self.dataval)"
   ]
  },
  {
   "cell_type": "code",
   "execution_count": 38,
   "metadata": {},
   "outputs": [],
   "source": [
    "class LinkedList: \n",
    "    def __init__(self): \n",
    "        ### Creating a new single-linked list. ###\n",
    "        self.head = None\n",
    "    \n",
    "    def __repr__(self): \n",
    "        ### Creating a string representation of the data in a list ###\n",
    "        nodes = [] \n",
    "        curr = self.head \n",
    "        \n",
    "        while curr: \n",
    "            nodes.append(repr(curr)) \n",
    "            curr = curr.nextval \n",
    "        \n",
    "        return '[' + '->'.join(nodes) + ']'\n",
    "    \n",
    "    def prepend(self, dataval): \n",
    "        ### inset a new element at the beginning of the list ###\n",
    "        self.head = Node(dataval=dataval, nextval=self.head)\n",
    "        \n",
    "    def append(self, dataval): \n",
    "        ### Insert a new element at the end of the list ###\n",
    "        if not self.head: \n",
    "            self.head = Node(dataval=dataval) \n",
    "            return \n",
    "        curr = self.head \n",
    "        while curr.nextval: \n",
    "            curr = curr.nextval \n",
    "            \n",
    "        curr.nextval = Node(dataval=dataval)\n",
    "        \n",
    "    def add_after(self, middle_dataval, dataval): \n",
    "        ### Insert a new element after the node with middle_dataval. ###\n",
    "        if middle_dataval is None: \n",
    "            print('Data to insert after not specified') \n",
    "            return \n",
    "        curr1 = self.head \n",
    "        while curr2 and curr2.dataval != middle_dataval:\n",
    "            curr2 = curr1.nextval \n",
    "            \n",
    "        new_node = Node(dataval = dataval) \n",
    "        \n",
    "        new_node.nextval = curr2 \n",
    "        curr1.nextval = new_node\n",
    "        \n",
    "    def find(self, data): \n",
    "        \"\"\" Search for the first element with 'dataval' marching\n",
    "        'data'. Return the element or 'None' if not found \"\"\"\n",
    "        curr = self.head \n",
    "        \n",
    "        while curr and curr.dataval != data: \n",
    "            curr = curr.nextval \n",
    "        \n",
    "        return curr\n",
    "    \n",
    "    def remove(self, data): \n",
    "        ### Remove the first occurrence of 'data' in the list. ###\n",
    "        curr = self.head \n",
    "        prev = None \n",
    "        while curr and curr.dataval != data: \n",
    "            prev = curr \n",
    "            curr = curr.nextval \n",
    "            \n",
    "        if prev is None: \n",
    "            self.head = curr.nextval \n",
    "        elif curr: \n",
    "            prev.nextval = curr.nextval \n",
    "            curr.nextval = None\n",
    "    \n",
    "    def reverse(self): \n",
    "        \"\"\"reverse the list in-place\"\"\"\n",
    "        curr = self.head \n",
    "        \n",
    "        prev_node = None \n",
    "        next_node = None \n",
    "        \n",
    "        while curr: \n",
    "            nextval = curr.nextval \n",
    "            curr.nextval = prev_node \n",
    "            prev_node = curr \n",
    "            curr = nextval \n",
    "            \n",
    "        self.head = prev_node\n",
    "    \n",
    "    def reverse_recursive(self):\n",
    "        def recursion(curr, prev): \n",
    "            if not curr: \n",
    "                return prev \n",
    "            nextval = curr.nextval \n",
    "            curr.nextval = prev \n",
    "            prev = curr \n",
    "            curr = nextval \n",
    "\n",
    "            return recursion(curr, prev) \n",
    "    \n",
    "        self.head = recursion(curr=self.head, prev=None)\n",
    "    \n",
    "    def count_nodes(self): \n",
    "        if (self.head == None): \n",
    "            return 0 \n",
    "        else: \n",
    "            curr = self.head \n",
    "            count = 0 \n",
    "            while (curr != None): \n",
    "                curr = curr.nextval \n",
    "                count += 1 \n",
    "        return count"
   ]
  },
  {
   "cell_type": "code",
   "execution_count": 39,
   "metadata": {},
   "outputs": [],
   "source": [
    "numbers = LinkedList()"
   ]
  },
  {
   "cell_type": "code",
   "execution_count": 40,
   "metadata": {},
   "outputs": [
    {
     "data": {
      "text/plain": [
       "[]"
      ]
     },
     "execution_count": 40,
     "metadata": {},
     "output_type": "execute_result"
    }
   ],
   "source": [
    "numbers"
   ]
  },
  {
   "cell_type": "code",
   "execution_count": 41,
   "metadata": {},
   "outputs": [
    {
     "data": {
      "text/plain": [
       "['two'->'three']"
      ]
     },
     "execution_count": 41,
     "metadata": {},
     "output_type": "execute_result"
    }
   ],
   "source": [
    "numbers.append(\"two\") \n",
    "numbers.append(\"three\") \n",
    "numbers"
   ]
  },
  {
   "cell_type": "code",
   "execution_count": 42,
   "metadata": {},
   "outputs": [],
   "source": [
    "numbers.append(\"four\") \n",
    "numbers.append(\"five\")\n",
    "numbers.append(\"seven\")"
   ]
  },
  {
   "cell_type": "code",
   "execution_count": 43,
   "metadata": {},
   "outputs": [
    {
     "data": {
      "text/plain": [
       "['two'->'three'->'four'->'five'->'seven']"
      ]
     },
     "execution_count": 43,
     "metadata": {},
     "output_type": "execute_result"
    }
   ],
   "source": [
    "numbers"
   ]
  },
  {
   "cell_type": "code",
   "execution_count": 44,
   "metadata": {},
   "outputs": [],
   "source": [
    "numbers.prepend(\"one\")"
   ]
  },
  {
   "cell_type": "code",
   "execution_count": 45,
   "metadata": {},
   "outputs": [
    {
     "data": {
      "text/plain": [
       "['one'->'two'->'three'->'four'->'five'->'seven']"
      ]
     },
     "execution_count": 45,
     "metadata": {},
     "output_type": "execute_result"
    }
   ],
   "source": [
    "numbers"
   ]
  },
  {
   "cell_type": "code",
   "execution_count": 46,
   "metadata": {},
   "outputs": [
    {
     "data": {
      "text/plain": [
       "['one'->'two'->'three'->'four'->'five'->'six'->'seven']"
      ]
     },
     "execution_count": 46,
     "metadata": {},
     "output_type": "execute_result"
    }
   ],
   "source": [
    "numbers.add_after(\"five\",\"six\")\n",
    "numbers"
   ]
  },
  {
   "cell_type": "code",
   "execution_count": 47,
   "metadata": {},
   "outputs": [
    {
     "data": {
      "text/plain": [
       "['seven'->'six'->'five'->'four'->'three'->'two'->'one']"
      ]
     },
     "execution_count": 47,
     "metadata": {},
     "output_type": "execute_result"
    }
   ],
   "source": [
    "numbers.reverse()\n",
    "numbers"
   ]
  },
  {
   "cell_type": "code",
   "execution_count": 48,
   "metadata": {},
   "outputs": [
    {
     "data": {
      "text/plain": [
       "['one'->'two'->'three'->'four'->'five'->'six'->'seven']"
      ]
     },
     "execution_count": 48,
     "metadata": {},
     "output_type": "execute_result"
    }
   ],
   "source": [
    "numbers.reverse_recursive()\n",
    "numbers"
   ]
  },
  {
   "cell_type": "code",
   "execution_count": 49,
   "metadata": {},
   "outputs": [
    {
     "data": {
      "text/plain": [
       "['two'->'three'->'four'->'five'->'six'->'seven']"
      ]
     },
     "execution_count": 49,
     "metadata": {},
     "output_type": "execute_result"
    }
   ],
   "source": [
    "numbers.remove(\"one\")\n",
    "numbers"
   ]
  },
  {
   "cell_type": "code",
   "execution_count": 37,
   "metadata": {},
   "outputs": [
    {
     "data": {
      "text/plain": [
       "7"
      ]
     },
     "execution_count": 37,
     "metadata": {},
     "output_type": "execute_result"
    }
   ],
   "source": [
    "numbers.count_nodes()"
   ]
  },
  {
   "cell_type": "code",
   "execution_count": null,
   "metadata": {},
   "outputs": [],
   "source": []
  }
 ],
 "metadata": {
  "kernelspec": {
   "display_name": "Python 3",
   "language": "python",
   "name": "python3"
  },
  "language_info": {
   "codemirror_mode": {
    "name": "ipython",
    "version": 3
   },
   "file_extension": ".py",
   "mimetype": "text/x-python",
   "name": "python",
   "nbconvert_exporter": "python",
   "pygments_lexer": "ipython3",
   "version": "3.7.4"
  }
 },
 "nbformat": 4,
 "nbformat_minor": 2
}
