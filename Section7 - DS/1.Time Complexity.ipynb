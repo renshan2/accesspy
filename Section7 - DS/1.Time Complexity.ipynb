{
 "cells": [
  {
   "cell_type": "code",
   "execution_count": 21,
   "metadata": {},
   "outputs": [
    {
     "name": "stdout",
     "output_type": "stream",
     "text": [
      "Enter an integer: 5\n",
      "2\n",
      "3\n",
      "5\n"
     ]
    }
   ],
   "source": [
    "Max = int(input(\"Enter an integer: \"))\n",
    "num = 2\n",
    "print(num)\n",
    "while num < Max + 1:\n",
    "    i = 2\n",
    "    while i < num:\n",
    "        if (num % i) == 0:\n",
    "            break\n",
    "        else:\n",
    "            if i == num-1:\n",
    "                print(num)\n",
    "        i += 1\n",
    "    num += 1\n"
   ]
  },
  {
   "cell_type": "code",
   "execution_count": 17,
   "metadata": {},
   "outputs": [
    {
     "name": "stdout",
     "output_type": "stream",
     "text": [
      "Enter an interger: 4\n",
      "[3]\n"
     ]
    }
   ],
   "source": [
    "Max_num = int(input(\"Enter an interger: \"))\n",
    "All_number = list(range(2,Max_num))\n",
    "All_prime = []\n",
    "All_number = All_number[1:Max_num]\n",
    "while len(All_number)>0:\n",
    "    prime = All_number[0]\n",
    "    All_prime.append(prime)\n",
    "    for num in All_number:\n",
    "        if num % prime == 0:\n",
    "            All_number.remove(num)\n",
    "print(All_prime)\n"
   ]
  },
  {
   "cell_type": "code",
   "execution_count": null,
   "metadata": {},
   "outputs": [],
   "source": [
    "Max_num 4 | 0 | 1 | 2 | 3 \n",
    "All_number\n",
    "All_prime \n",
    "prime "
   ]
  },
  {
   "cell_type": "code",
   "execution_count": 2,
   "metadata": {},
   "outputs": [
    {
     "name": "stdout",
     "output_type": "stream",
     "text": [
      "Input the maximum number:1000\n",
      "2\n",
      "3\n",
      "5\n",
      "7\n",
      "11\n",
      "13\n",
      "17\n",
      "19\n",
      "23\n",
      "29\n",
      "31\n",
      "37\n",
      "41\n",
      "43\n",
      "47\n",
      "53\n",
      "59\n",
      "61\n",
      "67\n",
      "71\n",
      "73\n",
      "79\n",
      "83\n",
      "89\n",
      "97\n",
      "101\n",
      "103\n",
      "107\n",
      "109\n",
      "113\n",
      "127\n",
      "131\n",
      "137\n",
      "139\n",
      "149\n",
      "151\n",
      "157\n",
      "163\n",
      "167\n",
      "173\n",
      "179\n",
      "181\n",
      "191\n",
      "193\n",
      "197\n",
      "199\n",
      "211\n",
      "223\n",
      "227\n",
      "229\n",
      "233\n",
      "239\n",
      "241\n",
      "251\n",
      "257\n",
      "263\n",
      "269\n",
      "271\n",
      "277\n",
      "281\n",
      "283\n",
      "293\n",
      "307\n",
      "311\n",
      "313\n",
      "317\n",
      "331\n",
      "337\n",
      "347\n",
      "349\n",
      "353\n",
      "359\n",
      "367\n",
      "373\n",
      "379\n",
      "383\n",
      "389\n",
      "397\n",
      "401\n",
      "409\n",
      "419\n",
      "421\n",
      "431\n",
      "433\n",
      "439\n",
      "443\n",
      "449\n",
      "457\n",
      "461\n",
      "463\n",
      "467\n",
      "479\n",
      "487\n",
      "491\n",
      "499\n",
      "503\n",
      "509\n",
      "521\n",
      "523\n",
      "541\n",
      "547\n",
      "557\n",
      "563\n",
      "569\n",
      "571\n",
      "577\n",
      "587\n",
      "593\n",
      "599\n",
      "601\n",
      "607\n",
      "613\n",
      "617\n",
      "619\n",
      "631\n",
      "641\n",
      "643\n",
      "647\n",
      "653\n",
      "659\n",
      "661\n",
      "673\n",
      "677\n",
      "683\n",
      "691\n",
      "701\n",
      "709\n",
      "719\n",
      "727\n",
      "733\n",
      "739\n",
      "743\n",
      "751\n",
      "757\n",
      "761\n",
      "769\n",
      "773\n",
      "787\n",
      "797\n",
      "809\n",
      "811\n",
      "821\n",
      "823\n",
      "827\n",
      "829\n",
      "839\n",
      "853\n",
      "857\n",
      "859\n",
      "863\n",
      "877\n",
      "881\n",
      "883\n",
      "887\n",
      "907\n",
      "911\n",
      "919\n",
      "929\n",
      "937\n",
      "941\n",
      "947\n",
      "953\n",
      "967\n",
      "971\n",
      "977\n",
      "983\n",
      "991\n",
      "997\n",
      "78022\n"
     ]
    }
   ],
   "source": [
    "max_n = int(input(\"Input the maximum number:\"))\n",
    "num = 2 # skip 1\n",
    "iteration=0\n",
    "while num < (max_n +1):\n",
    "    prime = 1\n",
    "    d = 2\n",
    "    while d < num:\n",
    "        iteration += 1\n",
    "        if num % d == 0:\n",
    "            prime = 0\n",
    "            break\n",
    "        d = d + 1\n",
    "    if prime == 1:\n",
    "        print(num)\n",
    "    num = num +1\n",
    "print(iteration)"
   ]
  },
  {
   "cell_type": "code",
   "execution_count": 7,
   "metadata": {},
   "outputs": [
    {
     "name": "stdout",
     "output_type": "stream",
     "text": [
      "Missandei\n"
     ]
    }
   ],
   "source": [
    "name = (\"Missandei\", \"Samwell\", \"Jorah\", \"Brienne\", \"Margaery\")\n",
    "i = 0\n",
    "m = 0\n",
    "while i < len(name):\n",
    "    if len(name[i])>len(name[m]):\n",
    "           m = i\n",
    "    i += 1\n",
    "print(name[m])\n"
   ]
  },
  {
   "cell_type": "code",
   "execution_count": 6,
   "metadata": {},
   "outputs": [
    {
     "name": "stdout",
     "output_type": "stream",
     "text": [
      "Missandei\n"
     ]
    }
   ],
   "source": [
    "character_name = (\"Missandei\", \"Samwell\", \"Jorah\", \"Brienne\", \"Margaery\")\n",
    "\n",
    "character_name_list = list(character_name)\n",
    "\n",
    "max_string = max(character_name_list, key = len)\n",
    "   \n",
    "print(max_string)\n"
   ]
  },
  {
   "cell_type": "code",
   "execution_count": 5,
   "metadata": {},
   "outputs": [
    {
     "name": "stdout",
     "output_type": "stream",
     "text": [
      "Missandei\n"
     ]
    }
   ],
   "source": [
    "character_name = (\"Missandei\", \"Samwell\", \"Jorah\", \"Brienne\", \"Margaery\")\n",
    "result = \"\"\n",
    "for i in range(0,len(character_name)):\n",
    "    if len(character_name[i]) > len(result):\n",
    "        result = character_name[i]\n",
    "print(result)"
   ]
  },
  {
   "cell_type": "code",
   "execution_count": 22,
   "metadata": {},
   "outputs": [],
   "source": [
    "def addition(num1,num2):\n",
    "    total = num1 + num2\n",
    "    print(\"The sume of %d and %d is %d\" % (num1,num2,total))"
   ]
  },
  {
   "cell_type": "code",
   "execution_count": 23,
   "metadata": {},
   "outputs": [
    {
     "name": "stdout",
     "output_type": "stream",
     "text": [
      "The sume of 10 and 4 is 14\n"
     ]
    }
   ],
   "source": [
    "addition(10,4)"
   ]
  },
  {
   "cell_type": "code",
   "execution_count": 33,
   "metadata": {},
   "outputs": [],
   "source": [
    "total = 0\n",
    "def addition(num1,num2):\n",
    "    num_iteration = 0\n",
    "    total = num1 + num2\n",
    "    num_iteration += 1\n",
    "    print(\"The sume of %d and %d is %d\\n Total number of iterations = %d\" % (num1,num2,total, num_iteration))"
   ]
  },
  {
   "cell_type": "code",
   "execution_count": 34,
   "metadata": {},
   "outputs": [
    {
     "name": "stdout",
     "output_type": "stream",
     "text": [
      "The sume of 10 and 4 is 14\n",
      " Total number of iterations = 1\n"
     ]
    }
   ],
   "source": [
    "addition(10,4)"
   ]
  },
  {
   "cell_type": "code",
   "execution_count": 31,
   "metadata": {},
   "outputs": [
    {
     "data": {
      "text/plain": [
       "0"
      ]
     },
     "execution_count": 31,
     "metadata": {},
     "output_type": "execute_result"
    }
   ],
   "source": [
    "total"
   ]
  },
  {
   "cell_type": "code",
   "execution_count": 35,
   "metadata": {},
   "outputs": [],
   "source": [
    "def check_oddeven(number): \n",
    "    count = 0 \n",
    "    num_iterations = 0 \n",
    "    \n",
    "    if (number%2 == 0): \n",
    "        num_iterations += 1 \n",
    "        print(\"%d is an even number\" % number) \n",
    "    else: \n",
    "        num_iterations += 1 \n",
    "        print(\"%d is an odd number\" % number) \n",
    "        \n",
    "    print(\"Total number of iteration = %d \" %(num_iterations))"
   ]
  },
  {
   "cell_type": "code",
   "execution_count": 36,
   "metadata": {},
   "outputs": [
    {
     "name": "stdout",
     "output_type": "stream",
     "text": [
      "5 is an odd number\n",
      "Total number of iteration = 1 \n"
     ]
    }
   ],
   "source": [
    "check_oddeven(5)"
   ]
  },
  {
   "cell_type": "code",
   "execution_count": 37,
   "metadata": {},
   "outputs": [],
   "source": [
    "def find_square(number): \n",
    "    num_iterations = 0 \n",
    "    square = number**2 \n",
    "    num_iterations += 1 \n",
    "    print(\"Square of %d is %d \\nTotal number of iteration = %d \" % (number, square, num_iterations))"
   ]
  },
  {
   "cell_type": "code",
   "execution_count": 38,
   "metadata": {},
   "outputs": [
    {
     "name": "stdout",
     "output_type": "stream",
     "text": [
      "Square of 2 is 4 \n",
      "Total number of iteration = 1 \n"
     ]
    }
   ],
   "source": [
    "find_square(2)"
   ]
  },
  {
   "cell_type": "code",
   "execution_count": 40,
   "metadata": {},
   "outputs": [
    {
     "name": "stdout",
     "output_type": "stream",
     "text": [
      "Square of 10000 is 100000000 \n",
      "Total number of iteration = 1 \n"
     ]
    }
   ],
   "source": [
    "find_square(10000)"
   ]
  },
  {
   "cell_type": "code",
   "execution_count": 41,
   "metadata": {},
   "outputs": [],
   "source": [
    "def check_prime1(number): \n",
    "    num_iterations = 0 \n",
    "    for i in range(2, number): \n",
    "        num_iterations += 1 \n",
    "        \n",
    "        if number%i == 0: \n",
    "            print(\"%d is not a prime number \\nTotal number of iterations = %d\" %(number, num_iterations)) \n",
    "            return \n",
    "        \n",
    "    print(\"%d is a prime number \\nTotal number of iterations = %d\" %(number, num_iterations))"
   ]
  },
  {
   "cell_type": "code",
   "execution_count": 42,
   "metadata": {},
   "outputs": [
    {
     "name": "stdout",
     "output_type": "stream",
     "text": [
      "1 is a prime number \n",
      "Total number of iterations = 0\n"
     ]
    }
   ],
   "source": [
    "check_prime1(1)"
   ]
  },
  {
   "cell_type": "code",
   "execution_count": 43,
   "metadata": {},
   "outputs": [
    {
     "name": "stdout",
     "output_type": "stream",
     "text": [
      "49 is not a prime number \n",
      "Total number of iterations = 6\n"
     ]
    }
   ],
   "source": [
    "check_prime1(49)"
   ]
  },
  {
   "cell_type": "code",
   "execution_count": 44,
   "metadata": {
    "scrolled": true
   },
   "outputs": [
    {
     "name": "stdout",
     "output_type": "stream",
     "text": [
      "193 is a prime number \n",
      "Total number of iterations = 191\n"
     ]
    }
   ],
   "source": [
    "check_prime1(193)"
   ]
  },
  {
   "cell_type": "code",
   "execution_count": 45,
   "metadata": {},
   "outputs": [
    {
     "name": "stdout",
     "output_type": "stream",
     "text": [
      "1847 is a prime number \n",
      "Total number of iterations = 1845\n"
     ]
    }
   ],
   "source": [
    "check_prime1(1847)"
   ]
  },
  {
   "cell_type": "code",
   "execution_count": 46,
   "metadata": {},
   "outputs": [],
   "source": [
    "def check_prime2(number): \n",
    "    num_iterations = 0 \n",
    "    mid_point = int(number / 2) \n",
    "    for i in range(2, mid_point): \n",
    "        num_iterations += 1 \n",
    "        if number%i == 0: \n",
    "            print(\"%d is not a prime number \\nTotal number of iterations = %d\" %(number, num_iterations)) \n",
    "            return \n",
    "    print(\"%d is a prime number \\nTotal number of iterations = %d\" %(number, num_iterations))"
   ]
  },
  {
   "cell_type": "code",
   "execution_count": 47,
   "metadata": {},
   "outputs": [
    {
     "name": "stdout",
     "output_type": "stream",
     "text": [
      "1 is a prime number \n",
      "Total number of iterations = 0\n"
     ]
    }
   ],
   "source": [
    "check_prime2(1)"
   ]
  },
  {
   "cell_type": "code",
   "execution_count": 48,
   "metadata": {},
   "outputs": [
    {
     "name": "stdout",
     "output_type": "stream",
     "text": [
      "49 is not a prime number \n",
      "Total number of iterations = 6\n"
     ]
    }
   ],
   "source": [
    "check_prime2(49)"
   ]
  },
  {
   "cell_type": "code",
   "execution_count": 49,
   "metadata": {},
   "outputs": [
    {
     "name": "stdout",
     "output_type": "stream",
     "text": [
      "193 is a prime number \n",
      "Total number of iterations = 94\n"
     ]
    }
   ],
   "source": [
    "check_prime2(193)"
   ]
  },
  {
   "cell_type": "code",
   "execution_count": 50,
   "metadata": {},
   "outputs": [
    {
     "name": "stdout",
     "output_type": "stream",
     "text": [
      "1847 is a prime number \n",
      "Total number of iterations = 921\n"
     ]
    }
   ],
   "source": [
    "check_prime2(1847)"
   ]
  },
  {
   "cell_type": "code",
   "execution_count": 51,
   "metadata": {},
   "outputs": [],
   "source": [
    "def find_maxval(num_list): \n",
    "    ## author: ckcck\n",
    "    maxval = num_list[0] \n",
    "    num_iterations = 0 \n",
    "    for i in range(len(num_list)): \n",
    "        num_iterations += 1 \n",
    "        if maxval < num_list[i]: \n",
    "            maxval = num_list[i] \n",
    "    print(\"Maximum value of the list = %d \\nTotal number of iterations = %d\" %(maxval, num_iterations))"
   ]
  },
  {
   "cell_type": "code",
   "execution_count": 52,
   "metadata": {},
   "outputs": [
    {
     "name": "stdout",
     "output_type": "stream",
     "text": [
      "Maximum value of the list = 123 \n",
      "Total number of iterations = 4\n"
     ]
    }
   ],
   "source": [
    "find_maxval([123, 67, 25, 79])"
   ]
  },
  {
   "cell_type": "code",
   "execution_count": 53,
   "metadata": {},
   "outputs": [
    {
     "name": "stdout",
     "output_type": "stream",
     "text": [
      "Maximum value of the list = 123 \n",
      "Total number of iterations = 6\n"
     ]
    }
   ],
   "source": [
    "find_maxval([67, 89, 123, 67, 25, 79])"
   ]
  },
  {
   "cell_type": "code",
   "execution_count": 54,
   "metadata": {},
   "outputs": [
    {
     "data": {
      "text/plain": [
       "12"
      ]
     },
     "execution_count": 54,
     "metadata": {},
     "output_type": "execute_result"
    }
   ],
   "source": [
    "list_1 = [67, 89, 12, 67, 25, 79, 10, 433, 6, 4, 90, 78]\n",
    "len(list_1)\n"
   ]
  },
  {
   "cell_type": "code",
   "execution_count": 55,
   "metadata": {},
   "outputs": [
    {
     "name": "stdout",
     "output_type": "stream",
     "text": [
      "Maximum value of the list = 433 \n",
      "Total number of iterations = 12\n"
     ]
    }
   ],
   "source": [
    "find_maxval(list_1)"
   ]
  },
  {
   "cell_type": "code",
   "execution_count": 56,
   "metadata": {},
   "outputs": [],
   "source": [
    "def find_factorial(number:int): \n",
    "    fact = 1 \n",
    "    num_iterations = 0 \n",
    "    if (number < 0 or type(number) != int): \n",
    "        print(\"Invalid number\") \n",
    "        return \n",
    "    for i in range(1, number+1): \n",
    "        fact = fact * i \n",
    "        num_iterations += 1 \n",
    "    print (\"The factorial of %d = %d \\nTotal number of iterations = %d\" %(number, fact, num_iterations))"
   ]
  },
  {
   "cell_type": "code",
   "execution_count": 57,
   "metadata": {},
   "outputs": [
    {
     "name": "stdout",
     "output_type": "stream",
     "text": [
      "The factorial of 1 = 1 \n",
      "Total number of iterations = 1\n"
     ]
    }
   ],
   "source": [
    "find_factorial(1)"
   ]
  },
  {
   "cell_type": "code",
   "execution_count": 58,
   "metadata": {},
   "outputs": [
    {
     "name": "stdout",
     "output_type": "stream",
     "text": [
      "The factorial of 8 = 40320 \n",
      "Total number of iterations = 8\n"
     ]
    }
   ],
   "source": [
    "find_factorial(8)"
   ]
  },
  {
   "cell_type": "code",
   "execution_count": 59,
   "metadata": {},
   "outputs": [
    {
     "name": "stdout",
     "output_type": "stream",
     "text": [
      "The factorial of 1050 = 1410188200745141400252996925676992827609427883860681102196565498836336759274700571301062342565763667730574384945641799898255183843797277503390234956935070394479008695945171075361751490266255689101148400638952696890761606725201668092011058223584197411362725808136521522042355331881040677201517524336650583177256411366707450357076114921552137231355444540586815705134573123811035652300829258848866779288445345880939714666466690931600352950947986039996432744118754275201288974846584827623137897792122234828866268708808373651276334848174069438274783771825876627128631153710955178645802336438821598373242525172486367974756812461614902930111917189057714749908028994429977492262359339566774968421933826661845573051906637774350159842777201017432451096856729583848901554363821690871963837317325736243872364148002548730698225622458872512196920911448958125730334065147981692621576246557948729307409911196659268977449824737887320133166571859768610902901473947123457650502571110106359050311523447786812407139365812881583625481044458877349531018685432954716465488394115659122958734526255536933591914359738150594232473711291251674238772555271930793815825985192385373959108468804902794091333308997906654387218990210896432316359969692946647542629459647405723220544167040523889230769503152154177529658591214286091920818334885793018545403374623359640495796839709709384014013012687979103444399633192318216277501509029976296018451103357572826768431048432485483904156377949766394422704783101532471054714207760435511464546800957250453788222377134546592645406967452675959535949763038875966331731971129199721214052529127807792669916640919732183579343359239597918703189536631735584104688709458017493330567389003035699210216919159335873580170482127718603055097898778534952746567262220574405875417584645973964359858336242322940751239914457356958486503721361054938154425602356741007273505642819375318812777259929805604278204113178492040885487253497253599744730743581176164725418840085566636342828519091247494824276253539056065078460524088183488674664479782491935751641451986001983862705359408369452209318497499455387591386320304376709778016052197826525984538725046076767350582105555907369126126599357472133535283786257752742361071712371083162246333227880188819486706970859272715412889313443305257503562357007473653496252819471178088373765780168140628517776493336902711979149445247736765162103192806316969933073702060508523674642586433795221440274867588588796999943822914833791154288328704000000000000000000000000000000000000000000000000000000000000000000000000000000000000000000000000000000000000000000000000000000000000000000000000000000000000000000000000000000000000000000000000000000000000000000000000000000000000000000000000000000000000000000000 \n",
      "Total number of iterations = 1050\n"
     ]
    }
   ],
   "source": [
    "find_factorial(1050)"
   ]
  },
  {
   "cell_type": "code",
   "execution_count": 60,
   "metadata": {},
   "outputs": [],
   "source": [
    "def two_for_loops(number): \n",
    "    total = 0 \n",
    "    num_iterations = 0 \n",
    "    for i in range(number): \n",
    "        num_iterations += 1 \n",
    "        total = total + i \n",
    "    for i in range(100): \n",
    "        num_iterations += 1 \n",
    "        total = total + i \n",
    "    print(\"Total iterations are %d\" % num_iterations)"
   ]
  },
  {
   "cell_type": "code",
   "execution_count": 61,
   "metadata": {},
   "outputs": [
    {
     "name": "stdout",
     "output_type": "stream",
     "text": [
      "Total iterations are 200\n"
     ]
    }
   ],
   "source": [
    "two_for_loops(100)"
   ]
  },
  {
   "cell_type": "code",
   "execution_count": 62,
   "metadata": {},
   "outputs": [
    {
     "name": "stdout",
     "output_type": "stream",
     "text": [
      "Total iterations are 1100\n"
     ]
    }
   ],
   "source": [
    "two_for_loops(1000)"
   ]
  },
  {
   "cell_type": "code",
   "execution_count": 63,
   "metadata": {},
   "outputs": [
    {
     "name": "stdout",
     "output_type": "stream",
     "text": [
      "Total iterations are 1000100\n"
     ]
    }
   ],
   "source": [
    "two_for_loops(1000000)"
   ]
  },
  {
   "cell_type": "code",
   "execution_count": 1,
   "metadata": {},
   "outputs": [],
   "source": [
    "def print_pairs(number_list): \n",
    "    num_iterations = 0 \n",
    "    n = len(number_list) \n",
    "    for i in range(n): \n",
    "        for j in range(n): \n",
    "            print(number_list[i], number_list[j]) \n",
    "            num_iterations += 1 \n",
    "    print(\"Total iterations are %d\" % num_iterations)"
   ]
  },
  {
   "cell_type": "code",
   "execution_count": 2,
   "metadata": {},
   "outputs": [
    {
     "name": "stdout",
     "output_type": "stream",
     "text": [
      "123 123\n",
      "123 67\n",
      "67 123\n",
      "67 67\n",
      "Total iterations are 4\n"
     ]
    }
   ],
   "source": [
    "print_pairs([123, 67])"
   ]
  },
  {
   "cell_type": "code",
   "execution_count": 64,
   "metadata": {},
   "outputs": [
    {
     "name": "stdout",
     "output_type": "stream",
     "text": [
      "123 123\n",
      "123 67\n",
      "123 25\n",
      "123 79\n",
      "67 123\n",
      "67 67\n",
      "67 25\n",
      "67 79\n",
      "25 123\n",
      "25 67\n",
      "25 25\n",
      "25 79\n",
      "79 123\n",
      "79 67\n",
      "79 25\n",
      "79 79\n",
      "Total iterations are 16\n"
     ]
    }
   ],
   "source": [
    "print_pairs([123, 67, 25, 79])"
   ]
  },
  {
   "cell_type": "code",
   "execution_count": 65,
   "metadata": {},
   "outputs": [],
   "source": [
    "def find_prime(lower, upper): \n",
    "    num_iterations = 0 \n",
    "    \n",
    "    for num in range(lower, upper): \n",
    "        for i in range(2, int(num / 2)): \n",
    "            num_iterations += 1        \n",
    "            if(num % i) == 0: \n",
    "                break \n",
    "        else: \n",
    "            print(num) \n",
    "    print(\"Total iterations are %d\" % num_iterations)"
   ]
  },
  {
   "cell_type": "code",
   "execution_count": 66,
   "metadata": {},
   "outputs": [
    {
     "name": "stdout",
     "output_type": "stream",
     "text": [
      "11\n",
      "13\n",
      "17\n",
      "19\n",
      "Total iterations are 27\n"
     ]
    }
   ],
   "source": [
    "find_prime(10, 20)"
   ]
  },
  {
   "cell_type": "code",
   "execution_count": 67,
   "metadata": {},
   "outputs": [
    {
     "name": "stdout",
     "output_type": "stream",
     "text": [
      "11\n",
      "13\n",
      "17\n",
      "19\n",
      "23\n",
      "29\n",
      "31\n",
      "37\n",
      "41\n",
      "43\n",
      "47\n",
      "53\n",
      "59\n",
      "61\n",
      "67\n",
      "71\n",
      "73\n",
      "79\n",
      "83\n",
      "89\n",
      "97\n",
      "101\n",
      "103\n",
      "107\n",
      "109\n",
      "113\n",
      "127\n",
      "131\n",
      "137\n",
      "139\n",
      "149\n",
      "151\n",
      "157\n",
      "163\n",
      "167\n",
      "173\n",
      "179\n",
      "181\n",
      "191\n",
      "193\n",
      "197\n",
      "199\n",
      "211\n",
      "223\n",
      "227\n",
      "229\n",
      "233\n",
      "239\n",
      "241\n",
      "251\n",
      "257\n",
      "263\n",
      "269\n",
      "271\n",
      "277\n",
      "281\n",
      "283\n",
      "293\n",
      "307\n",
      "311\n",
      "313\n",
      "317\n",
      "331\n",
      "337\n",
      "347\n",
      "349\n",
      "353\n",
      "359\n",
      "367\n",
      "373\n",
      "379\n",
      "383\n",
      "389\n",
      "397\n",
      "401\n",
      "409\n",
      "419\n",
      "421\n",
      "431\n",
      "433\n",
      "439\n",
      "443\n",
      "449\n",
      "457\n",
      "461\n",
      "463\n",
      "467\n",
      "479\n",
      "487\n",
      "491\n",
      "499\n",
      "503\n",
      "509\n",
      "521\n",
      "523\n",
      "541\n",
      "547\n",
      "557\n",
      "563\n",
      "569\n",
      "571\n",
      "577\n",
      "587\n",
      "593\n",
      "599\n",
      "601\n",
      "607\n",
      "613\n",
      "617\n",
      "619\n",
      "631\n",
      "641\n",
      "643\n",
      "647\n",
      "653\n",
      "659\n",
      "661\n",
      "673\n",
      "677\n",
      "683\n",
      "691\n",
      "701\n",
      "709\n",
      "719\n",
      "727\n",
      "733\n",
      "739\n",
      "743\n",
      "751\n",
      "757\n",
      "761\n",
      "769\n",
      "773\n",
      "787\n",
      "797\n",
      "809\n",
      "811\n",
      "821\n",
      "823\n",
      "827\n",
      "829\n",
      "839\n",
      "853\n",
      "857\n",
      "859\n",
      "863\n",
      "877\n",
      "881\n",
      "883\n",
      "887\n",
      "907\n",
      "911\n",
      "919\n",
      "929\n",
      "937\n",
      "941\n",
      "947\n",
      "953\n",
      "967\n",
      "971\n",
      "977\n",
      "983\n",
      "991\n",
      "997\n",
      "1009\n",
      "1013\n",
      "1019\n",
      "1021\n",
      "1031\n",
      "1033\n",
      "1039\n",
      "1049\n",
      "1051\n",
      "1061\n",
      "1063\n",
      "1069\n",
      "1087\n",
      "1091\n",
      "1093\n",
      "1097\n",
      "1103\n",
      "1109\n",
      "1117\n",
      "1123\n",
      "1129\n",
      "1151\n",
      "1153\n",
      "1163\n",
      "1171\n",
      "1181\n",
      "1187\n",
      "1193\n",
      "1201\n",
      "1213\n",
      "1217\n",
      "1223\n",
      "1229\n",
      "1231\n",
      "1237\n",
      "1249\n",
      "1259\n",
      "1277\n",
      "1279\n",
      "1283\n",
      "1289\n",
      "1291\n",
      "1297\n",
      "1301\n",
      "1303\n",
      "1307\n",
      "1319\n",
      "1321\n",
      "1327\n",
      "1361\n",
      "1367\n",
      "1373\n",
      "1381\n",
      "1399\n",
      "1409\n",
      "1423\n",
      "1427\n",
      "1429\n",
      "1433\n",
      "1439\n",
      "1447\n",
      "1451\n",
      "1453\n",
      "1459\n",
      "1471\n",
      "1481\n",
      "1483\n",
      "1487\n",
      "1489\n",
      "1493\n",
      "1499\n",
      "1511\n",
      "1523\n",
      "1531\n",
      "1543\n",
      "1549\n",
      "1553\n",
      "1559\n",
      "1567\n",
      "1571\n",
      "1579\n",
      "1583\n",
      "1597\n",
      "1601\n",
      "1607\n",
      "1609\n",
      "1613\n",
      "1619\n",
      "1621\n",
      "1627\n",
      "1637\n",
      "1657\n",
      "1663\n",
      "1667\n",
      "1669\n",
      "1693\n",
      "1697\n",
      "1699\n",
      "1709\n",
      "1721\n",
      "1723\n",
      "1733\n",
      "1741\n",
      "1747\n",
      "1753\n",
      "1759\n",
      "1777\n",
      "1783\n",
      "1787\n",
      "1789\n",
      "1801\n",
      "1811\n",
      "1823\n",
      "1831\n",
      "1847\n",
      "1861\n",
      "1867\n",
      "1871\n",
      "1873\n",
      "1877\n",
      "1879\n",
      "1889\n",
      "1901\n",
      "1907\n",
      "1913\n",
      "1931\n",
      "1933\n",
      "1949\n",
      "1951\n",
      "1973\n",
      "1979\n",
      "1987\n",
      "1993\n",
      "1997\n",
      "1999\n",
      "Total iterations are 143122\n"
     ]
    }
   ],
   "source": [
    "find_prime(10, 2000)"
   ]
  },
  {
   "cell_type": "code",
   "execution_count": 3,
   "metadata": {},
   "outputs": [],
   "source": [
    "def print_combinations(n, m): \n",
    "    num_iterations = 0 \n",
    "    for i in range(n): \n",
    "        for j in range(m): \n",
    "            print(i, j) \n",
    "            num_iterations += 1 \n",
    "    print(\"Total iterations are %d\" % num_iterations)"
   ]
  },
  {
   "cell_type": "code",
   "execution_count": 4,
   "metadata": {},
   "outputs": [
    {
     "name": "stdout",
     "output_type": "stream",
     "text": [
      "0 0\n",
      "0 1\n",
      "0 2\n",
      "0 3\n",
      "0 4\n",
      "0 5\n",
      "0 6\n",
      "0 7\n",
      "0 8\n",
      "0 9\n",
      "0 10\n",
      "0 11\n",
      "1 0\n",
      "1 1\n",
      "1 2\n",
      "1 3\n",
      "1 4\n",
      "1 5\n",
      "1 6\n",
      "1 7\n",
      "1 8\n",
      "1 9\n",
      "1 10\n",
      "1 11\n",
      "2 0\n",
      "2 1\n",
      "2 2\n",
      "2 3\n",
      "2 4\n",
      "2 5\n",
      "2 6\n",
      "2 7\n",
      "2 8\n",
      "2 9\n",
      "2 10\n",
      "2 11\n",
      "3 0\n",
      "3 1\n",
      "3 2\n",
      "3 3\n",
      "3 4\n",
      "3 5\n",
      "3 6\n",
      "3 7\n",
      "3 8\n",
      "3 9\n",
      "3 10\n",
      "3 11\n",
      "4 0\n",
      "4 1\n",
      "4 2\n",
      "4 3\n",
      "4 4\n",
      "4 5\n",
      "4 6\n",
      "4 7\n",
      "4 8\n",
      "4 9\n",
      "4 10\n",
      "4 11\n",
      "5 0\n",
      "5 1\n",
      "5 2\n",
      "5 3\n",
      "5 4\n",
      "5 5\n",
      "5 6\n",
      "5 7\n",
      "5 8\n",
      "5 9\n",
      "5 10\n",
      "5 11\n",
      "6 0\n",
      "6 1\n",
      "6 2\n",
      "6 3\n",
      "6 4\n",
      "6 5\n",
      "6 6\n",
      "6 7\n",
      "6 8\n",
      "6 9\n",
      "6 10\n",
      "6 11\n",
      "7 0\n",
      "7 1\n",
      "7 2\n",
      "7 3\n",
      "7 4\n",
      "7 5\n",
      "7 6\n",
      "7 7\n",
      "7 8\n",
      "7 9\n",
      "7 10\n",
      "7 11\n",
      "8 0\n",
      "8 1\n",
      "8 2\n",
      "8 3\n",
      "8 4\n",
      "8 5\n",
      "8 6\n",
      "8 7\n",
      "8 8\n",
      "8 9\n",
      "8 10\n",
      "8 11\n",
      "9 0\n",
      "9 1\n",
      "9 2\n",
      "9 3\n",
      "9 4\n",
      "9 5\n",
      "9 6\n",
      "9 7\n",
      "9 8\n",
      "9 9\n",
      "9 10\n",
      "9 11\n",
      "Total iterations are 120\n"
     ]
    }
   ],
   "source": [
    "print_combinations(10, 12)"
   ]
  },
  {
   "cell_type": "code",
   "execution_count": null,
   "metadata": {},
   "outputs": [],
   "source": []
  }
 ],
 "metadata": {
  "kernelspec": {
   "display_name": "Python 3",
   "language": "python",
   "name": "python3"
  },
  "language_info": {
   "codemirror_mode": {
    "name": "ipython",
    "version": 3
   },
   "file_extension": ".py",
   "mimetype": "text/x-python",
   "name": "python",
   "nbconvert_exporter": "python",
   "pygments_lexer": "ipython3",
   "version": "3.7.4"
  }
 },
 "nbformat": 4,
 "nbformat_minor": 2
}
