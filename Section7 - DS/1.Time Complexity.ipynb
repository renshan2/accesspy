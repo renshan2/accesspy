{
 "cells": [
  {
   "cell_type": "code",
   "execution_count": 1,
   "metadata": {
    "tags": []
   },
   "outputs": [
    {
     "output_type": "stream",
     "name": "stdout",
     "text": "2\n3\n5\n7\n11\n"
    }
   ],
   "source": [
    "Max = int(input(\"Enter an integer: \"))\n",
    "num = 2\n",
    "print(num)\n",
    "while num < Max + 1:\n",
    "    i = 2\n",
    "    while i < num:\n",
    "        if (num % i) == 0:\n",
    "            break\n",
    "        else:\n",
    "            if i == num-1:\n",
    "                print(num)\n",
    "        i += 1\n",
    "    num += 1\n"
   ]
  },
  {
   "cell_type": "code",
   "execution_count": 2,
   "metadata": {
    "tags": []
   },
   "outputs": [
    {
     "output_type": "stream",
     "name": "stdout",
     "text": "[3, 4, 5, 7]\n"
    }
   ],
   "source": [
    "Max_num = int(input(\"Enter an interger: \"))\n",
    "All_number = list(range(2,Max_num))\n",
    "All_prime = []\n",
    "All_number = All_number[1:Max_num]\n",
    "while len(All_number)>0:\n",
    "    prime = All_number[0]\n",
    "    All_prime.append(prime)\n",
    "    for num in All_number:\n",
    "        if num % prime == 0:\n",
    "            All_number.remove(num)\n",
    "print(All_prime)\n"
   ]
  },
  {
   "cell_type": "code",
   "execution_count": null,
   "metadata": {},
   "outputs": [],
   "source": [
    "Max_num 4 | 0 | 1 | 2 | 3 \n",
    "All_number\n",
    "All_prime \n",
    "prime "
   ]
  },
  {
   "cell_type": "code",
   "execution_count": 2,
   "metadata": {},
   "outputs": [
    {
     "name": "stdout",
     "output_type": "stream",
     "text": [
      "Input the maximum number:1000\n",
      "2\n",
      "3\n",
      "5\n",
      "7\n",
      "11\n",
      "13\n",
      "17\n",
      "19\n",
      "23\n",
      "29\n",
      "31\n",
      "37\n",
      "41\n",
      "43\n",
      "47\n",
      "53\n",
      "59\n",
      "61\n",
      "67\n",
      "71\n",
      "73\n",
      "79\n",
      "83\n",
      "89\n",
      "97\n",
      "101\n",
      "103\n",
      "107\n",
      "109\n",
      "113\n",
      "127\n",
      "131\n",
      "137\n",
      "139\n",
      "149\n",
      "151\n",
      "157\n",
      "163\n",
      "167\n",
      "173\n",
      "179\n",
      "181\n",
      "191\n",
      "193\n",
      "197\n",
      "199\n",
      "211\n",
      "223\n",
      "227\n",
      "229\n",
      "233\n",
      "239\n",
      "241\n",
      "251\n",
      "257\n",
      "263\n",
      "269\n",
      "271\n",
      "277\n",
      "281\n",
      "283\n",
      "293\n",
      "307\n",
      "311\n",
      "313\n",
      "317\n",
      "331\n",
      "337\n",
      "347\n",
      "349\n",
      "353\n",
      "359\n",
      "367\n",
      "373\n",
      "379\n",
      "383\n",
      "389\n",
      "397\n",
      "401\n",
      "409\n",
      "419\n",
      "421\n",
      "431\n",
      "433\n",
      "439\n",
      "443\n",
      "449\n",
      "457\n",
      "461\n",
      "463\n",
      "467\n",
      "479\n",
      "487\n",
      "491\n",
      "499\n",
      "503\n",
      "509\n",
      "521\n",
      "523\n",
      "541\n",
      "547\n",
      "557\n",
      "563\n",
      "569\n",
      "571\n",
      "577\n",
      "587\n",
      "593\n",
      "599\n",
      "601\n",
      "607\n",
      "613\n",
      "617\n",
      "619\n",
      "631\n",
      "641\n",
      "643\n",
      "647\n",
      "653\n",
      "659\n",
      "661\n",
      "673\n",
      "677\n",
      "683\n",
      "691\n",
      "701\n",
      "709\n",
      "719\n",
      "727\n",
      "733\n",
      "739\n",
      "743\n",
      "751\n",
      "757\n",
      "761\n",
      "769\n",
      "773\n",
      "787\n",
      "797\n",
      "809\n",
      "811\n",
      "821\n",
      "823\n",
      "827\n",
      "829\n",
      "839\n",
      "853\n",
      "857\n",
      "859\n",
      "863\n",
      "877\n",
      "881\n",
      "883\n",
      "887\n",
      "907\n",
      "911\n",
      "919\n",
      "929\n",
      "937\n",
      "941\n",
      "947\n",
      "953\n",
      "967\n",
      "971\n",
      "977\n",
      "983\n",
      "991\n",
      "997\n",
      "78022\n"
     ]
    }
   ],
   "source": [
    "max_n = int(input(\"Input the maximum number:\"))\n",
    "num = 2 # skip 1\n",
    "iteration=0\n",
    "while num < (max_n +1):\n",
    "    prime = 1\n",
    "    d = 2\n",
    "    while d < num:\n",
    "        iteration += 1\n",
    "        if num % d == 0:\n",
    "            prime = 0\n",
    "            break\n",
    "        d = d + 1\n",
    "    if prime == 1:\n",
    "        print(num)\n",
    "    num = num +1\n",
    "print(iteration)"
   ]
  },
  {
   "cell_type": "code",
   "execution_count": 4,
   "metadata": {
    "tags": []
   },
   "outputs": [
    {
     "output_type": "stream",
     "name": "stdout",
     "text": "Missandei 9\n"
    }
   ],
   "source": [
    "name = (\"Missandei\", \"Samwell\", \"Jorah\", \"Brienne\", \"Margaery\")\n",
    "i = 0\n",
    "m = 0\n",
    "while i < len(name):\n",
    "    if len(name[i])>len(name[m]):\n",
    "           m = i\n",
    "    i += 1\n",
    "print(name[m], len(name[m]))\n"
   ]
  },
  {
   "cell_type": "code",
   "execution_count": 5,
   "metadata": {
    "tags": []
   },
   "outputs": [
    {
     "output_type": "stream",
     "name": "stdout",
     "text": "Missandei\n"
    }
   ],
   "source": [
    "character_name = (\"Missandei\", \"Samwell\", \"Jorah\", \"Brienne\", \"Margaery\")\n",
    "\n",
    "character_name_list = list(character_name)\n",
    "\n",
    "max_string = max(character_name_list, key = len)\n",
    "   \n",
    "print(max_string)\n"
   ]
  },
  {
   "cell_type": "code",
   "execution_count": 6,
   "metadata": {
    "tags": []
   },
   "outputs": [
    {
     "output_type": "stream",
     "name": "stdout",
     "text": "Missandei\n"
    }
   ],
   "source": [
    "character_name = (\"Missandei\", \"Samwell\", \"Jorah\", \"Brienne\", \"Margaery\")\n",
    "result = \"\"\n",
    "for i in range(0,len(character_name)):\n",
    "    if len(character_name[i]) > len(result):\n",
    "        result = character_name[i]\n",
    "print(result)"
   ]
  },
  {
   "cell_type": "code",
   "execution_count": 11,
   "metadata": {},
   "outputs": [],
   "source": [
    "def addition(num1,num2):\n",
    "    total = num1 + num2\n",
    "    print(\"The sume of %d and %d is %d\" % (num1,num2,total))\n",
    "    return(\"The sume of %d and %d is %d\" % (num1,num2,total))"
   ]
  },
  {
   "cell_type": "code",
   "execution_count": 12,
   "metadata": {
    "tags": []
   },
   "outputs": [
    {
     "output_type": "stream",
     "name": "stdout",
     "text": "The sume of 10 and 4 is 14\n"
    }
   ],
   "source": [
    "return_v = addition(10,4)"
   ]
  },
  {
   "cell_type": "code",
   "execution_count": 17,
   "metadata": {},
   "outputs": [],
   "source": [
    "total = 0\n",
    "def addition(num1,num2):\n",
    "    num_iteration = 0\n",
    "    total = num1 + num2\n",
    "    num_iteration += 1\n",
    "    print(\"The sume of %d and %d is %d\\n Total number of iterations = %d\" % (num1,num2,total, num_iteration))"
   ]
  },
  {
   "cell_type": "code",
   "execution_count": 18,
   "metadata": {
    "tags": []
   },
   "outputs": [
    {
     "output_type": "stream",
     "name": "stdout",
     "text": "The sume of 10 and 4 is 14\n Total number of iterations = 1\n"
    }
   ],
   "source": [
    "addition(10,4)"
   ]
  },
  {
   "cell_type": "code",
   "execution_count": 19,
   "metadata": {},
   "outputs": [
    {
     "output_type": "execute_result",
     "data": {
      "text/plain": "0"
     },
     "metadata": {},
     "execution_count": 19
    }
   ],
   "source": [
    "total"
   ]
  },
  {
   "cell_type": "code",
   "execution_count": 35,
   "metadata": {},
   "outputs": [],
   "source": [
    "def check_oddeven(number): \n",
    "    count = 0 \n",
    "    num_iterations = 0 \n",
    "    \n",
    "    if (number%2 == 0): \n",
    "        num_iterations += 1 \n",
    "        print(\"%d is an even number\" % number) \n",
    "    else: \n",
    "        num_iterations += 1 \n",
    "        print(\"%d is an odd number\" % number) \n",
    "        \n",
    "    print(\"Total number of iteration = %d \" %(num_iterations))"
   ]
  },
  {
   "cell_type": "code",
   "execution_count": 36,
   "metadata": {},
   "outputs": [
    {
     "name": "stdout",
     "output_type": "stream",
     "text": [
      "5 is an odd number\n",
      "Total number of iteration = 1 \n"
     ]
    }
   ],
   "source": [
    "check_oddeven(5)"
   ]
  },
  {
   "cell_type": "code",
   "execution_count": 37,
   "metadata": {},
   "outputs": [],
   "source": [
    "def find_square(number): \n",
    "    num_iterations = 0 \n",
    "    square = number**2 \n",
    "    num_iterations += 1 \n",
    "    print(\"Square of %d is %d \\nTotal number of iteration = %d \" % (number, square, num_iterations))"
   ]
  },
  {
   "cell_type": "code",
   "execution_count": 38,
   "metadata": {},
   "outputs": [
    {
     "name": "stdout",
     "output_type": "stream",
     "text": [
      "Square of 2 is 4 \n",
      "Total number of iteration = 1 \n"
     ]
    }
   ],
   "source": [
    "find_square(2)"
   ]
  },
  {
   "cell_type": "code",
   "execution_count": 40,
   "metadata": {},
   "outputs": [
    {
     "name": "stdout",
     "output_type": "stream",
     "text": [
      "Square of 10000 is 100000000 \n",
      "Total number of iteration = 1 \n"
     ]
    }
   ],
   "source": [
    "find_square(10000)"
   ]
  },
  {
   "cell_type": "code",
   "execution_count": 20,
   "metadata": {},
   "outputs": [],
   "source": [
    "def check_prime1(number): \n",
    "    num_iterations = 0 \n",
    "    for i in range(2, number): \n",
    "        num_iterations += 1 \n",
    "        \n",
    "        if number%i == 0: \n",
    "            print(\"%d is not a prime number \\nTotal number of iterations = %d\" %(number, num_iterations)) \n",
    "            return \n",
    "        \n",
    "    print(\"%d is a prime number \\nTotal number of iterations = %d\" %(number, num_iterations))"
   ]
  },
  {
   "cell_type": "code",
   "execution_count": 21,
   "metadata": {
    "tags": []
   },
   "outputs": [
    {
     "output_type": "stream",
     "name": "stdout",
     "text": "1 is a prime number \nTotal number of iterations = 0\n"
    }
   ],
   "source": [
    "check_prime1(1)"
   ]
  },
  {
   "cell_type": "code",
   "execution_count": 22,
   "metadata": {
    "tags": []
   },
   "outputs": [
    {
     "output_type": "stream",
     "name": "stdout",
     "text": "49 is not a prime number \nTotal number of iterations = 6\n"
    }
   ],
   "source": [
    "check_prime1(49)"
   ]
  },
  {
   "cell_type": "code",
   "execution_count": 23,
   "metadata": {
    "scrolled": true,
    "tags": []
   },
   "outputs": [
    {
     "output_type": "stream",
     "name": "stdout",
     "text": "193 is a prime number \nTotal number of iterations = 191\n"
    }
   ],
   "source": [
    "check_prime1(193)"
   ]
  },
  {
   "cell_type": "code",
   "execution_count": 24,
   "metadata": {
    "tags": []
   },
   "outputs": [
    {
     "output_type": "stream",
     "name": "stdout",
     "text": "1847 is a prime number \nTotal number of iterations = 1845\n"
    }
   ],
   "source": [
    "check_prime1(1847)"
   ]
  },
  {
   "cell_type": "code",
   "execution_count": 25,
   "metadata": {},
   "outputs": [],
   "source": [
    "def check_prime2(number): \n",
    "    num_iterations = 0 \n",
    "    mid_point = int(number / 2) \n",
    "    for i in range(2, mid_point): \n",
    "        num_iterations += 1 \n",
    "        if number%i == 0: \n",
    "            print(\"%d is not a prime number \\nTotal number of iterations = %d\" %(number, num_iterations)) \n",
    "            return \n",
    "    print(\"%d is a prime number \\nTotal number of iterations = %d\" %(number, num_iterations))"
   ]
  },
  {
   "cell_type": "code",
   "execution_count": 26,
   "metadata": {
    "tags": []
   },
   "outputs": [
    {
     "output_type": "stream",
     "name": "stdout",
     "text": "1 is a prime number \nTotal number of iterations = 0\n"
    }
   ],
   "source": [
    "check_prime2(1)"
   ]
  },
  {
   "cell_type": "code",
   "execution_count": 27,
   "metadata": {
    "tags": []
   },
   "outputs": [
    {
     "output_type": "stream",
     "name": "stdout",
     "text": "49 is not a prime number \nTotal number of iterations = 6\n"
    }
   ],
   "source": [
    "check_prime2(49)"
   ]
  },
  {
   "cell_type": "code",
   "execution_count": 28,
   "metadata": {
    "tags": []
   },
   "outputs": [
    {
     "output_type": "stream",
     "name": "stdout",
     "text": "193 is a prime number \nTotal number of iterations = 94\n"
    }
   ],
   "source": [
    "check_prime2(193)"
   ]
  },
  {
   "cell_type": "code",
   "execution_count": 29,
   "metadata": {
    "tags": []
   },
   "outputs": [
    {
     "output_type": "stream",
     "name": "stdout",
     "text": "1847 is a prime number \nTotal number of iterations = 921\n"
    }
   ],
   "source": [
    "check_prime2(1847)"
   ]
  },
  {
   "cell_type": "code",
   "execution_count": 30,
   "metadata": {},
   "outputs": [],
   "source": [
    "def find_maxval(num_list): \n",
    "    ## author: ckcck\n",
    "    maxval = num_list[0] \n",
    "    num_iterations = 0 \n",
    "    for i in range(len(num_list)): \n",
    "        num_iterations += 1 \n",
    "        if maxval < num_list[i]: \n",
    "            maxval = num_list[i] \n",
    "    print(\"Maximum value of the list = %d \\nTotal number of iterations = %d\" %(maxval, num_iterations))"
   ]
  },
  {
   "cell_type": "code",
   "execution_count": 52,
   "metadata": {},
   "outputs": [
    {
     "name": "stdout",
     "output_type": "stream",
     "text": [
      "Maximum value of the list = 123 \n",
      "Total number of iterations = 4\n"
     ]
    }
   ],
   "source": [
    "find_maxval([123, 67, 25, 79])"
   ]
  },
  {
   "cell_type": "code",
   "execution_count": 31,
   "metadata": {
    "tags": []
   },
   "outputs": [
    {
     "output_type": "stream",
     "name": "stdout",
     "text": "Maximum value of the list = 123 \nTotal number of iterations = 6\n"
    }
   ],
   "source": [
    "find_maxval([67, 89, 123, 67, 25, 79])"
   ]
  },
  {
   "cell_type": "code",
   "execution_count": 54,
   "metadata": {},
   "outputs": [
    {
     "data": {
      "text/plain": [
       "12"
      ]
     },
     "execution_count": 54,
     "metadata": {},
     "output_type": "execute_result"
    }
   ],
   "source": [
    "list_1 = [67, 89, 12, 67, 25, 79, 10, 433, 6, 4, 90, 78]\n",
    "len(list_1)\n"
   ]
  },
  {
   "cell_type": "code",
   "execution_count": 55,
   "metadata": {},
   "outputs": [
    {
     "name": "stdout",
     "output_type": "stream",
     "text": [
      "Maximum value of the list = 433 \n",
      "Total number of iterations = 12\n"
     ]
    }
   ],
   "source": [
    "find_maxval(list_1)"
   ]
  },
  {
   "cell_type": "code",
   "execution_count": 32,
   "metadata": {},
   "outputs": [],
   "source": [
    "def find_factorial(number:int): \n",
    "    fact = 1 \n",
    "    num_iterations = 0 \n",
    "    if (number < 0 or type(number) != int): \n",
    "        print(\"Invalid number\") \n",
    "        return \n",
    "    for i in range(1, number+1): \n",
    "        fact = fact * i \n",
    "        num_iterations += 1 \n",
    "    print (\"The factorial of %d = %d \\nTotal number of iterations = %d\" %(number, fact, num_iterations))"
   ]
  },
  {
   "cell_type": "code",
   "execution_count": 33,
   "metadata": {
    "tags": []
   },
   "outputs": [
    {
     "output_type": "stream",
     "name": "stdout",
     "text": "The factorial of 1 = 1 \nTotal number of iterations = 1\n"
    }
   ],
   "source": [
    "find_factorial(1)"
   ]
  },
  {
   "cell_type": "code",
   "execution_count": 58,
   "metadata": {},
   "outputs": [
    {
     "name": "stdout",
     "output_type": "stream",
     "text": [
      "The factorial of 8 = 40320 \n",
      "Total number of iterations = 8\n"
     ]
    }
   ],
   "source": [
    "find_factorial(8)"
   ]
  },
  {
   "cell_type": "code",
   "execution_count": 59,
   "metadata": {},
   "outputs": [
    {
     "name": "stdout",
     "output_type": "stream",
     "text": [
      "The factorial of 1050 = 1410188200745141400252996925676992827609427883860681102196565498836336759274700571301062342565763667730574384945641799898255183843797277503390234956935070394479008695945171075361751490266255689101148400638952696890761606725201668092011058223584197411362725808136521522042355331881040677201517524336650583177256411366707450357076114921552137231355444540586815705134573123811035652300829258848866779288445345880939714666466690931600352950947986039996432744118754275201288974846584827623137897792122234828866268708808373651276334848174069438274783771825876627128631153710955178645802336438821598373242525172486367974756812461614902930111917189057714749908028994429977492262359339566774968421933826661845573051906637774350159842777201017432451096856729583848901554363821690871963837317325736243872364148002548730698225622458872512196920911448958125730334065147981692621576246557948729307409911196659268977449824737887320133166571859768610902901473947123457650502571110106359050311523447786812407139365812881583625481044458877349531018685432954716465488394115659122958734526255536933591914359738150594232473711291251674238772555271930793815825985192385373959108468804902794091333308997906654387218990210896432316359969692946647542629459647405723220544167040523889230769503152154177529658591214286091920818334885793018545403374623359640495796839709709384014013012687979103444399633192318216277501509029976296018451103357572826768431048432485483904156377949766394422704783101532471054714207760435511464546800957250453788222377134546592645406967452675959535949763038875966331731971129199721214052529127807792669916640919732183579343359239597918703189536631735584104688709458017493330567389003035699210216919159335873580170482127718603055097898778534952746567262220574405875417584645973964359858336242322940751239914457356958486503721361054938154425602356741007273505642819375318812777259929805604278204113178492040885487253497253599744730743581176164725418840085566636342828519091247494824276253539056065078460524088183488674664479782491935751641451986001983862705359408369452209318497499455387591386320304376709778016052197826525984538725046076767350582105555907369126126599357472133535283786257752742361071712371083162246333227880188819486706970859272715412889313443305257503562357007473653496252819471178088373765780168140628517776493336902711979149445247736765162103192806316969933073702060508523674642586433795221440274867588588796999943822914833791154288328704000000000000000000000000000000000000000000000000000000000000000000000000000000000000000000000000000000000000000000000000000000000000000000000000000000000000000000000000000000000000000000000000000000000000000000000000000000000000000000000000000000000000000000000 \n",
      "Total number of iterations = 1050\n"
     ]
    }
   ],
   "source": [
    "find_factorial(1050)"
   ]
  },
  {
   "cell_type": "code",
   "execution_count": 34,
   "metadata": {},
   "outputs": [],
   "source": [
    "def two_for_loops(number): \n",
    "    total = 0 \n",
    "    num_iterations = 0 \n",
    "    for i in range(number): \n",
    "        num_iterations += 1 \n",
    "        total = total + i \n",
    "    for i in range(100): \n",
    "        num_iterations += 1 \n",
    "        total = total + i \n",
    "    print(\"Total iterations are %d\" % num_iterations)"
   ]
  },
  {
   "cell_type": "code",
   "execution_count": 35,
   "metadata": {
    "tags": []
   },
   "outputs": [
    {
     "output_type": "stream",
     "name": "stdout",
     "text": "Total iterations are 200\n"
    }
   ],
   "source": [
    "two_for_loops(100)"
   ]
  },
  {
   "cell_type": "code",
   "execution_count": 62,
   "metadata": {},
   "outputs": [
    {
     "name": "stdout",
     "output_type": "stream",
     "text": [
      "Total iterations are 1100\n"
     ]
    }
   ],
   "source": [
    "two_for_loops(1000)"
   ]
  },
  {
   "cell_type": "code",
   "execution_count": 63,
   "metadata": {},
   "outputs": [
    {
     "name": "stdout",
     "output_type": "stream",
     "text": [
      "Total iterations are 1000100\n"
     ]
    }
   ],
   "source": [
    "two_for_loops(1000000)"
   ]
  },
  {
   "cell_type": "code",
   "execution_count": 36,
   "metadata": {},
   "outputs": [],
   "source": [
    "def print_pairs(number_list): \n",
    "    num_iterations = 0 \n",
    "    n = len(number_list) \n",
    "    for i in range(n): \n",
    "        for j in range(n): \n",
    "            print(number_list[i], number_list[j]) \n",
    "            num_iterations += 1 \n",
    "    print(\"Total iterations are %d\" % num_iterations)"
   ]
  },
  {
   "cell_type": "code",
   "execution_count": 2,
   "metadata": {},
   "outputs": [
    {
     "name": "stdout",
     "output_type": "stream",
     "text": [
      "123 123\n",
      "123 67\n",
      "67 123\n",
      "67 67\n",
      "Total iterations are 4\n"
     ]
    }
   ],
   "source": [
    "print_pairs([123, 67])"
   ]
  },
  {
   "cell_type": "code",
   "execution_count": 64,
   "metadata": {},
   "outputs": [
    {
     "name": "stdout",
     "output_type": "stream",
     "text": [
      "123 123\n",
      "123 67\n",
      "123 25\n",
      "123 79\n",
      "67 123\n",
      "67 67\n",
      "67 25\n",
      "67 79\n",
      "25 123\n",
      "25 67\n",
      "25 25\n",
      "25 79\n",
      "79 123\n",
      "79 67\n",
      "79 25\n",
      "79 79\n",
      "Total iterations are 16\n"
     ]
    }
   ],
   "source": [
    "print_pairs([123, 67, 25, 79])"
   ]
  },
  {
   "cell_type": "code",
   "execution_count": 37,
   "metadata": {},
   "outputs": [],
   "source": [
    "def find_prime(lower, upper): \n",
    "    num_iterations = 0 \n",
    "    \n",
    "    for num in range(lower, upper): \n",
    "        for i in range(2, int(num / 2)): \n",
    "            num_iterations += 1        \n",
    "            if(num % i) == 0: \n",
    "                break \n",
    "        else: \n",
    "            print(num) \n",
    "    print(\"Total iterations are %d\" % num_iterations)"
   ]
  },
  {
   "cell_type": "code",
   "execution_count": 38,
   "metadata": {
    "tags": []
   },
   "outputs": [
    {
     "output_type": "stream",
     "name": "stdout",
     "text": "11\n13\n17\n19\nTotal iterations are 27\n"
    }
   ],
   "source": [
    "find_prime(10, 20)"
   ]
  },
  {
   "cell_type": "code",
   "execution_count": 39,
   "metadata": {
    "tags": []
   },
   "outputs": [
    {
     "output_type": "stream",
     "name": "stdout",
     "text": "11\n13\n17\n19\n23\n29\n31\n37\n41\n43\n47\n53\n59\n61\n67\n71\n73\n79\n83\n89\n97\n101\n103\n107\n109\n113\n127\n131\n137\n139\n149\n151\n157\n163\n167\n173\n179\n181\n191\n193\n197\n199\n211\n223\n227\n229\n233\n239\n241\n251\n257\n263\n269\n271\n277\n281\n283\n293\n307\n311\n313\n317\n331\n337\n347\n349\n353\n359\n367\n373\n379\n383\n389\n397\n401\n409\n419\n421\n431\n433\n439\n443\n449\n457\n461\n463\n467\n479\n487\n491\n499\n503\n509\n521\n523\n541\n547\n557\n563\n569\n571\n577\n587\n593\n599\n601\n607\n613\n617\n619\n631\n641\n643\n647\n653\n659\n661\n673\n677\n683\n691\n701\n709\n719\n727\n733\n739\n743\n751\n757\n761\n769\n773\n787\n797\n809\n811\n821\n823\n827\n829\n839\n853\n857\n859\n863\n877\n881\n883\n887\n907\n911\n919\n929\n937\n941\n947\n953\n967\n971\n977\n983\n991\n997\n1009\n1013\n1019\n1021\n1031\n1033\n1039\n1049\n1051\n1061\n1063\n1069\n1087\n1091\n1093\n1097\n1103\n1109\n1117\n1123\n1129\n1151\n1153\n1163\n1171\n1181\n1187\n1193\n1201\n1213\n1217\n1223\n1229\n1231\n1237\n1249\n1259\n1277\n1279\n1283\n1289\n1291\n1297\n1301\n1303\n1307\n1319\n1321\n1327\n1361\n1367\n1373\n1381\n1399\n1409\n1423\n1427\n1429\n1433\n1439\n1447\n1451\n1453\n1459\n1471\n1481\n1483\n1487\n1489\n1493\n1499\n1511\n1523\n1531\n1543\n1549\n1553\n1559\n1567\n1571\n1579\n1583\n1597\n1601\n1607\n1609\n1613\n1619\n1621\n1627\n1637\n1657\n1663\n1667\n1669\n1693\n1697\n1699\n1709\n1721\n1723\n1733\n1741\n1747\n1753\n1759\n1777\n1783\n1787\n1789\n1801\n1811\n1823\n1831\n1847\n1861\n1867\n1871\n1873\n1877\n1879\n1889\n1901\n1907\n1913\n1931\n1933\n1949\n1951\n1973\n1979\n1987\n1993\n1997\n1999\nTotal iterations are 143122\n"
    }
   ],
   "source": [
    "find_prime(10, 2000)"
   ]
  },
  {
   "cell_type": "code",
   "execution_count": 40,
   "metadata": {},
   "outputs": [],
   "source": [
    "def print_combinations(n, m): \n",
    "    num_iterations = 0 \n",
    "    for i in range(n): \n",
    "        for j in range(m): \n",
    "            print(i, j) \n",
    "            num_iterations += 1 \n",
    "    print(\"Total iterations are %d\" % num_iterations)"
   ]
  },
  {
   "cell_type": "code",
   "execution_count": 41,
   "metadata": {
    "tags": []
   },
   "outputs": [
    {
     "output_type": "stream",
     "name": "stdout",
     "text": "0 0\n0 1\n0 2\n0 3\n0 4\n0 5\n0 6\n0 7\n0 8\n0 9\n0 10\n0 11\n1 0\n1 1\n1 2\n1 3\n1 4\n1 5\n1 6\n1 7\n1 8\n1 9\n1 10\n1 11\n2 0\n2 1\n2 2\n2 3\n2 4\n2 5\n2 6\n2 7\n2 8\n2 9\n2 10\n2 11\n3 0\n3 1\n3 2\n3 3\n3 4\n3 5\n3 6\n3 7\n3 8\n3 9\n3 10\n3 11\n4 0\n4 1\n4 2\n4 3\n4 4\n4 5\n4 6\n4 7\n4 8\n4 9\n4 10\n4 11\n5 0\n5 1\n5 2\n5 3\n5 4\n5 5\n5 6\n5 7\n5 8\n5 9\n5 10\n5 11\n6 0\n6 1\n6 2\n6 3\n6 4\n6 5\n6 6\n6 7\n6 8\n6 9\n6 10\n6 11\n7 0\n7 1\n7 2\n7 3\n7 4\n7 5\n7 6\n7 7\n7 8\n7 9\n7 10\n7 11\n8 0\n8 1\n8 2\n8 3\n8 4\n8 5\n8 6\n8 7\n8 8\n8 9\n8 10\n8 11\n9 0\n9 1\n9 2\n9 3\n9 4\n9 5\n9 6\n9 7\n9 8\n9 9\n9 10\n9 11\nTotal iterations are 120\n"
    }
   ],
   "source": [
    "print_combinations(10, 12)"
   ]
  },
  {
   "cell_type": "code",
   "execution_count": null,
   "metadata": {},
   "outputs": [],
   "source": []
  }
 ],
 "metadata": {
  "kernelspec": {
   "display_name": "Python 3",
   "language": "python",
   "name": "python3"
  },
  "language_info": {
   "codemirror_mode": {
    "name": "ipython",
    "version": 3
   },
   "file_extension": ".py",
   "mimetype": "text/x-python",
   "name": "python",
   "nbconvert_exporter": "python",
   "pygments_lexer": "ipython3",
   "version": "3.7.6-final"
  }
 },
 "nbformat": 4,
 "nbformat_minor": 2
}