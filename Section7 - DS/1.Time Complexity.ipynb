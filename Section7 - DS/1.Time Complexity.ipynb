{
 "cells": [
  {
   "cell_type": "code",
   "execution_count": 1,
   "metadata": {},
   "outputs": [],
   "source": [
    "def addition(num1,num2):\n",
    "    total = num1 + num2\n",
    "    print(\"The sume of %d and %d is %d\" % (num1,num2,total))"
   ]
  },
  {
   "cell_type": "code",
   "execution_count": 2,
   "metadata": {},
   "outputs": [
    {
     "name": "stdout",
     "output_type": "stream",
     "text": [
      "The sume of 10 and 4 is 14\n"
     ]
    }
   ],
   "source": [
    "addition(10,4)"
   ]
  },
  {
   "cell_type": "code",
   "execution_count": 3,
   "metadata": {},
   "outputs": [],
   "source": [
    "def addition(num1,num2):\n",
    "    num_iteration = 0\n",
    "    total = num1 + num2\n",
    "    num_iteration += 1\n",
    "    print(\"The sume of %d and %d is %d\\n Total number of iterations = %d\" % (num1,num2,total, num_iteration))"
   ]
  },
  {
   "cell_type": "code",
   "execution_count": 10,
   "metadata": {},
   "outputs": [],
   "source": [
    "def check_oddeven(number): \n",
    "    count = 0 \n",
    "    num_iterations = 0 \n",
    "    \n",
    "    if (number%2 == 0): \n",
    "        num_iterations += 1 \n",
    "        print(\"%d is an even number\" % number) \n",
    "    else: \n",
    "        num_iterations += 1 \n",
    "        print(\"%d is an odd number\" % number) \n",
    "        \n",
    "    print(\"Total number of iteration = %d \" %(num_iterations))"
   ]
  },
  {
   "cell_type": "code",
   "execution_count": 11,
   "metadata": {},
   "outputs": [
    {
     "name": "stdout",
     "output_type": "stream",
     "text": [
      "5 is an odd number\n",
      "Total number of iteration = 1 \n"
     ]
    }
   ],
   "source": [
    "check_oddeven(5)"
   ]
  },
  {
   "cell_type": "code",
   "execution_count": 5,
   "metadata": {},
   "outputs": [],
   "source": [
    "def find_square(number): \n",
    "    num_iterations = 0 \n",
    "    square = number**2 \n",
    "    num_iterations += 1 \n",
    "    print(\"Square of %d is %d \\nTotal number of iteration = %d \" % (number, square, num_iterations))"
   ]
  },
  {
   "cell_type": "code",
   "execution_count": 6,
   "metadata": {},
   "outputs": [
    {
     "name": "stdout",
     "output_type": "stream",
     "text": [
      "Square of 2 is 4 \n",
      "Total number of iteration = 1 \n"
     ]
    }
   ],
   "source": [
    "find_square(2)"
   ]
  },
  {
   "cell_type": "code",
   "execution_count": 7,
   "metadata": {},
   "outputs": [
    {
     "name": "stdout",
     "output_type": "stream",
     "text": [
      "Square of 10000 is 100000000 \n",
      "Total number of iteration = 1 \n"
     ]
    }
   ],
   "source": [
    "find_square(10000)"
   ]
  },
  {
   "cell_type": "code",
   "execution_count": 18,
   "metadata": {},
   "outputs": [],
   "source": [
    "def check_prime1(number): \n",
    "    num_iterations = 0 \n",
    "    for i in range(2, number): \n",
    "        num_iterations += 1 \n",
    "        \n",
    "        if number%i == 0: \n",
    "            print(\"%d is not a prime number \\nTotal number of iterations = %d\" %(number, num_iterations)) \n",
    "            return \n",
    "        \n",
    "    print(\"%d is a prime number \\nTotal number of iterations = %d\" %(number, num_iterations))"
   ]
  },
  {
   "cell_type": "code",
   "execution_count": 19,
   "metadata": {},
   "outputs": [
    {
     "name": "stdout",
     "output_type": "stream",
     "text": [
      "1 is a prime number \n",
      "Total number of iterations = 0\n"
     ]
    }
   ],
   "source": [
    "check_prime1(1)"
   ]
  },
  {
   "cell_type": "code",
   "execution_count": 20,
   "metadata": {},
   "outputs": [
    {
     "name": "stdout",
     "output_type": "stream",
     "text": [
      "49 is not a prime number \n",
      "Total number of iterations = 6\n"
     ]
    }
   ],
   "source": [
    "check_prime1(49)"
   ]
  },
  {
   "cell_type": "code",
   "execution_count": 5,
   "metadata": {
    "scrolled": true
   },
   "outputs": [
    {
     "ename": "NameError",
     "evalue": "name 'check_prime1' is not defined",
     "output_type": "error",
     "traceback": [
      "\u001b[1;31m---------------------------------------------------------------------------\u001b[0m",
      "\u001b[1;31mNameError\u001b[0m                                 Traceback (most recent call last)",
      "\u001b[1;32m<ipython-input-5-d2afa8746fe4>\u001b[0m in \u001b[0;36m<module>\u001b[1;34m\u001b[0m\n\u001b[1;32m----> 1\u001b[1;33m \u001b[0mcheck_prime1\u001b[0m\u001b[1;33m(\u001b[0m\u001b[1;36m193\u001b[0m\u001b[1;33m)\u001b[0m\u001b[1;33m\u001b[0m\u001b[1;33m\u001b[0m\u001b[0m\n\u001b[0m",
      "\u001b[1;31mNameError\u001b[0m: name 'check_prime1' is not defined"
     ]
    }
   ],
   "source": [
    "check_prime1(193)"
   ]
  },
  {
   "cell_type": "code",
   "execution_count": 22,
   "metadata": {},
   "outputs": [
    {
     "name": "stdout",
     "output_type": "stream",
     "text": [
      "1847 is a prime number \n",
      "Total number of iterations = 1845\n"
     ]
    }
   ],
   "source": [
    "check_prime1(1847)"
   ]
  },
  {
   "cell_type": "code",
   "execution_count": 2,
   "metadata": {},
   "outputs": [],
   "source": [
    "def check_prime2(number): \n",
    "    num_iterations = 0 \n",
    "    mid_point = int(number / 2) \n",
    "    for i in range(2, mid_point): \n",
    "        num_iterations += 1 \n",
    "        if number%i == 0: \n",
    "            print(\"%d is not a prime number \\nTotal number of iterations = %d\" %(number, num_iterations)) \n",
    "            return \n",
    "    print(\"%d is a prime number \\nTotal number of iterations = %d\" %(number, num_iterations))"
   ]
  },
  {
   "cell_type": "code",
   "execution_count": 3,
   "metadata": {},
   "outputs": [
    {
     "name": "stdout",
     "output_type": "stream",
     "text": [
      "1 is a prime number \n",
      "Total number of iterations = 0\n"
     ]
    }
   ],
   "source": [
    "check_prime2(1)"
   ]
  },
  {
   "cell_type": "code",
   "execution_count": 4,
   "metadata": {},
   "outputs": [
    {
     "name": "stdout",
     "output_type": "stream",
     "text": [
      "49 is not a prime number \n",
      "Total number of iterations = 6\n"
     ]
    }
   ],
   "source": [
    "check_prime2(49)"
   ]
  },
  {
   "cell_type": "code",
   "execution_count": 6,
   "metadata": {},
   "outputs": [
    {
     "name": "stdout",
     "output_type": "stream",
     "text": [
      "193 is a prime number \n",
      "Total number of iterations = 94\n"
     ]
    }
   ],
   "source": [
    "check_prime2(193)"
   ]
  },
  {
   "cell_type": "code",
   "execution_count": 7,
   "metadata": {},
   "outputs": [
    {
     "name": "stdout",
     "output_type": "stream",
     "text": [
      "1847 is a prime number \n",
      "Total number of iterations = 921\n"
     ]
    }
   ],
   "source": [
    "check_prime2(1847)"
   ]
  },
  {
   "cell_type": "code",
   "execution_count": 9,
   "metadata": {},
   "outputs": [],
   "source": [
    "def find_maxval(num_list): \n",
    "    maxval = num_list[0] \n",
    "    num_iterations = 0 \n",
    "    for i in range(len(num_list)): \n",
    "        num_iterations += 1 \n",
    "        if maxval < num_list[i]: \n",
    "            maxval = num_list[i] \n",
    "            print(\"Maximum value of the list = %d \\nTotal number of iterations = %d\" %(maxval, num_iterations))"
   ]
  },
  {
   "cell_type": "code",
   "execution_count": null,
   "metadata": {},
   "outputs": [],
   "source": []
  }
 ],
 "metadata": {
  "kernelspec": {
   "display_name": "Python 3",
   "language": "python",
   "name": "python3"
  },
  "language_info": {
   "codemirror_mode": {
    "name": "ipython",
    "version": 3
   },
   "file_extension": ".py",
   "mimetype": "text/x-python",
   "name": "python",
   "nbconvert_exporter": "python",
   "pygments_lexer": "ipython3",
   "version": "3.7.4"
  }
 },
 "nbformat": 4,
 "nbformat_minor": 2
}
