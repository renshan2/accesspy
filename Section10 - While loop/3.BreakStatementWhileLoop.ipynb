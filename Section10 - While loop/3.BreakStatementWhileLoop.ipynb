{
 "cells": [
  {
   "cell_type": "code",
   "execution_count": null,
   "metadata": {},
   "outputs": [],
   "source": [
    "number = 20\n",
    "while number < 25:\n",
    "    print(number)"
   ]
  },
  {
   "cell_type": "code",
   "execution_count": null,
   "metadata": {},
   "outputs": [],
   "source": [
    "number = 20\n",
    "while number < 25:\n",
    "    print(number)\n",
    "    break"
   ]
  },
  {
   "cell_type": "code",
   "execution_count": null,
   "metadata": {},
   "outputs": [],
   "source": [
    "number = 20\n",
    "while number in range(10,100):\n",
    "    print(number)\n",
    "    if (number == 50):\n",
    "        break\n",
    "    number += 10\n",
    "print(\"out of loop\")"
   ]
  },
  {
   "cell_type": "code",
   "execution_count": null,
   "metadata": {},
   "outputs": [],
   "source": [
    "num = 10\n",
    "while True:\n",
    "    num = int(input(\"enter a number: \"))\n",
    "    if num % 3 == 0:\n",
    "        break\n",
    "print(\"\\nWe are out of the loop since we encountered the number\", num)"
   ]
  },
  {
   "cell_type": "code",
   "execution_count": null,
   "metadata": {},
   "outputs": [],
   "source": [
    "place = \"NewYorkCity\"\n",
    "place_length = len(place)\n",
    "index = 0\n",
    "while index in range(place_length):\n",
    "    print(place[index])\n",
    "    index += 1\n",
    "    if place[index] == \"c\":\n",
    "        break"
   ]
  },
  {
   "cell_type": "code",
   "execution_count": 5,
   "metadata": {},
   "outputs": [
    {
     "output_type": "stream",
     "name": "stdout",
     "text": "N\ne\nw\nY\no\nr\nk\n"
    }
   ],
   "source": [
    "place = \"NewYorkCity\"\n",
    "place_length = len(place)\n",
    "index = 0\n",
    "while index in range(place_length):\n",
    "    print(place[index])\n",
    "    index += 1\n",
    "    if place[index] == \"C\":\n",
    "        break"
   ]
  },
  {
   "cell_type": "markdown",
   "metadata": {},
   "source": [
    "#### find needle in the hay stack"
   ]
  },
  {
   "cell_type": "code",
   "execution_count": 7,
   "metadata": {},
   "outputs": [],
   "source": [
    "clean_haystack =[\"hay\", \"hay\", \"hay\", \"hay\", \"hay\", \"hay\", \"hay\", \"hay\"]\n",
    "unclean_haystack =[\"hay\", \"hay\", \"hay\", \"hay\", \"hay\", \"needle\", \"hay\", \"needle\"]\n",
    "searching_for = \"needle\""
   ]
  },
  {
   "cell_type": "code",
   "execution_count": 8,
   "metadata": {},
   "outputs": [
    {
     "output_type": "stream",
     "name": "stdout",
     "text": "\nThe needle was not found :(\n"
    }
   ],
   "source": [
    "maximum = len(clean_haystack)\n",
    "i = 0\n",
    "while i < maximum:\n",
    "    if searching_for == clean_haystack[i]:\n",
    "        print(\"The %s is at index %i:\" % (searching_for, i))\n",
    "        del clean_haystack[i]\n",
    "    i = i +1\n",
    "else:\n",
    "    print(\"\\nThe needle was not found :(\")"
   ]
  },
  {
   "cell_type": "code",
   "execution_count": 9,
   "metadata": {},
   "outputs": [
    {
     "output_type": "stream",
     "name": "stdout",
     "text": "The needle is at index 5:\nThe update haystack is: ['hay', 'hay', 'hay', 'hay', 'hay', 'hay', 'needle']\n"
    }
   ],
   "source": [
    "maximum = len(unclean_haystack)\n",
    "i = 0\n",
    "while i < maximum:\n",
    "    if searching_for == unclean_haystack[i]:\n",
    "        print(\"The %s is at index %i:\" % (searching_for, i))\n",
    "        del unclean_haystack[i]\n",
    "        print(\"The update haystack is:\", unclean_haystack)\n",
    "        break\n",
    "    i = i +1\n",
    "else:\n",
    "    print(\"\\nThe needle was not found :(\")"
   ]
  },
  {
   "cell_type": "markdown",
   "metadata": {},
   "source": [
    "In class exercise: using nested while loop, find all prime number in the range of Max (input integer) \n",
    "        while num < Max + 1 "
   ]
  },
  {
   "cell_type": "code",
   "execution_count": null,
   "metadata": {},
   "outputs": [],
   "source": []
  }
 ],
 "metadata": {
  "kernelspec": {
   "display_name": "Python 3",
   "language": "python",
   "name": "python3"
  },
  "language_info": {
   "codemirror_mode": {
    "name": "ipython",
    "version": 3
   },
   "file_extension": ".py",
   "mimetype": "text/x-python",
   "name": "python",
   "nbconvert_exporter": "python",
   "pygments_lexer": "ipython3",
   "version": "3.7.3"
  }
 },
 "nbformat": 4,
 "nbformat_minor": 2
}