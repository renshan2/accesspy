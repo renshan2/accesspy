{
 "cells": [
  {
   "cell_type": "code",
   "execution_count": null,
   "metadata": {},
   "outputs": [],
   "source": [
    "num_list = [20, 30, 40, 50, 60]"
   ]
  },
  {
   "cell_type": "code",
   "execution_count": null,
   "metadata": {},
   "outputs": [],
   "source": [
    "count = 0\n",
    "while count < len(num_list):\n",
    "    print(num_list[count])\n",
    "    count = count + 1"
   ]
  },
  {
   "cell_type": "code",
   "execution_count": null,
   "metadata": {},
   "outputs": [],
   "source": [
    "count = 0\n",
    "while count < len(num_list):\n",
    "    count = count + 1\n",
    "\n",
    "print(\"there are %d elements in the list\" %count)"
   ]
  },
  {
   "cell_type": "markdown",
   "metadata": {},
   "source": [
    "In class exercise: create a while loop to total the numbers of a list and print out the total number."
   ]
  },
  {
   "cell_type": "code",
   "execution_count": null,
   "metadata": {},
   "outputs": [],
   "source": [
    "smartphone_brands = [\"Samsung\", \"Huawei\", \"Apple\", \"Nokia\", \"OnePlus\", \"Vivo\", \"Sony\"]"
   ]
  },
  {
   "cell_type": "code",
   "execution_count": null,
   "metadata": {},
   "outputs": [],
   "source": [
    "count = 0\n",
    "while count < 10:\n",
    "    print(smartphone_brands[count])\n",
    "    count = count +1"
   ]
  },
  {
   "cell_type": "code",
   "execution_count": null,
   "metadata": {},
   "outputs": [],
   "source": [
    "count = 0\n",
    "while count < len(smartphone_brands):\n",
    "    print(smartphone_brands[count])\n",
    "    count = count +1"
   ]
  },
  {
   "cell_type": "markdown",
   "metadata": {},
   "source": [
    "In class excercise: Consider that we want to create two lists, one containing all of the even numbers between 0 and 50 and the other containing all of the odd numbers in that same range.   \n",
    "if num % 2 == 0 -> even number\n",
    "else odd number"
   ]
  },
  {
   "cell_type": "code",
   "execution_count": null,
   "metadata": {},
   "outputs": [],
   "source": [
    "c_degrees = [-20, -15, -10, -5, 0, 5, 10, 15, 20, 25, 30, 35, 40]\n",
    "index = 0\n",
    "print( ' C     F')\n",
    "while index < len(c_degrees):\n",
    "    C = c_degrees[index]\n",
    "    F = (9.0/5)*C + 32\n",
    "    print( '%3d %5.1f' % (C, F))\n",
    "    index += 1"
   ]
  },
  {
   "cell_type": "code",
   "execution_count": null,
   "metadata": {},
   "outputs": [],
   "source": [
    "#using same index to get the data pair\n",
    "name_list = [\"William\", \"James\", \"Olive\", \"Jessie\", \"Liam\"] \n",
    "age_list = [22, 26, 24, 28, 21]"
   ]
  },
  {
   "cell_type": "code",
   "execution_count": null,
   "metadata": {},
   "outputs": [],
   "source": [
    "index = 0\n",
    "while index < len(name_list):\n",
    "    print(name_list[index], \"is\", age_list[index], \"years old\")\n",
    "    index = index +1"
   ]
  },
  {
   "cell_type": "markdown",
   "metadata": {},
   "source": [
    "Enough for list, now tuple"
   ]
  },
  {
   "cell_type": "code",
   "execution_count": null,
   "metadata": {},
   "outputs": [],
   "source": [
    "alpha_tuple = ('a', 'b', 'c', 'd', 'e', 'f', 'g', 'h')\n",
    "count = 0\n",
    "while count < 8:\n",
    "    print (alpha_tuple[count])\n",
    "    count = count + 1"
   ]
  },
  {
   "cell_type": "markdown",
   "metadata": {},
   "source": [
    "Group exercise:    \n",
    "this tuple contains a collection of strings, and we wish to find the longest of the strings within that tuple  \n",
    "character_name = (\"Missandei\", \"Samwell\", \"Jorah\", \"Brienne\", \"Margaery\")\n"
   ]
  },
  {
   "cell_type": "code",
   "execution_count": null,
   "metadata": {},
   "outputs": [],
   "source": []
  }
 ],
 "metadata": {
  "kernelspec": {
   "display_name": "Python 3",
   "language": "python",
   "name": "python3"
  },
  "language_info": {
   "codemirror_mode": {
    "name": "ipython",
    "version": 3
   },
   "file_extension": ".py",
   "mimetype": "text/x-python",
   "name": "python",
   "nbconvert_exporter": "python",
   "pygments_lexer": "ipython3",
   "version": "3.7.4"
  }
 },
 "nbformat": 4,
 "nbformat_minor": 2
}
