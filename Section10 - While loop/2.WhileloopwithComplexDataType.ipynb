{
 "cells": [
  {
   "cell_type": "code",
   "execution_count": 1,
   "metadata": {},
   "outputs": [],
   "source": [
    "num_list = [20, 30, 40, 50, 60]"
   ]
  },
  {
   "cell_type": "code",
   "execution_count": 2,
   "metadata": {},
   "outputs": [
    {
     "name": "stdout",
     "output_type": "stream",
     "text": [
      "20\n",
      "30\n",
      "40\n",
      "50\n",
      "60\n"
     ]
    }
   ],
   "source": [
    "count = 0\n",
    "while count < len(num_list):\n",
    "    print(num_list[count])\n",
    "    count = count + 1"
   ]
  },
  {
   "cell_type": "code",
   "execution_count": 3,
   "metadata": {},
   "outputs": [
    {
     "name": "stdout",
     "output_type": "stream",
     "text": [
      "there are 5 elements in the list\n"
     ]
    }
   ],
   "source": [
    "count = 0\n",
    "total = 0\n",
    "while count < len(num_list):\n",
    "    count = count + 1\n",
    "    total = total + num_list[count]\n",
    "print(\"there are %d elements in the list\" %count)"
   ]
  },
  {
   "cell_type": "markdown",
   "metadata": {},
   "source": [
    "In class exercise: create a while loop to total the numbers of a list and print out the total number."
   ]
  },
  {
   "cell_type": "code",
   "execution_count": 4,
   "metadata": {},
   "outputs": [],
   "source": [
    "smartphone_brands = [\"Samsung\", \"Huawei\", \"Apple\", \"Nokia\", \"OnePlus\", \"Vivo\", \"Sony\"]"
   ]
  },
  {
   "cell_type": "code",
   "execution_count": 5,
   "metadata": {},
   "outputs": [
    {
     "name": "stdout",
     "output_type": "stream",
     "text": [
      "Samsung\n",
      "Huawei\n",
      "Apple\n",
      "Nokia\n",
      "OnePlus\n",
      "Vivo\n",
      "Sony\n"
     ]
    },
    {
     "ename": "IndexError",
     "evalue": "list index out of range",
     "output_type": "error",
     "traceback": [
      "\u001b[1;31m---------------------------------------------------------------------------\u001b[0m",
      "\u001b[1;31mIndexError\u001b[0m                                Traceback (most recent call last)",
      "\u001b[1;32m<ipython-input-5-05b9ef1de1b4>\u001b[0m in \u001b[0;36m<module>\u001b[1;34m\u001b[0m\n\u001b[0;32m      1\u001b[0m \u001b[0mcount\u001b[0m \u001b[1;33m=\u001b[0m \u001b[1;36m0\u001b[0m\u001b[1;33m\u001b[0m\u001b[1;33m\u001b[0m\u001b[0m\n\u001b[0;32m      2\u001b[0m \u001b[1;32mwhile\u001b[0m \u001b[0mcount\u001b[0m \u001b[1;33m<\u001b[0m \u001b[1;36m10\u001b[0m\u001b[1;33m:\u001b[0m\u001b[1;33m\u001b[0m\u001b[1;33m\u001b[0m\u001b[0m\n\u001b[1;32m----> 3\u001b[1;33m     \u001b[0mprint\u001b[0m\u001b[1;33m(\u001b[0m\u001b[0msmartphone_brands\u001b[0m\u001b[1;33m[\u001b[0m\u001b[0mcount\u001b[0m\u001b[1;33m]\u001b[0m\u001b[1;33m)\u001b[0m\u001b[1;33m\u001b[0m\u001b[1;33m\u001b[0m\u001b[0m\n\u001b[0m\u001b[0;32m      4\u001b[0m     \u001b[0mcount\u001b[0m \u001b[1;33m=\u001b[0m \u001b[0mcount\u001b[0m \u001b[1;33m+\u001b[0m\u001b[1;36m1\u001b[0m\u001b[1;33m\u001b[0m\u001b[1;33m\u001b[0m\u001b[0m\n",
      "\u001b[1;31mIndexError\u001b[0m: list index out of range"
     ]
    }
   ],
   "source": [
    "count = 0\n",
    "while count < 10:\n",
    "    print(smartphone_brands[count])\n",
    "    count = count +1"
   ]
  },
  {
   "cell_type": "code",
   "execution_count": 7,
   "metadata": {},
   "outputs": [
    {
     "name": "stdout",
     "output_type": "stream",
     "text": [
      "Samsung\n",
      "Huawei\n",
      "Apple\n",
      "Nokia\n",
      "OnePlus\n",
      "Vivo\n",
      "Sony\n",
      "7\n"
     ]
    }
   ],
   "source": [
    "count = 0\n",
    "while count < len(smartphone_brands):\n",
    "    print(smartphone_brands[count])\n",
    "    count = count +1\n",
    "print(count)"
   ]
  },
  {
   "cell_type": "markdown",
   "metadata": {},
   "source": [
    "In class excercise: Consider that we want to create two lists, one containing all of the even numbers between 0 and 50 and the other containing all of the odd numbers in that same range.   \n",
    "if num % 2 == 0 -> even number\n",
    "else odd number"
   ]
  },
  {
   "cell_type": "code",
   "execution_count": 8,
   "metadata": {},
   "outputs": [
    {
     "name": "stdout",
     "output_type": "stream",
     "text": [
      " C     F\n",
      "-20  -4.0\n",
      "-15   5.0\n",
      "-10  14.0\n",
      " -5  23.0\n",
      "  0  32.0\n",
      "  5  41.0\n",
      " 10  50.0\n",
      " 15  59.0\n",
      " 20  68.0\n",
      " 25  77.0\n",
      " 30  86.0\n",
      " 35  95.0\n",
      " 40 104.0\n"
     ]
    }
   ],
   "source": [
    "c_degrees = [-20, -15, -10, -5, 0, 5, 10, 15, 20, 25, 30, 35, 40]\n",
    "index = 0\n",
    "print( ' C     F')\n",
    "while index < len(c_degrees):\n",
    "    C = c_degrees[index]\n",
    "    F = (9.0/5)*C + 32\n",
    "    print( '%3d %5.1f' % (C, F))\n",
    "    index += 1"
   ]
  },
  {
   "cell_type": "code",
   "execution_count": 9,
   "metadata": {},
   "outputs": [],
   "source": [
    "#using same index to get the data pair\n",
    "name_list = [\"William\", \"James\", \"Olive\", \"Jessie\", \"Liam\"] \n",
    "age_list = [22, 26, 24, 28, 21]"
   ]
  },
  {
   "cell_type": "code",
   "execution_count": 10,
   "metadata": {},
   "outputs": [
    {
     "name": "stdout",
     "output_type": "stream",
     "text": [
      "William is 22 years old\n",
      "James is 26 years old\n",
      "Olive is 24 years old\n",
      "Jessie is 28 years old\n",
      "Liam is 21 years old\n"
     ]
    }
   ],
   "source": [
    "index = 0\n",
    "while index < len(name_list):\n",
    "    print(name_list[index], \"is\", age_list[index], \"years old\")\n",
    "    index = index +1"
   ]
  },
  {
   "cell_type": "markdown",
   "metadata": {},
   "source": [
    "Enough for list, now tuple"
   ]
  },
  {
   "cell_type": "code",
   "execution_count": null,
   "metadata": {},
   "outputs": [],
   "source": [
    "alpha_tuple = ('a', 'b', 'c', 'd', 'e', 'f', 'g', 'h')\n",
    "count = 0\n",
    "while count < 8:\n",
    "    print (alpha_tuple[count])\n",
    "    count = count + 1"
   ]
  },
  {
   "cell_type": "markdown",
   "metadata": {},
   "source": [
    "Group exercise:    \n",
    "this tuple contains a collection of strings, and we wish to find the longest of the strings within that tuple  \n",
    "character_name = (\"Missandei\", \"Samwell\", \"Jorah\", \"Brienne\", \"Margaery\")\n"
   ]
  },
  {
   "cell_type": "code",
   "execution_count": null,
   "metadata": {},
   "outputs": [],
   "source": []
  }
 ],
 "metadata": {
  "kernelspec": {
   "display_name": "Python 3",
   "language": "python",
   "name": "python3"
  },
  "language_info": {
   "codemirror_mode": {
    "name": "ipython",
    "version": 3
   },
   "file_extension": ".py",
   "mimetype": "text/x-python",
   "name": "python",
   "nbconvert_exporter": "python",
   "pygments_lexer": "ipython3",
   "version": "3.7.4"
  }
 },
 "nbformat": 4,
 "nbformat_minor": 2
}
