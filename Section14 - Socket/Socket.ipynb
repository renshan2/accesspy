{
 "cells": [
  {
   "cell_type": "markdown",
   "metadata": {},
   "source": [
    "go to terminal   \n",
    "mkdir socketintro\n",
    "cd socketintro\n",
    "sudo pip install sockets\n",
    "\n",
    "less /etc/hosts\n",
    "for windows, look at c:\\windows\\system32\\drivers\\etc\\hosts\n",
    "\n",
    "run python shell\n",
    "python\n",
    "\n",
    ">>>import socket\n",
    ">>> socket.gethostname()\n",
    "\n",
    ">>>socket.gethostbyname(socket.gethostname())\n",
    ">>>socket.gethostbyaddr('127.0.0.1')\n",
    ">>>socket.gethostbyname('')\n",
    ">>>exit()\n"
   ]
  }
 ],
 "metadata": {
  "kernelspec": {
   "display_name": "Python 3",
   "language": "python",
   "name": "python3"
  },
  "language_info": {
   "codemirror_mode": {
    "name": "ipython",
    "version": 3
   },
   "file_extension": ".py",
   "mimetype": "text/x-python",
   "name": "python",
   "nbconvert_exporter": "python",
   "pygments_lexer": "ipython3",
   "version": "3.7.3"
  }
 },
 "nbformat": 4,
 "nbformat_minor": 2
}
