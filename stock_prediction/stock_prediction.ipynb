{
 "cells": [
  {
   "cell_type": "code",
   "execution_count": 121,
   "metadata": {},
   "outputs": [
    {
     "name": "stdout",
     "output_type": "stream",
     "text": [
      "Requirement already satisfied: pandas-datareader in c:\\users\\shanren\\appdata\\local\\continuum\\anaconda3\\lib\\site-packages (0.8.1)\n",
      "Requirement already satisfied: pandas>=0.21 in c:\\users\\shanren\\appdata\\roaming\\python\\python37\\site-packages (from pandas-datareader) (1.0.3)\n",
      "Requirement already satisfied: lxml in c:\\users\\shanren\\appdata\\local\\continuum\\anaconda3\\lib\\site-packages (from pandas-datareader) (4.3.4)\n",
      "Requirement already satisfied: requests>=2.3.0 in c:\\users\\shanren\\appdata\\roaming\\python\\python37\\site-packages (from pandas-datareader) (2.22.0)\n",
      "Requirement already satisfied: python-dateutil>=2.6.1 in c:\\users\\shanren\\appdata\\roaming\\python\\python37\\site-packages (from pandas>=0.21->pandas-datareader) (2.8.1)\n",
      "Requirement already satisfied: pytz>=2017.2 in c:\\users\\shanren\\appdata\\roaming\\python\\python37\\site-packages (from pandas>=0.21->pandas-datareader) (2019.3)\n",
      "Requirement already satisfied: numpy>=1.13.3 in c:\\users\\shanren\\appdata\\roaming\\python\\python37\\site-packages (from pandas>=0.21->pandas-datareader) (1.18.2)\n",
      "Requirement already satisfied: idna<2.9,>=2.5 in c:\\users\\shanren\\appdata\\roaming\\python\\python37\\site-packages (from requests>=2.3.0->pandas-datareader) (2.8)\n",
      "Requirement already satisfied: urllib3!=1.25.0,!=1.25.1,<1.26,>=1.21.1 in c:\\users\\shanren\\appdata\\roaming\\python\\python37\\site-packages (from requests>=2.3.0->pandas-datareader) (1.25.7)\n",
      "Requirement already satisfied: certifi>=2017.4.17 in c:\\users\\shanren\\appdata\\roaming\\python\\python37\\site-packages (from requests>=2.3.0->pandas-datareader) (2019.11.28)\n",
      "Requirement already satisfied: chardet<3.1.0,>=3.0.2 in c:\\users\\shanren\\appdata\\roaming\\python\\python37\\site-packages (from requests>=2.3.0->pandas-datareader) (3.0.4)\n",
      "Requirement already satisfied: six>=1.5 in c:\\users\\shanren\\appdata\\roaming\\python\\python37\\site-packages (from python-dateutil>=2.6.1->pandas>=0.21->pandas-datareader) (1.12.0)\n"
     ]
    }
   ],
   "source": [
    "!pip install pandas-datareader"
   ]
  },
  {
   "cell_type": "code",
   "execution_count": 122,
   "metadata": {},
   "outputs": [],
   "source": [
    "#This program predicts stock prices \n",
    "import math\n",
    "import pandas_datareader as web\n",
    "import numpy as np\n",
    "import pandas as pd\n",
    "from sklearn.preprocessing import MinMaxScaler\n",
    "from keras.models import Sequential\n",
    "from keras.layers import Dense, LSTM\n",
    "import matplotlib.pyplot as plt\n",
    "plt.style.use('fivethirtyeight')"
   ]
  },
  {
   "cell_type": "code",
   "execution_count": 123,
   "metadata": {},
   "outputs": [
    {
     "data": {
      "text/html": [
       "<div>\n",
       "<style scoped>\n",
       "    .dataframe tbody tr th:only-of-type {\n",
       "        vertical-align: middle;\n",
       "    }\n",
       "\n",
       "    .dataframe tbody tr th {\n",
       "        vertical-align: top;\n",
       "    }\n",
       "\n",
       "    .dataframe thead th {\n",
       "        text-align: right;\n",
       "    }\n",
       "</style>\n",
       "<table border=\"1\" class=\"dataframe\">\n",
       "  <thead>\n",
       "    <tr style=\"text-align: right;\">\n",
       "      <th></th>\n",
       "      <th>High</th>\n",
       "      <th>Low</th>\n",
       "      <th>Open</th>\n",
       "      <th>Close</th>\n",
       "      <th>Volume</th>\n",
       "      <th>Adj Close</th>\n",
       "    </tr>\n",
       "    <tr>\n",
       "      <th>Date</th>\n",
       "      <th></th>\n",
       "      <th></th>\n",
       "      <th></th>\n",
       "      <th></th>\n",
       "      <th></th>\n",
       "      <th></th>\n",
       "    </tr>\n",
       "  </thead>\n",
       "  <tbody>\n",
       "    <tr>\n",
       "      <th>2012-01-03</th>\n",
       "      <td>14.400000</td>\n",
       "      <td>14.010000</td>\n",
       "      <td>14.300000</td>\n",
       "      <td>14.040000</td>\n",
       "      <td>11701100.0</td>\n",
       "      <td>12.922127</td>\n",
       "    </tr>\n",
       "    <tr>\n",
       "      <th>2012-01-04</th>\n",
       "      <td>14.260000</td>\n",
       "      <td>13.920000</td>\n",
       "      <td>14.050000</td>\n",
       "      <td>14.200000</td>\n",
       "      <td>8684300.0</td>\n",
       "      <td>13.069386</td>\n",
       "    </tr>\n",
       "    <tr>\n",
       "      <th>2012-01-05</th>\n",
       "      <td>14.780000</td>\n",
       "      <td>14.070000</td>\n",
       "      <td>14.130000</td>\n",
       "      <td>14.710000</td>\n",
       "      <td>14088700.0</td>\n",
       "      <td>13.538781</td>\n",
       "    </tr>\n",
       "    <tr>\n",
       "      <th>2012-01-06</th>\n",
       "      <td>14.710000</td>\n",
       "      <td>14.370000</td>\n",
       "      <td>14.700000</td>\n",
       "      <td>14.540000</td>\n",
       "      <td>13331300.0</td>\n",
       "      <td>13.382315</td>\n",
       "    </tr>\n",
       "    <tr>\n",
       "      <th>2012-01-09</th>\n",
       "      <td>14.820000</td>\n",
       "      <td>14.440000</td>\n",
       "      <td>14.550000</td>\n",
       "      <td>14.540000</td>\n",
       "      <td>12706100.0</td>\n",
       "      <td>13.382315</td>\n",
       "    </tr>\n",
       "    <tr>\n",
       "      <th>...</th>\n",
       "      <td>...</td>\n",
       "      <td>...</td>\n",
       "      <td>...</td>\n",
       "      <td>...</td>\n",
       "      <td>...</td>\n",
       "      <td>...</td>\n",
       "    </tr>\n",
       "    <tr>\n",
       "      <th>2020-04-20</th>\n",
       "      <td>293.500000</td>\n",
       "      <td>285.269989</td>\n",
       "      <td>287.239990</td>\n",
       "      <td>287.049988</td>\n",
       "      <td>11234700.0</td>\n",
       "      <td>287.049988</td>\n",
       "    </tr>\n",
       "    <tr>\n",
       "      <th>2020-04-21</th>\n",
       "      <td>284.769989</td>\n",
       "      <td>267.109985</td>\n",
       "      <td>282.309998</td>\n",
       "      <td>269.510010</td>\n",
       "      <td>18379000.0</td>\n",
       "      <td>269.510010</td>\n",
       "    </tr>\n",
       "    <tr>\n",
       "      <th>2020-04-22</th>\n",
       "      <td>287.869995</td>\n",
       "      <td>275.399994</td>\n",
       "      <td>277.230011</td>\n",
       "      <td>286.149994</td>\n",
       "      <td>12118200.0</td>\n",
       "      <td>286.149994</td>\n",
       "    </tr>\n",
       "    <tr>\n",
       "      <th>2020-04-23</th>\n",
       "      <td>293.140015</td>\n",
       "      <td>283.000000</td>\n",
       "      <td>287.839996</td>\n",
       "      <td>284.010010</td>\n",
       "      <td>10604000.0</td>\n",
       "      <td>284.010010</td>\n",
       "    </tr>\n",
       "    <tr>\n",
       "      <th>2020-04-24</th>\n",
       "      <td>289.670013</td>\n",
       "      <td>280.600006</td>\n",
       "      <td>283.600006</td>\n",
       "      <td>289.589996</td>\n",
       "      <td>8808200.0</td>\n",
       "      <td>289.589996</td>\n",
       "    </tr>\n",
       "  </tbody>\n",
       "</table>\n",
       "<p>2091 rows × 6 columns</p>\n",
       "</div>"
      ],
      "text/plain": [
       "                  High         Low        Open       Close      Volume  \\\n",
       "Date                                                                     \n",
       "2012-01-03   14.400000   14.010000   14.300000   14.040000  11701100.0   \n",
       "2012-01-04   14.260000   13.920000   14.050000   14.200000   8684300.0   \n",
       "2012-01-05   14.780000   14.070000   14.130000   14.710000  14088700.0   \n",
       "2012-01-06   14.710000   14.370000   14.700000   14.540000  13331300.0   \n",
       "2012-01-09   14.820000   14.440000   14.550000   14.540000  12706100.0   \n",
       "...                ...         ...         ...         ...         ...   \n",
       "2020-04-20  293.500000  285.269989  287.239990  287.049988  11234700.0   \n",
       "2020-04-21  284.769989  267.109985  282.309998  269.510010  18379000.0   \n",
       "2020-04-22  287.869995  275.399994  277.230011  286.149994  12118200.0   \n",
       "2020-04-23  293.140015  283.000000  287.839996  284.010010  10604000.0   \n",
       "2020-04-24  289.670013  280.600006  283.600006  289.589996   8808200.0   \n",
       "\n",
       "             Adj Close  \n",
       "Date                    \n",
       "2012-01-03   12.922127  \n",
       "2012-01-04   13.069386  \n",
       "2012-01-05   13.538781  \n",
       "2012-01-06   13.382315  \n",
       "2012-01-09   13.382315  \n",
       "...                ...  \n",
       "2020-04-20  287.049988  \n",
       "2020-04-21  269.510010  \n",
       "2020-04-22  286.149994  \n",
       "2020-04-23  284.010010  \n",
       "2020-04-24  289.589996  \n",
       "\n",
       "[2091 rows x 6 columns]"
      ]
     },
     "execution_count": 123,
     "metadata": {},
     "output_type": "execute_result"
    }
   ],
   "source": [
    "#Get the stock data\n",
    "df = web.DataReader('NVDA', data_source='yahoo',start='2012-01-01',end='2020-04-25')\n",
    "df"
   ]
  },
  {
   "cell_type": "code",
   "execution_count": 124,
   "metadata": {},
   "outputs": [
    {
     "name": "stdout",
     "output_type": "stream",
     "text": [
      "            Close\n",
      "Date             \n",
      "2012-01-03  14.04\n",
      "2012-01-04  14.20\n",
      "2012-01-05  14.71\n",
      "2012-01-06  14.54\n",
      "2012-01-09  14.54\n"
     ]
    }
   ],
   "source": [
    "#Get the adjusted close price\n",
    "df = df[['Close']]\n",
    "print(df.head())"
   ]
  },
  {
   "cell_type": "code",
   "execution_count": 125,
   "metadata": {},
   "outputs": [
    {
     "data": {
      "text/plain": [
       "(2091, 1)"
      ]
     },
     "execution_count": 125,
     "metadata": {},
     "output_type": "execute_result"
    }
   ],
   "source": [
    "#Get the number of rows and columns in the data set\n",
    "df.shape"
   ]
  },
  {
   "cell_type": "code",
   "execution_count": 126,
   "metadata": {},
   "outputs": [
    {
     "data": {
      "image/png": "[encoded data removed]",
      "text/plain": [
       "<Figure size 1152x576 with 1 Axes>"
      ]
     },
     "metadata": {},
     "output_type": "display_data"
    }
   ],
   "source": [
    "#Visualize the closing price history\n",
    "plt.figure(figsize=(16,8))\n",
    "plt.title('Close Price History')\n",
    "plt.plot(df['Close'])\n",
    "plt.xlabel('Date',fontsize=18)\n",
    "plt.ylabel('Close Price USD ($)', fontsize=18)\n",
    "plt.show()"
   ]
  },
  {
   "cell_type": "code",
   "execution_count": 127,
   "metadata": {},
   "outputs": [
    {
     "data": {
      "text/plain": [
       "1673"
      ]
     },
     "execution_count": 127,
     "metadata": {},
     "output_type": "execute_result"
    }
   ],
   "source": [
    "#Create a new dataframe with only the 'Close Column'\n",
    "data = df.filter(['Close'])\n",
    "#Convert the dataframe to a numpy array\n",
    "dataset = data.values\n",
    "#Get the number of rows to train the model on\n",
    "training_data_len = math.ceil(len(dataset)*.8)\n",
    "training_data_len"
   ]
  },
  {
   "cell_type": "code",
   "execution_count": 128,
   "metadata": {},
   "outputs": [
    {
     "data": {
      "text/plain": [
       "array([[0.00876962],\n",
       "       [0.00929711],\n",
       "       [0.0109785 ],\n",
       "       ...,\n",
       "       [0.90587493],\n",
       "       [0.89881972],\n",
       "       [0.91721609]])"
      ]
     },
     "execution_count": 128,
     "metadata": {},
     "output_type": "execute_result"
    }
   ],
   "source": [
    "#Scale the data\n",
    "scaler = MinMaxScaler(feature_range=(0,1))\n",
    "scaled_data = scaler.fit_transform(dataset)\n",
    "scaled_data"
   ]
  },
  {
   "cell_type": "code",
   "execution_count": 129,
   "metadata": {},
   "outputs": [
    {
     "name": "stdout",
     "output_type": "stream",
     "text": [
      "[array([0.00876962, 0.00929711, 0.0109785 , 0.01041804, 0.01041804,\n",
      "       0.01022023, 0.00926414, 0.00896743, 0.00774759, 0.00705526,\n",
      "       0.0085718 , 0.00979164, 0.00936305, 0.01064882, 0.01173678,\n",
      "       0.01144006, 0.0109785 , 0.01163787, 0.01127522, 0.01117632,\n",
      "       0.01170381, 0.01355004, 0.014638  , 0.01424238, 0.01437426,\n",
      "       0.01625346, 0.01622049, 0.01490175, 0.01572596, 0.01602268,\n",
      "       0.0157919 , 0.01671502, 0.01473691, 0.01500066, 0.014638  ,\n",
      "       0.01493472, 0.0145391 , 0.01348411, 0.01302255, 0.01242912,\n",
      "       0.0127588 , 0.01318739, 0.01147303, 0.01101147, 0.01130819,\n",
      "       0.01147303, 0.01134116, 0.01058288, 0.01124225, 0.00985758,\n",
      "       0.01054991, 0.01061585, 0.01074773, 0.00995648, 0.01015429,\n",
      "       0.01008835, 0.01045101, 0.01101147, 0.01134116, 0.01246208])]\n",
      "[0.012692863227963258]\n",
      "\n",
      "[array([0.00876962, 0.00929711, 0.0109785 , 0.01041804, 0.01041804,\n",
      "       0.01022023, 0.00926414, 0.00896743, 0.00774759, 0.00705526,\n",
      "       0.0085718 , 0.00979164, 0.00936305, 0.01064882, 0.01173678,\n",
      "       0.01144006, 0.0109785 , 0.01163787, 0.01127522, 0.01117632,\n",
      "       0.01170381, 0.01355004, 0.014638  , 0.01424238, 0.01437426,\n",
      "       0.01625346, 0.01622049, 0.01490175, 0.01572596, 0.01602268,\n",
      "       0.0157919 , 0.01671502, 0.01473691, 0.01500066, 0.014638  ,\n",
      "       0.01493472, 0.0145391 , 0.01348411, 0.01302255, 0.01242912,\n",
      "       0.0127588 , 0.01318739, 0.01147303, 0.01101147, 0.01130819,\n",
      "       0.01147303, 0.01134116, 0.01058288, 0.01124225, 0.00985758,\n",
      "       0.01054991, 0.01061585, 0.01074773, 0.00995648, 0.01015429,\n",
      "       0.01008835, 0.01045101, 0.01101147, 0.01134116, 0.01246208]), array([0.00929711, 0.0109785 , 0.01041804, 0.01041804, 0.01022023,\n",
      "       0.00926414, 0.00896743, 0.00774759, 0.00705526, 0.0085718 ,\n",
      "       0.00979164, 0.00936305, 0.01064882, 0.01173678, 0.01144006,\n",
      "       0.0109785 , 0.01163787, 0.01127522, 0.01117632, 0.01170381,\n",
      "       0.01355004, 0.014638  , 0.01424238, 0.01437426, 0.01625346,\n",
      "       0.01622049, 0.01490175, 0.01572596, 0.01602268, 0.0157919 ,\n",
      "       0.01671502, 0.01473691, 0.01500066, 0.014638  , 0.01493472,\n",
      "       0.0145391 , 0.01348411, 0.01302255, 0.01242912, 0.0127588 ,\n",
      "       0.01318739, 0.01147303, 0.01101147, 0.01130819, 0.01147303,\n",
      "       0.01134116, 0.01058288, 0.01124225, 0.00985758, 0.01054991,\n",
      "       0.01061585, 0.01074773, 0.00995648, 0.01015429, 0.01008835,\n",
      "       0.01045101, 0.01101147, 0.01134116, 0.01246208, 0.01269286])]\n",
      "[0.012692863227963258, 0.013253327653376945]\n",
      "\n"
     ]
    }
   ],
   "source": [
    "#Create the training data set\n",
    "#Create the scaled training data set\n",
    "train_data = scaled_data[0:training_data_len,:]\n",
    "#Split the data into x_train and y_train data sets\n",
    "x_train = []\n",
    "y_train = []\n",
    "\n",
    "for i in range(60, len(train_data)):\n",
    "    x_train.append(train_data[i-60:i,0])\n",
    "    y_train.append(train_data[i,0])\n",
    "    if i <= 61: \n",
    "        print(x_train)\n",
    "        print(y_train)\n",
    "        print()"
   ]
  },
  {
   "cell_type": "code",
   "execution_count": 130,
   "metadata": {},
   "outputs": [],
   "source": [
    "#Convert the x_train and y_train to numpy arrays\n",
    "x_train,y_train = np.array(x_train), np.array(y_train)"
   ]
  },
  {
   "cell_type": "code",
   "execution_count": 131,
   "metadata": {},
   "outputs": [
    {
     "data": {
      "text/plain": [
       "(1613, 60, 1)"
      ]
     },
     "execution_count": 131,
     "metadata": {},
     "output_type": "execute_result"
    }
   ],
   "source": [
    "#Reshape the data into 3D, the last 1 is for close price\n",
    "x_train = np.reshape(x_train,(x_train.shape[0],x_train.shape[1],1))\n",
    "x_train.shape"
   ]
  },
  {
   "cell_type": "code",
   "execution_count": 132,
   "metadata": {},
   "outputs": [],
   "source": [
    "#Build the LSTM model\n",
    "model = Sequential()\n",
    "model.add(LSTM(50, return_sequences=True, input_shape = (x_train.shape[1],1)))\n",
    "model.add(LSTM(50,return_sequences=False))\n",
    "model.add(Dense(25))\n",
    "model.add(Dense(1))"
   ]
  },
  {
   "cell_type": "code",
   "execution_count": 133,
   "metadata": {},
   "outputs": [],
   "source": [
    "#Compile the model\n",
    "model.compile(optimizer='adam', loss='mean_squared_error')\n"
   ]
  },
  {
   "cell_type": "code",
   "execution_count": 134,
   "metadata": {},
   "outputs": [
    {
     "name": "stdout",
     "output_type": "stream",
     "text": [
      "Epoch 1/1\n",
      "1613/1613 [==============================] - 40s 25ms/step - loss: 0.0020\n"
     ]
    },
    {
     "data": {
      "text/plain": [
       "<keras.callbacks.callbacks.History at 0x225c0aa2128>"
      ]
     },
     "execution_count": 134,
     "metadata": {},
     "output_type": "execute_result"
    }
   ],
   "source": [
    "#Train the model\n",
    "model.fit(x_train,y_train,batch_size=1, epochs=1)"
   ]
  },
  {
   "cell_type": "code",
   "execution_count": 135,
   "metadata": {},
   "outputs": [],
   "source": [
    "#Create the testing data set\n",
    "#Create a new array containing scaled valued from index 1543 to 2003\n",
    "test_data = scaled_data[training_data_len-60:, :]\n",
    "#Create the data sets x_test and y_test\n",
    "x_test = []\n",
    "y_test = dataset[training_data_len:,:]\n",
    "for i in range(60, len(test_data)):\n",
    "    x_test.append(test_data[i-60:i,0])"
   ]
  },
  {
   "cell_type": "code",
   "execution_count": 136,
   "metadata": {},
   "outputs": [],
   "source": [
    "#Convert the data to a numpy array\n",
    "x_test = np.array(x_test)"
   ]
  },
  {
   "cell_type": "code",
   "execution_count": 137,
   "metadata": {},
   "outputs": [],
   "source": [
    "#Reshape the data into 3D\n",
    "x_test = np.reshape(x_test,(x_test.shape[0], x_test.shape[1], 1))"
   ]
  },
  {
   "cell_type": "code",
   "execution_count": 138,
   "metadata": {},
   "outputs": [],
   "source": [
    "#Get the models predicted price values\n",
    "predictions = model.predict(x_test)\n",
    "predictions = scaler.inverse_transform(predictions)"
   ]
  },
  {
   "cell_type": "code",
   "execution_count": 139,
   "metadata": {},
   "outputs": [
    {
     "data": {
      "text/plain": [
       "36.845128565884096"
      ]
     },
     "execution_count": 139,
     "metadata": {},
     "output_type": "execute_result"
    }
   ],
   "source": [
    "#Get the root mean squared error (RMSE), the lower number is, the better result is\n",
    "rmse = np.sqrt(np.mean(predictions - y_test)**2)\n",
    "rmse"
   ]
  },
  {
   "cell_type": "code",
   "execution_count": 140,
   "metadata": {
    "scrolled": true
   },
   "outputs": [
    {
     "name": "stderr",
     "output_type": "stream",
     "text": [
      "C:\\Users\\ShanRen\\AppData\\Local\\Continuum\\anaconda3\\lib\\site-packages\\ipykernel_launcher.py:4: SettingWithCopyWarning: \n",
      "A value is trying to be set on a copy of a slice from a DataFrame.\n",
      "Try using .loc[row_indexer,col_indexer] = value instead\n",
      "\n",
      "See the caveats in the documentation: https://pandas.pydata.org/pandas-docs/stable/user_guide/indexing.html#returning-a-view-versus-a-copy\n",
      "  after removing the cwd from sys.path.\n"
     ]
    },
    {
     "data": {
      "image/png": "[encoded data removed]",
      "text/plain": [
       "<Figure size 1152x576 with 1 Axes>"
      ]
     },
     "metadata": {},
     "output_type": "display_data"
    }
   ],
   "source": [
    "#Plot the data\n",
    "train = data[:training_data_len]\n",
    "valid = data[training_data_len:]\n",
    "valid['Predictions'] = predictions\n",
    "\n",
    "#Visualize the data\n",
    "plt.figure(figsize=(16,8))\n",
    "plt.title('Model')\n",
    "plt.plot(train['Close'])\n",
    "plt.xlabel('Date',fontsize=18)\n",
    "plt.ylabel('Close Price USD ($)', fontsize=18)\n",
    "plt.plot(valid[['Close', 'Predictions']])\n",
    "plt.legend(['Train','Val','Predictions'], loc = 'lower right')\n",
    "plt.show()"
   ]
  },
  {
   "cell_type": "code",
   "execution_count": 141,
   "metadata": {},
   "outputs": [
    {
     "data": {
      "text/html": [
       "<div>\n",
       "<style scoped>\n",
       "    .dataframe tbody tr th:only-of-type {\n",
       "        vertical-align: middle;\n",
       "    }\n",
       "\n",
       "    .dataframe tbody tr th {\n",
       "        vertical-align: top;\n",
       "    }\n",
       "\n",
       "    .dataframe thead th {\n",
       "        text-align: right;\n",
       "    }\n",
       "</style>\n",
       "<table border=\"1\" class=\"dataframe\">\n",
       "  <thead>\n",
       "    <tr style=\"text-align: right;\">\n",
       "      <th></th>\n",
       "      <th>Close</th>\n",
       "      <th>Predictions</th>\n",
       "    </tr>\n",
       "    <tr>\n",
       "      <th>Date</th>\n",
       "      <th></th>\n",
       "      <th></th>\n",
       "    </tr>\n",
       "  </thead>\n",
       "  <tbody>\n",
       "    <tr>\n",
       "      <th>2018-08-27</th>\n",
       "      <td>275.899994</td>\n",
       "      <td>304.990204</td>\n",
       "    </tr>\n",
       "    <tr>\n",
       "      <th>2018-08-28</th>\n",
       "      <td>274.380005</td>\n",
       "      <td>307.506500</td>\n",
       "    </tr>\n",
       "    <tr>\n",
       "      <th>2018-08-29</th>\n",
       "      <td>278.489990</td>\n",
       "      <td>310.094543</td>\n",
       "    </tr>\n",
       "    <tr>\n",
       "      <th>2018-08-30</th>\n",
       "      <td>277.809998</td>\n",
       "      <td>312.882568</td>\n",
       "    </tr>\n",
       "    <tr>\n",
       "      <th>2018-08-31</th>\n",
       "      <td>280.679993</td>\n",
       "      <td>315.532135</td>\n",
       "    </tr>\n",
       "    <tr>\n",
       "      <th>...</th>\n",
       "      <td>...</td>\n",
       "      <td>...</td>\n",
       "    </tr>\n",
       "    <tr>\n",
       "      <th>2020-04-20</th>\n",
       "      <td>287.049988</td>\n",
       "      <td>321.285095</td>\n",
       "    </tr>\n",
       "    <tr>\n",
       "      <th>2020-04-21</th>\n",
       "      <td>269.510010</td>\n",
       "      <td>324.978333</td>\n",
       "    </tr>\n",
       "    <tr>\n",
       "      <th>2020-04-22</th>\n",
       "      <td>286.149994</td>\n",
       "      <td>326.679199</td>\n",
       "    </tr>\n",
       "    <tr>\n",
       "      <th>2020-04-23</th>\n",
       "      <td>284.010010</td>\n",
       "      <td>328.447021</td>\n",
       "    </tr>\n",
       "    <tr>\n",
       "      <th>2020-04-24</th>\n",
       "      <td>289.589996</td>\n",
       "      <td>329.877899</td>\n",
       "    </tr>\n",
       "  </tbody>\n",
       "</table>\n",
       "<p>418 rows × 2 columns</p>\n",
       "</div>"
      ],
      "text/plain": [
       "                 Close  Predictions\n",
       "Date                               \n",
       "2018-08-27  275.899994   304.990204\n",
       "2018-08-28  274.380005   307.506500\n",
       "2018-08-29  278.489990   310.094543\n",
       "2018-08-30  277.809998   312.882568\n",
       "2018-08-31  280.679993   315.532135\n",
       "...                ...          ...\n",
       "2020-04-20  287.049988   321.285095\n",
       "2020-04-21  269.510010   324.978333\n",
       "2020-04-22  286.149994   326.679199\n",
       "2020-04-23  284.010010   328.447021\n",
       "2020-04-24  289.589996   329.877899\n",
       "\n",
       "[418 rows x 2 columns]"
      ]
     },
     "execution_count": 141,
     "metadata": {},
     "output_type": "execute_result"
    }
   ],
   "source": [
    "#Show the valid and predicted prices\n",
    "valid"
   ]
  },
  {
   "cell_type": "code",
   "execution_count": 142,
   "metadata": {},
   "outputs": [
    {
     "name": "stdout",
     "output_type": "stream",
     "text": [
      "[[331.4513]]\n"
     ]
    }
   ],
   "source": [
    "#Get the quote\n",
    "apple_quote = web.DataReader('NVDA', data_source='yahoo',start='2012-01-01',end='2020-04-25')\n",
    "#Create a new dataframe\n",
    "new_df = apple_quote.filter(['Close'])\n",
    "#Get the last 60 days closing price values and convert the dataframe to an array\n",
    "last_60_days = new_df[-60:].values\n",
    "#Scale the data to be value between 0 and 1\n",
    "last_60_days_scaled = scaler.transform(last_60_days)\n",
    "#Create an empty list\n",
    "X_test = []\n",
    "#Append the past 60 dyas\n",
    "X_test.append(last_60_days_scaled)\n",
    "#Convert the X_test to a numpy array\n",
    "X_test = np.array(X_test)\n",
    "#Reshape the data\n",
    "X_test = np.reshape(X_test,(X_test.shape[0],X_test.shape[1],1))\n",
    "#Get the predicted scaled price\n",
    "pred_price = model.predict(X_test)\n",
    "#undo the scaling\n",
    "pred_price = scaler.inverse_transform(pred_price)\n",
    "print(pred_price)"
   ]
  },
  {
   "cell_type": "code",
   "execution_count": 143,
   "metadata": {},
   "outputs": [
    {
     "name": "stdout",
     "output_type": "stream",
     "text": [
      "Date\n",
      "2020-04-24    289.589996\n",
      "2020-04-24    289.589996\n",
      "Name: Close, dtype: float64\n"
     ]
    }
   ],
   "source": [
    "apple_quote2 = web.DataReader('NVDA', data_source='yahoo',start='2020-04-24',end='2020-04-24')\n",
    "print(apple_quote2['Close'])"
   ]
  },
  {
   "cell_type": "code",
   "execution_count": null,
   "metadata": {},
   "outputs": [],
   "source": []
  }
 ],
 "metadata": {
  "kernelspec": {
   "display_name": "Python 3",
   "language": "python",
   "name": "python3"
  },
  "language_info": {
   "codemirror_mode": {
    "name": "ipython",
    "version": 3
   },
   "file_extension": ".py",
   "mimetype": "text/x-python",
   "name": "python",
   "nbconvert_exporter": "python",
   "pygments_lexer": "ipython3",
   "version": "3.7.3"
  }
 },
 "nbformat": 4,
 "nbformat_minor": 2
}
