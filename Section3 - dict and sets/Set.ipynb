{
 "cells": [
  {
   "cell_type": "markdown",
   "metadata": {},
   "source": [
    "# Sets in Python\n",
    "### A set in Python is a collection of objects. Sets are available in Python 2.4 and newer versions. They are different from lists or tuples in that they are modeled after sets in mathematics. \n",
    "### Set example\n",
    "To create a set, we use the set() function.\n",
    "#!/usr/bin/env python"
   ]
  },
  {
   "cell_type": "code",
   "execution_count": 2,
   "metadata": {},
   "outputs": [
    {
     "data": {
      "text/plain": [
       "['Postcard', 'Radio', 'Telegram']"
      ]
     },
     "execution_count": 2,
     "metadata": {},
     "output_type": "execute_result"
    }
   ],
   "source": [
    "a_list = [\"Postcard\", \"Radio\", \"Telegram\"]\n",
    "a_list"
   ]
  },
  {
   "cell_type": "code",
   "execution_count": 1,
   "metadata": {},
   "outputs": [
    {
     "name": "stdout",
     "output_type": "stream",
     "text": [
      "{'Radio', 'Postcard', 'Telegram'}\n"
     ]
    }
   ],
   "source": [
    "x = set([\"Postcard\", \"Radio\", \"Telegram\"])\n",
    "print(x)"
   ]
  },
  {
   "cell_type": "markdown",
   "metadata": {},
   "source": [
    "If we add the same item element multiple times, they are removed.\n",
    "A set may not contain the same element multiple times."
   ]
  },
  {
   "cell_type": "code",
   "execution_count": 3,
   "metadata": {},
   "outputs": [
    {
     "name": "stdout",
     "output_type": "stream",
     "text": [
      "{'Radio', 'Postcard', 'Telegram'}\n"
     ]
    }
   ],
   "source": [
    "x = set([\"Postcard\", \"Radio\", \"Telegram\", \"Postcard\"])\n",
    "print(x)"
   ]
  },
  {
   "cell_type": "markdown",
   "metadata": {},
   "source": [
    "Simple notation\n",
    "\n",
    "If you use Python version 2.6 or a later version, you can use a simplified notation:"
   ]
  },
  {
   "cell_type": "code",
   "execution_count": 4,
   "metadata": {},
   "outputs": [
    {
     "name": "stdout",
     "output_type": "stream",
     "text": [
      "{'Radio', 'Postcard', 'Telegram'}\n",
      "{'Radio', 'Postcard', 'Telegram'}\n"
     ]
    }
   ],
   "source": [
    "#!/usr/bin/env python\n",
    "\n",
    "x = set([\"Postcard\", \"Radio\", \"Telegram\"])\n",
    "print(x)\n",
    "\n",
    "y = {\"Postcard\",\"Radio\",\"Telegram\"}\n",
    "print(y)"
   ]
  },
  {
   "cell_type": "markdown",
   "metadata": {},
   "source": [
    "Set Methods\n",
    "\n",
    "Clear elements from set\n",
    "To remove all elements from sets:"
   ]
  },
  {
   "cell_type": "code",
   "execution_count": 5,
   "metadata": {},
   "outputs": [
    {
     "name": "stdout",
     "output_type": "stream",
     "text": [
      "set()\n"
     ]
    }
   ],
   "source": [
    "x = set([\"Postcard\", \"Radio\", \"Telegram\"])\n",
    "x.clear()\n",
    "print(x)"
   ]
  },
  {
   "cell_type": "markdown",
   "metadata": {},
   "source": [
    "Add elements to a set\n",
    "To add elements to a set:"
   ]
  },
  {
   "cell_type": "code",
   "execution_count": 6,
   "metadata": {},
   "outputs": [
    {
     "name": "stdout",
     "output_type": "stream",
     "text": [
      "{'Radio', 'Postcard', 'Telegram', 'Telephone'}\n"
     ]
    }
   ],
   "source": [
    "x = set([\"Postcard\", \"Radio\", \"Telegram\"])\n",
    "x.add(\"Telephone\")\n",
    "print(x)"
   ]
  },
  {
   "cell_type": "markdown",
   "metadata": {},
   "source": [
    "Remove elements to a set\n",
    "To remove elements to a set:"
   ]
  },
  {
   "cell_type": "code",
   "execution_count": 7,
   "metadata": {},
   "outputs": [
    {
     "name": "stdout",
     "output_type": "stream",
     "text": [
      "{'Postcard', 'Telegram'}\n"
     ]
    }
   ],
   "source": [
    "x = set([\"Postcard\", \"Radio\", \"Telegram\"])\n",
    "x.remove(\"Radio\")\n",
    "print(x)"
   ]
  },
  {
   "cell_type": "code",
   "execution_count": null,
   "metadata": {},
   "outputs": [],
   "source": [
    "Difference between two sets\n",
    "To find the difference between two sets use:"
   ]
  },
  {
   "cell_type": "code",
   "execution_count": 8,
   "metadata": {},
   "outputs": [
    {
     "name": "stdout",
     "output_type": "stream",
     "text": [
      "{'Postcard', 'Telegram'}\n",
      "{'Television'}\n"
     ]
    }
   ],
   "source": [
    "#!/usr/bin/env python\n",
    "x = set([\"Postcard\", \"Radio\", \"Telegram\"])\n",
    "y = set([\"Radio\",\"Television\"])\n",
    "print( x.difference(y) )\n",
    "print( y.difference(x) )"
   ]
  },
  {
   "cell_type": "markdown",
   "metadata": {},
   "source": [
    "##  Subset\n",
    "To test if a set is a subset use: \n",
    "Be aware that x.difference(y) is different from y.difference(x).\n",
    "Subset"
   ]
  },
  {
   "cell_type": "code",
   "execution_count": 9,
   "metadata": {},
   "outputs": [
    {
     "name": "stdout",
     "output_type": "stream",
     "text": [
      "False\n"
     ]
    }
   ],
   "source": [
    "#!/usr/bin/env python\n",
    "\n",
    "x = set([\"a\",\"b\",\"c\",\"d\"])\n",
    "y = set([\"c\",\"d\"])\n",
    "print( x.issubset(y) )"
   ]
  },
  {
   "cell_type": "markdown",
   "metadata": {},
   "source": [
    "## Super-set\n",
    "To test if a set is a super-set:"
   ]
  },
  {
   "cell_type": "code",
   "execution_count": 10,
   "metadata": {},
   "outputs": [
    {
     "name": "stdout",
     "output_type": "stream",
     "text": [
      "True\n"
     ]
    }
   ],
   "source": [
    "x = set([\"a\",\"b\",\"c\",\"d\"])\n",
    "y = set([\"c\",\"d\"])\n",
    "print( x.issuperset(y) )"
   ]
  },
  {
   "cell_type": "markdown",
   "metadata": {},
   "source": [
    "## Intersection\n",
    "To test for intersection, use:"
   ]
  },
  {
   "cell_type": "code",
   "execution_count": 11,
   "metadata": {},
   "outputs": [
    {
     "name": "stdout",
     "output_type": "stream",
     "text": [
      "{'c', 'd'}\n"
     ]
    }
   ],
   "source": [
    "#!/usr/bin/env python\n",
    "\n",
    "x = set([\"a\",\"b\",\"c\",\"d\"])\n",
    "y = set([\"c\",\"d\"])\n",
    "print( x.intersection(y) )"
   ]
  },
  {
   "cell_type": "code",
   "execution_count": null,
   "metadata": {},
   "outputs": [],
   "source": []
  }
 ],
 "metadata": {
  "kernelspec": {
   "display_name": "Python 3",
   "language": "python",
   "name": "python3"
  },
  "language_info": {
   "codemirror_mode": {
    "name": "ipython",
    "version": 3
   },
   "file_extension": ".py",
   "mimetype": "text/x-python",
   "name": "python",
   "nbconvert_exporter": "python",
   "pygments_lexer": "ipython3",
   "version": "3.7.4"
  }
 },
 "nbformat": 4,
 "nbformat_minor": 2
}
