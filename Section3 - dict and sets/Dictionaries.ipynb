{
 "cells": [
  {
   "cell_type": "code",
   "execution_count": 1,
   "metadata": {},
   "outputs": [
    {
     "output_type": "execute_result",
     "data": {
      "text/plain": "{}"
     },
     "metadata": {},
     "execution_count": 1
    }
   ],
   "source": [
    "empty_dict = {}\n",
    "empty_dict"
   ]
  },
  {
   "cell_type": "code",
   "execution_count": 2,
   "metadata": {},
   "outputs": [
    {
     "output_type": "execute_result",
     "data": {
      "text/plain": "{'Phillip': 'Ducati Monster 1200',\n 'Lei': 'Ducati Monster 1100',\n 'Vicky': 'BMW 1000 RR',\n 'Andy': 'Harley Davidson',\n 'Yang': 'Schwinn Network'}"
     },
     "metadata": {},
     "execution_count": 2
    }
   ],
   "source": [
    "bike_owners = {\"Phillip\":\"Ducati Monster 1200\",\n",
    "              \"Lei\":\"Ducati Monster 1100\",        \n",
    "              \"Vicky\":\"BMW 1000 RR\",\n",
    "              \"Andy\":\"Harley Davidson\",\n",
    "              \"Yang\":\"Schwinn Network\"}\n",
    "bike_owners"
   ]
  },
  {
   "cell_type": "code",
   "execution_count": 3,
   "metadata": {},
   "outputs": [
    {
     "output_type": "execute_result",
     "data": {
      "text/plain": "'Schwinn Network'"
     },
     "metadata": {},
     "execution_count": 3
    }
   ],
   "source": [
    "bike_owners[\"Yang\"]"
   ]
  },
  {
   "cell_type": "code",
   "execution_count": 4,
   "metadata": {},
   "outputs": [
    {
     "output_type": "execute_result",
     "data": {
      "text/plain": "{1: 45, 2: 55, 3: 65}"
     },
     "metadata": {},
     "execution_count": 4
    }
   ],
   "source": [
    "int_dict={1:45,2:55,3:65}\n",
    "int_dict"
   ]
  },
  {
   "cell_type": "code",
   "execution_count": 4,
   "metadata": {},
   "outputs": [
    {
     "data": {
      "text/plain": [
       "45"
      ]
     },
     "execution_count": 4,
     "metadata": {},
     "output_type": "execute_result"
    }
   ],
   "source": [
    "int_dict[1]"
   ]
  },
  {
   "cell_type": "code",
   "execution_count": 6,
   "metadata": {},
   "outputs": [
    {
     "output_type": "execute_result",
     "data": {
      "text/plain": "dict_keys(['Phillip', 'Lei', 'Vicky', 'Andy', 'Yang'])"
     },
     "metadata": {},
     "execution_count": 6
    }
   ],
   "source": [
    "bike_owners.keys()"
   ]
  },
  {
   "cell_type": "code",
   "execution_count": 7,
   "metadata": {},
   "outputs": [
    {
     "output_type": "stream",
     "name": "stdout",
     "text": "dict_keys(['Phillip', 'Lei', 'Vicky', 'Andy', 'Yang'])\n"
    }
   ],
   "source": [
    "print(bike_owners.keys())"
   ]
  },
  {
   "cell_type": "code",
   "execution_count": 6,
   "metadata": {},
   "outputs": [
    {
     "data": {
      "text/plain": [
       "True"
      ]
     },
     "execution_count": 6,
     "metadata": {},
     "output_type": "execute_result"
    }
   ],
   "source": [
    "\"Yang\" in bike_owners.keys()"
   ]
  },
  {
   "cell_type": "code",
   "execution_count": 7,
   "metadata": {},
   "outputs": [
    {
     "data": {
      "text/plain": [
       "dict_values(['Ducati Monster 1200', 'Ducati Monster 1100', 'BMW 1000 RR', 'Harley Davidson', 'Schwinn Network'])"
      ]
     },
     "execution_count": 7,
     "metadata": {},
     "output_type": "execute_result"
    }
   ],
   "source": [
    "bike_owners.values()"
   ]
  },
  {
   "cell_type": "code",
   "execution_count": 8,
   "metadata": {},
   "outputs": [],
   "source": [
    "mixed_dict = {False:\"Daniel\",\n",
    "             \"Aria\":[1,2,3],\n",
    "             \"Cindy\": True}"
   ]
  },
  {
   "cell_type": "code",
   "execution_count": 9,
   "metadata": {},
   "outputs": [
    {
     "output_type": "execute_result",
     "data": {
      "text/plain": "{False: 'Daniel', 'Aria': [1, 2, 3], 'Cindy': True}"
     },
     "metadata": {},
     "execution_count": 9
    }
   ],
   "source": [
    "mixed_dict"
   ]
  },
  {
   "cell_type": "code",
   "execution_count": 10,
   "metadata": {},
   "outputs": [
    {
     "data": {
      "text/plain": [
       "'Daniel'"
      ]
     },
     "execution_count": 10,
     "metadata": {},
     "output_type": "execute_result"
    }
   ],
   "source": [
    "mixed_dict[False]"
   ]
  },
  {
   "cell_type": "code",
   "execution_count": 12,
   "metadata": {},
   "outputs": [
    {
     "data": {
      "text/plain": [
       "{'bike_owner': 'Yang',\n",
       " 'bike_model': 'Ducati Monster 1200',\n",
       " 'bike_price': 28140,\n",
       " 'engine_displacement': 1197}"
      ]
     },
     "execution_count": 12,
     "metadata": {},
     "output_type": "execute_result"
    }
   ],
   "source": [
    "bike_details = [{\"bike_owner\":\"Yang\",\n",
    "               \"bike_model\":\"Ducati Monster 1200\",\n",
    "               \"bike_price\": 28140,\n",
    "               \"engine_displacement\": 1197,\n",
    "               \"year\": 2020},\n",
    "               {\"bike_owner\":\"Jolin\",\n",
    "               \"bike_model\":\"Ducati Monster 1200\",\n",
    "               \"bike_price\": 28140,\n",
    "               \"engine_displacement\": 1197}]\n",
    "bike_details"
   ]
  },
  {
   "cell_type": "code",
   "execution_count": null,
   "metadata": {},
   "outputs": [],
   "source": []
  },
  {
   "cell_type": "markdown",
   "metadata": {},
   "source": [
    "##in Class exercise - create 2 dictionary: \n",
    ">1. courses dict with classnum:classname (math, english, physcis and chrimstry)                  \n",
    ">2. student dict with studentid: studentname for our class\n",
    ">3. student and class: studentid: classnum\n"
   ]
  },
  {
   "cell_type": "code",
   "execution_count": null,
   "metadata": {},
   "outputs": [],
   "source": []
  }
 ],
 "metadata": {
  "kernelspec": {
   "display_name": "Python 3",
   "language": "python",
   "name": "python3"
  },
  "language_info": {
   "codemirror_mode": {
    "name": "ipython",
    "version": 3
   },
   "file_extension": ".py",
   "mimetype": "text/x-python",
   "name": "python",
   "nbconvert_exporter": "python",
   "pygments_lexer": "ipython3",
   "version": "3.7.6-final"
  }
 },
 "nbformat": 4,
 "nbformat_minor": 2
}