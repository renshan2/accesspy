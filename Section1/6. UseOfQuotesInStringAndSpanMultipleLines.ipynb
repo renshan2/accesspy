{
 "cells": [
  {
   "cell_type": "code",
   "execution_count": 1,
   "metadata": {},
   "outputs": [
    {
     "name": "stdout",
     "output_type": "stream",
     "text": [
      "i am a single quoted string\n"
     ]
    }
   ],
   "source": [
    "print('i am a single quoted string')"
   ]
  },
  {
   "cell_type": "code",
   "execution_count": 2,
   "metadata": {},
   "outputs": [
    {
     "name": "stdout",
     "output_type": "stream",
     "text": [
      "python is a \"awesome\"\n"
     ]
    }
   ],
   "source": [
    "print(\"python is a \" + '\"awesome\"')"
   ]
  },
  {
   "cell_type": "code",
   "execution_count": 4,
   "metadata": {},
   "outputs": [
    {
     "name": "stdout",
     "output_type": "stream",
     "text": [
      "what did you have for lunch?chinese\n",
      "You had chinese!That sounds delicious!\n"
     ]
    }
   ],
   "source": [
    "question = \"what did you have for lunch?\"\n",
    "answer = input(question)\n",
    "print('You had ' + answer + \"!\" + \"That sounds delicious!\")"
   ]
  },
  {
   "cell_type": "code",
   "execution_count": 5,
   "metadata": {},
   "outputs": [
    {
     "name": "stdout",
     "output_type": "stream",
     "text": [
      "How old are you?16\n",
      "Your are 16 years old.\n"
     ]
    }
   ],
   "source": [
    "question = \"How old are you?\"\n",
    "answer = input(question)\n",
    "print(\"Your are\", answer, \"years old.\")"
   ]
  },
  {
   "cell_type": "code",
   "execution_count": 6,
   "metadata": {},
   "outputs": [
    {
     "name": "stdout",
     "output_type": "stream",
     "text": [
      "I'm learning python\n"
     ]
    }
   ],
   "source": [
    "print('I\\'m learning python')"
   ]
  },
  {
   "cell_type": "code",
   "execution_count": 7,
   "metadata": {},
   "outputs": [
    {
     "name": "stdout",
     "output_type": "stream",
     "text": [
      "Hello Jim! \n",
      "How are you?\n"
     ]
    }
   ],
   "source": [
    "print('Hello Jim! \\nHow are you?')"
   ]
  },
  {
   "cell_type": "code",
   "execution_count": 9,
   "metadata": {},
   "outputs": [
    {
     "name": "stdout",
     "output_type": "stream",
     "text": [
      "this is a very long\n",
      "string in python\n",
      "this is a test\n"
     ]
    }
   ],
   "source": [
    "print(\"\"\"this is a very long\n",
    "string in python\n",
    "this is a test\"\"\")"
   ]
  },
  {
   "cell_type": "code",
   "execution_count": 10,
   "metadata": {},
   "outputs": [
    {
     "ename": "SyntaxError",
     "evalue": "EOL while scanning string literal (<ipython-input-10-df706e77d84b>, line 1)",
     "output_type": "error",
     "traceback": [
      "\u001b[1;36m  File \u001b[1;32m\"<ipython-input-10-df706e77d84b>\"\u001b[1;36m, line \u001b[1;32m1\u001b[0m\n\u001b[1;33m    print(\"this is a multiple line of\u001b[0m\n\u001b[1;37m                                     ^\u001b[0m\n\u001b[1;31mSyntaxError\u001b[0m\u001b[1;31m:\u001b[0m EOL while scanning string literal\n"
     ]
    }
   ],
   "source": [
    "print(\"this is a multiple line of\n",
    "      python code\")"
   ]
  },
  {
   "cell_type": "code",
   "execution_count": 13,
   "metadata": {},
   "outputs": [
    {
     "name": "stdout",
     "output_type": "stream",
     "text": [
      "A dog barks!\n"
     ]
    }
   ],
   "source": [
    "my_var = \"barks\"\n",
    "print(f'A dog {my_var}!')"
   ]
  },
  {
   "cell_type": "code",
   "execution_count": 14,
   "metadata": {},
   "outputs": [
    {
     "name": "stdout",
     "output_type": "stream",
     "text": [
      "a dog barks!\n"
     ]
    }
   ],
   "source": [
    "print('a dog {}!'.format(my_var))"
   ]
  },
  {
   "cell_type": "code",
   "execution_count": 15,
   "metadata": {},
   "outputs": [
    {
     "name": "stdout",
     "output_type": "stream",
     "text": [
      "C:\\Users\\Q\n"
     ]
    }
   ],
   "source": [
    "print('C:\\\\Users\\\\Q')"
   ]
  },
  {
   "cell_type": "code",
   "execution_count": null,
   "metadata": {},
   "outputs": [],
   "source": [
    "chdir('c:\\\\projects\\\\code')"
   ]
  }
 ],
 "metadata": {
  "kernelspec": {
   "display_name": "Python 3",
   "language": "python",
   "name": "python3"
  },
  "language_info": {
   "codemirror_mode": {
    "name": "ipython",
    "version": 3
   },
   "file_extension": ".py",
   "mimetype": "text/x-python",
   "name": "python",
   "nbconvert_exporter": "python",
   "pygments_lexer": "ipython3",
   "version": "3.7.3"
  }
 },
 "nbformat": 4,
 "nbformat_minor": 2
}
