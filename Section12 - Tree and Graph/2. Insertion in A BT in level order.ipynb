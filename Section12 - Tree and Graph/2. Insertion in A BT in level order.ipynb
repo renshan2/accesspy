{
 "cells": [
  {
   "cell_type": "markdown",
   "metadata": {},
   "source": [
    "https://www.geeksforgeeks.org/insertion-in-a-binary-tree-in-level-order/"
   ]
  },
  {
   "cell_type": "markdown",
   "metadata": {},
   "source": [
    "Given a binary tree and a key, insert the key into the binary tree at first position available in level order.\n",
    "<img src=\"binary-tree-insertion.png\">"
   ]
  },
  {
   "cell_type": "code",
   "execution_count": 10,
   "metadata": {},
   "outputs": [
    {
     "name": "stdout",
     "output_type": "stream",
     "text": [
      "Inorder traversal before insertion: 7 11 10 15 9 8 <__main__.newNode object at 0x0000018B340BCDD8>\n",
      "<__main__.newNode object at 0x0000018B340A75C0>\n",
      "\n",
      "Inorder traversal after insertion: 7 11 12 10 15 9 8 "
     ]
    }
   ],
   "source": [
    "# Python program to insert element in binary tree \n",
    "class newNode(): \n",
    "\n",
    "    def __init__(self, data): \n",
    "        self.key = data \n",
    "        self.left = None\n",
    "        self.right = None\n",
    "    \n",
    "\"\"\" Inorder traversal of a binary tree\"\"\"\n",
    "def inorder(temp): \n",
    "\n",
    "    if (not temp): \n",
    "        return\n",
    "\n",
    "    inorder(temp.left) \n",
    "    print(temp.key,end = \" \") \n",
    "    inorder(temp.right) \n",
    "\n",
    "\n",
    "\"\"\"function to insert element in binary tree \"\"\"\n",
    "def insert(temp,key): \n",
    "\n",
    "    q = [] \n",
    "    q.append(temp) \n",
    "#    for k in range(len(q)):\n",
    "#        print(q[k])\n",
    "\n",
    "    # Do level order traversal until we find \n",
    "    # an empty place. \n",
    "    while (len(q)): \n",
    "        temp = q[0] \n",
    "        print(temp)\n",
    "        q.pop(0) # why the pop(0)?\n",
    "\n",
    "        if (not temp.left): \n",
    "            temp.left = newNode(key) \n",
    "            break\n",
    "        else: \n",
    "            q.append(temp.left) \n",
    "\n",
    "        if (not temp.right): \n",
    "            temp.right = newNode(key) \n",
    "            break\n",
    "        else: \n",
    "            q.append(temp.right) \n",
    "\n",
    "# Driver code \n",
    "if __name__ == '__main__': \n",
    "    root = newNode(10) \n",
    "    root.left = newNode(11) \n",
    "    root.left.left = newNode(7) \n",
    "    root.right = newNode(9) \n",
    "    root.right.left = newNode(15) \n",
    "    root.right.right = newNode(8) \n",
    "\n",
    "    print(\"Inorder traversal before insertion:\", end = \" \") \n",
    "    inorder(root) \n",
    "\n",
    "    key = 12\n",
    "    insert(root, key) \n",
    "\n",
    "    print() \n",
    "    print(\"Inorder traversal after insertion:\", end = \" \") \n",
    "    inorder(root) \n",
    "\n"
   ]
  },
  {
   "cell_type": "code",
   "execution_count": null,
   "metadata": {},
   "outputs": [],
   "source": []
  }
 ],
 "metadata": {
  "kernelspec": {
   "display_name": "Python 3",
   "language": "python",
   "name": "python3"
  },
  "language_info": {
   "codemirror_mode": {
    "name": "ipython",
    "version": 3
   },
   "file_extension": ".py",
   "mimetype": "text/x-python",
   "name": "python",
   "nbconvert_exporter": "python",
   "pygments_lexer": "ipython3",
   "version": "3.7.3"
  }
 },
 "nbformat": 4,
 "nbformat_minor": 2
}
