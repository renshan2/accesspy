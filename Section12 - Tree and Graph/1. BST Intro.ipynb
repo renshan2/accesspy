{
 "cells": [
  {
   "cell_type": "markdown",
   "metadata": {},
   "source": [
    "Trees: Unlike Arrays, Linked Lists, Stack and queues, which are linear data structures, trees are hierarchical data structures.\n",
    "Tree Vocabulary: The topmost node is called root of the tree. The elements that are directly under an element are called its children. The element directly above something is called its parent. For example, ‘a’ is a child of ‘f’, and ‘f’ is the parent of ‘a’. Finally, elements with no children are called leaves.\n",
    "\n",
    "         ----\n",
    "          j    <-- root\n",
    "        /   \\\n",
    "       f      k  \n",
    "     /   \\      \\\n",
    "    a     h      z    <-- leaves \n",
    " \n",
    " "
   ]
  },
  {
   "cell_type": "markdown",
   "metadata": {},
   "source": [
    "file system\n",
    "-----------\n",
    "             /    <-- root\n",
    "          /      \\\n",
    "        ...       home\n",
    "         /          \\\n",
    "       ugrad        course\n",
    "        /       /      |     \\\n",
    "      ...      cs101  cs112  cs113"
   ]
  },
  {
   "cell_type": "code",
   "execution_count": 3,
   "metadata": {},
   "outputs": [],
   "source": [
    "# A Python class that represents an individual node  \n",
    "# in a Binary Tree \n",
    "class Node: \n",
    "    def __init__(self,key): \n",
    "        self.left = None\n",
    "        self.right = None\n",
    "        self.val = key "
   ]
  },
  {
   "cell_type": "code",
   "execution_count": 1,
   "metadata": {},
   "outputs": [
    {
     "data": {
      "text/plain": [
       "'4 becomes left child of 2 \\n           1 \\n       /       \\\\ \\n      2          3 \\n    /   \\\\       /  \\\\ \\n   4    None  None  None \\n  /  \\\\ \\nNone None'"
      ]
     },
     "execution_count": 1,
     "metadata": {},
     "output_type": "execute_result"
    }
   ],
   "source": [
    "# Python program to introduce Binary Tree \n",
    "  \n",
    "# A class that represents an individual node in a \n",
    "# Binary Tree \n",
    "class Node: \n",
    "    def __init__(self,key): \n",
    "        self.left = None\n",
    "        self.right = None\n",
    "        self.val = key \n",
    "  \n",
    "  \n",
    "# create root \n",
    "root = Node(\"\") \n",
    "root.val = 1\n",
    "''' following is the tree after above statement \n",
    "        1 \n",
    "      /   \\ \n",
    "     None  None'''\n",
    "  \n",
    "root.left  = Node(\"\"); \n",
    "roo.left.val = 2\n",
    "root.right = Node(\"\"); \n",
    "root.right.val = 3    \n",
    "''' 2 and 3 become left and right children of 1 \n",
    "           1 \n",
    "         /   \\ \n",
    "        2      3 \n",
    "     /    \\    /  \\ \n",
    "   None None None None'''\n",
    "  \n",
    "  \n",
    "root.left.left = Node(4); \n",
    "'''4 becomes left child of 2 \n",
    "           1 \n",
    "       /       \\ \n",
    "      2          3 \n",
    "    /   \\       /  \\ \n",
    "   4    None  None  None \n",
    "  /  \\ \n",
    "None None'''"
   ]
  },
  {
   "cell_type": "markdown",
   "metadata": {},
   "source": [
    "label and unlabeled trees"
   ]
  },
  {
   "cell_type": "markdown",
   "metadata": {},
   "source": [
    "A Binary Tree is labeled if every node is assigned a label and a Binary Tree is unlabeled if nodes are not assigned any label.\n",
    "Below two are considered same unlabeled trees\n",
    "    o                 o\n",
    "  /   \\             /   \\ \n",
    " o     o           o     o \n",
    "\n",
    "Below two are considered different labeled trees\n",
    "    A                C\n",
    "  /   \\             /  \\ \n",
    " B     C           A    B \n",
    "How many different Unlabeled Binary Trees can be there with n nodes?\n",
    "For n  = 1, there is only one tree\n",
    "   o\n",
    "\n",
    "For n  = 2, there are two trees\n",
    "   o      o\n",
    "  /        \\  \n",
    " o          o\n",
    "\n",
    "For n  = 3, there are five trees\n",
    "    o      o           o         o      o\n",
    "   /        \\         /  \\      /         \\\n",
    "  o          o       o    o     o          o\n",
    " /            \\                  \\        /\n",
    "o              o                  o      o"
   ]
  },
  {
   "cell_type": "markdown",
   "metadata": {},
   "source": [
    "For example, let T(n) be count for n nodes.\n",
    "T(0) = 1  [There is only 1 empty tree]\n",
    "T(1) = 1\n",
    "T(2) = 2\n",
    "\n",
    "T(3) =  T(0)*T(2) + T(1)*T(1) + T(2)*T(0) = 1*2 + 1*1 + 2*1 = 5\n",
    "\n",
    "T(4) =  T(0)*T(3) + T(1)*T(2) + T(2)*T(1) + T(3)*T(0)\n",
    "     =  1*5 + 1*2 + 2*1 + 5*1 \n",
    "     =  14      \n",
    "     \n",
    "First few catalan numbers are 1 1 2 5 14 42 132 429 1430 4862,…\n",
    "\n",
    "Here,\n",
    "T(i-1) represents number of nodes on the left-sub-tree\n",
    "T(n−i-1) represents number of nodes on the right-sub-tree\n",
    "\n",
    "\n",
    "n’th Catalan Number can also be evaluated using direct formula. \n",
    "   T(n) = (2n)! / (n+1)!n!"
   ]
  },
  {
   "cell_type": "code",
   "execution_count": null,
   "metadata": {},
   "outputs": [],
   "source": []
  }
 ],
 "metadata": {
  "kernelspec": {
   "display_name": "Python 3",
   "language": "python",
   "name": "python3"
  },
  "language_info": {
   "codemirror_mode": {
    "name": "ipython",
    "version": 3
   },
   "file_extension": ".py",
   "mimetype": "text/x-python",
   "name": "python",
   "nbconvert_exporter": "python",
   "pygments_lexer": "ipython3",
   "version": "3.7.6"
  }
 },
 "nbformat": 4,
 "nbformat_minor": 2
}
