{
 "cells": [
  {
   "cell_type": "code",
   "execution_count": 3,
   "metadata": {},
   "outputs": [],
   "source": [
    "import numpy as np # linear algebra\n",
    "import pandas as pd # data processing, CSV file I/O (e.g. pd.read_csv)"
   ]
  },
  {
   "cell_type": "markdown",
   "metadata": {},
   "source": [
    "https://www.youtube.com/watch?v=eM4uJ6XGnSM\n"
   ]
  },
  {
   "cell_type": "code",
   "execution_count": 4,
   "metadata": {},
   "outputs": [],
   "source": [
    "def sigmoid(z):\n",
    "    return 1/(1+np.e**(-z))\n",
    "\n",
    "def predict(X, theta):\n",
    "    z = np.dot(X, theta)\n",
    "    return sigmoid(z)\n",
    "\n",
    "def cost_function(X, Y, theta):\n",
    "    m = len(Y)\n",
    "    h = predict(X,theta)\n",
    "    \n",
    "    cost = (np.dot((-Y.T), np.log(h)) - np.dot((1-Y).T, np.log(1-h))) / m\n",
    "    return cost\n",
    "\n",
    "def gradient_descent(X, Y, theta, rate):\n",
    "    m = len(Y)\n",
    "    h = predict(X, theta)\n",
    "    gradient = rate * np.dot(X.T, (h-Y)) / m\n",
    "    theta -= gradient\n",
    "    return theta\n",
    "\n",
    "def decision_boundary(probability):\n",
    "    classification = 1 if probability >= 0.5 else 0\n",
    "    return classification\n",
    "\n",
    "def classify(probabilities):\n",
    "    return np.vectorize(decision_boundary)(probabilities).flatten()\n",
    "\n",
    "def train(X, Y, theta, rate, iters):\n",
    "    cost_history = [2, 1]\n",
    "    \n",
    "    for i in range(iters):\n",
    "        theta = gradient_descent(X, Y, theta, rate)\n",
    "        \n",
    "        cost = cost_function(X, Y, theta)\n",
    "        cost_history.append(cost)\n",
    "        \n",
    "        if i % 10000 == 0:\n",
    "            print(\"iter: \" + str(i) + \" cost: \"+str(cost))\n",
    "    return theta, cost_history\n",
    "\n",
    "def normalize(df, column):\n",
    "    df[column] = (df[column] -df[column].mean()) / np.std(df[column]) # zscore"
   ]
  },
  {
   "cell_type": "code",
   "execution_count": 5,
   "metadata": {},
   "outputs": [
    {
     "output_type": "execute_result",
     "data": {
      "text/plain": "   PassengerId  Survived  Pclass  \\\n0            1         0       3   \n1            2         1       1   \n2            3         1       3   \n3            4         1       1   \n4            5         0       3   \n\n                                                Name     Sex   Age  SibSp  \\\n0                            Braund, Mr. Owen Harris    male  22.0      1   \n1  Cumings, Mrs. John Bradley (Florence Briggs Th...  female  38.0      1   \n2                             Heikkinen, Miss. Laina  female  26.0      0   \n3       Futrelle, Mrs. Jacques Heath (Lily May Peel)  female  35.0      1   \n4                           Allen, Mr. William Henry    male  35.0      0   \n\n   Parch            Ticket     Fare Cabin Embarked  \n0      0         A/5 21171   7.2500   NaN        S  \n1      0          PC 17599  71.2833   C85        C  \n2      0  STON/O2. 3101282   7.9250   NaN        S  \n3      0            113803  53.1000  C123        S  \n4      0            373450   8.0500   NaN        S  ",
      "text/html": "<div>\n<style scoped>\n    .dataframe tbody tr th:only-of-type {\n        vertical-align: middle;\n    }\n\n    .dataframe tbody tr th {\n        vertical-align: top;\n    }\n\n    .dataframe thead th {\n        text-align: right;\n    }\n</style>\n<table border=\"1\" class=\"dataframe\">\n  <thead>\n    <tr style=\"text-align: right;\">\n      <th></th>\n      <th>PassengerId</th>\n      <th>Survived</th>\n      <th>Pclass</th>\n      <th>Name</th>\n      <th>Sex</th>\n      <th>Age</th>\n      <th>SibSp</th>\n      <th>Parch</th>\n      <th>Ticket</th>\n      <th>Fare</th>\n      <th>Cabin</th>\n      <th>Embarked</th>\n    </tr>\n  </thead>\n  <tbody>\n    <tr>\n      <th>0</th>\n      <td>1</td>\n      <td>0</td>\n      <td>3</td>\n      <td>Braund, Mr. Owen Harris</td>\n      <td>male</td>\n      <td>22.0</td>\n      <td>1</td>\n      <td>0</td>\n      <td>A/5 21171</td>\n      <td>7.2500</td>\n      <td>NaN</td>\n      <td>S</td>\n    </tr>\n    <tr>\n      <th>1</th>\n      <td>2</td>\n      <td>1</td>\n      <td>1</td>\n      <td>Cumings, Mrs. John Bradley (Florence Briggs Th...</td>\n      <td>female</td>\n      <td>38.0</td>\n      <td>1</td>\n      <td>0</td>\n      <td>PC 17599</td>\n      <td>71.2833</td>\n      <td>C85</td>\n      <td>C</td>\n    </tr>\n    <tr>\n      <th>2</th>\n      <td>3</td>\n      <td>1</td>\n      <td>3</td>\n      <td>Heikkinen, Miss. Laina</td>\n      <td>female</td>\n      <td>26.0</td>\n      <td>0</td>\n      <td>0</td>\n      <td>STON/O2. 3101282</td>\n      <td>7.9250</td>\n      <td>NaN</td>\n      <td>S</td>\n    </tr>\n    <tr>\n      <th>3</th>\n      <td>4</td>\n      <td>1</td>\n      <td>1</td>\n      <td>Futrelle, Mrs. Jacques Heath (Lily May Peel)</td>\n      <td>female</td>\n      <td>35.0</td>\n      <td>1</td>\n      <td>0</td>\n      <td>113803</td>\n      <td>53.1000</td>\n      <td>C123</td>\n      <td>S</td>\n    </tr>\n    <tr>\n      <th>4</th>\n      <td>5</td>\n      <td>0</td>\n      <td>3</td>\n      <td>Allen, Mr. William Henry</td>\n      <td>male</td>\n      <td>35.0</td>\n      <td>0</td>\n      <td>0</td>\n      <td>373450</td>\n      <td>8.0500</td>\n      <td>NaN</td>\n      <td>S</td>\n    </tr>\n  </tbody>\n</table>\n</div>"
     },
     "metadata": {},
     "execution_count": 5
    }
   ],
   "source": [
    "passengers = pd.read_csv('titanic_train.csv')\n",
    "passengers.head()"
   ]
  },
  {
   "cell_type": "code",
   "execution_count": 6,
   "metadata": {},
   "outputs": [
    {
     "output_type": "execute_result",
     "data": {
      "text/plain": "PassengerId      0\nSurvived         0\nPclass           0\nName             0\nSex              0\nAge            177\nSibSp            0\nParch            0\nTicket           0\nFare             0\nCabin          687\nEmbarked         2\ndtype: int64"
     },
     "metadata": {},
     "execution_count": 6
    }
   ],
   "source": [
    "passengers.isna().sum()"
   ]
  },
  {
   "cell_type": "code",
   "execution_count": 7,
   "metadata": {},
   "outputs": [],
   "source": [
    "# convert categorical variables in factors\n",
    "X = pd.get_dummies(passengers[['Pclass','Sex','Age','SibSp','Parch','Fare','Embarked']], drop_first=True)\n",
    "Y = passengers[['Survived']]\n",
    "\n",
    "# median fill for na values\n",
    "X['Age'] = X['Age'].fillna(X['Age'].mean())\n",
    "X['Embarked_S'] = X['Embarked_S'].fillna(X['Embarked_S'].mean())\n",
    "X['Embarked_Q'] = X['Embarked_Q'].fillna(X['Embarked_Q'].mean())\n",
    "\n",
    "# normalize values (zscore)\n",
    "for column in X.columns:\n",
    "    normalize(X, column)\n",
    "\n",
    "# add constant for matrix multiplication\n",
    "constant = np.ones((X.shape[0],1))\n",
    "X = np.concatenate((constant, X), axis=1)\n",
    "\n",
    "# initialize theta to zeros vector\n",
    "theta = np.zeros((X.shape[1],1))"
   ]
  },
  {
   "cell_type": "code",
   "execution_count": 8,
   "metadata": {},
   "outputs": [
    {
     "output_type": "execute_result",
     "data": {
      "text/plain": "array([[ 1.00000000e+00,  8.27377244e-01, -5.92480600e-01, ...,\n         7.37695132e-01, -3.07562343e-01,  6.19306364e-01],\n       [ 1.00000000e+00, -1.56610693e+00,  6.38789012e-01, ...,\n        -1.35557354e+00, -3.07562343e-01, -1.61470971e+00],\n       [ 1.00000000e+00,  8.27377244e-01, -2.84663197e-01, ...,\n        -1.35557354e+00, -3.07562343e-01,  6.19306364e-01],\n       ...,\n       [ 1.00000000e+00,  8.27377244e-01,  4.37434839e-15, ...,\n        -1.35557354e+00, -3.07562343e-01,  6.19306364e-01],\n       [ 1.00000000e+00, -1.56610693e+00, -2.84663197e-01, ...,\n         7.37695132e-01, -3.07562343e-01, -1.61470971e+00],\n       [ 1.00000000e+00,  8.27377244e-01,  1.77062908e-01, ...,\n         7.37695132e-01,  3.25137334e+00, -1.61470971e+00]])"
     },
     "metadata": {},
     "execution_count": 8
    }
   ],
   "source": [
    "X # design matrix"
   ]
  },
  {
   "cell_type": "code",
   "execution_count": 10,
   "metadata": {
    "tags": []
   },
   "outputs": [
    {
     "output_type": "stream",
     "name": "stdout",
     "text": "iter: 0 cost: [[0.45384614]]\niter: 10000 cost: [[0.45156914]]\niter: 20000 cost: [[0.44975291]]\niter: 30000 cost: [[0.44828743]]\niter: 40000 cost: [[0.44709293]]\niter: 50000 cost: [[0.44611051]]\niter: 60000 cost: [[0.44529597]]\niter: 70000 cost: [[0.44461571]]\niter: 80000 cost: [[0.44404384]]\niter: 90000 cost: [[0.44356017]]\niter: 100000 cost: [[0.44314886]]\n"
    }
   ],
   "source": [
    "trained_theta, cost_history = train(X, Y, theta, 0.0001, 100001)"
   ]
  },
  {
   "cell_type": "code",
   "execution_count": 11,
   "metadata": {},
   "outputs": [],
   "source": [
    "probabilities = predict(X, trained_theta)\n",
    "predictions = classify(probabilities)\n",
    "passengers['prediction'] = predictions"
   ]
  },
  {
   "cell_type": "code",
   "execution_count": 12,
   "metadata": {},
   "outputs": [
    {
     "output_type": "execute_result",
     "data": {
      "text/plain": "0.797979797979798"
     },
     "metadata": {},
     "execution_count": 12
    }
   ],
   "source": [
    " # percent correct in training\n",
    "len(passengers[passengers['Survived'] == passengers['prediction']]) / len(passengers)"
   ]
  },
  {
   "cell_type": "code",
   "execution_count": 16,
   "metadata": {},
   "outputs": [],
   "source": [
    "passengers_test = pd.read_csv('titanic_test.csv')"
   ]
  },
  {
   "cell_type": "code",
   "execution_count": 17,
   "metadata": {},
   "outputs": [
    {
     "output_type": "execute_result",
     "data": {
      "text/plain": "PassengerId      0\nPclass           0\nName             0\nSex              0\nAge             86\nSibSp            0\nParch            0\nTicket           0\nFare             1\nCabin          327\nEmbarked         0\ndtype: int64"
     },
     "metadata": {},
     "execution_count": 17
    }
   ],
   "source": [
    "passengers_test.isna().sum()\n"
   ]
  },
  {
   "cell_type": "code",
   "execution_count": 18,
   "metadata": {},
   "outputs": [],
   "source": [
    "# convert categorical variables in factors\n",
    "X_test = pd.get_dummies(passengers_test[['Pclass','Sex','Age','SibSp','Parch','Fare','Embarked']], drop_first=True)\n",
    "\n",
    "# median fill for na values\n",
    "X_test['Age'] = X_test['Age'].fillna(X_test['Age'].mean())\n",
    "X_test['Fare'] = X_test['Fare'].fillna(X_test['Fare'].mean())\n",
    "\n",
    "# normalize values (zscore)\n",
    "for column in X_test.columns:\n",
    "    normalize(X_test, column)\n",
    "\n",
    "# add constant for matrix multiplication\n",
    "constant = np.ones((X_test.shape[0],1))\n",
    "X_test = np.concatenate((constant, X_test), axis=1)"
   ]
  },
  {
   "cell_type": "code",
   "execution_count": 19,
   "metadata": {},
   "outputs": [
    {
     "output_type": "execute_result",
     "data": {
      "text/plain": "array([[ 1.00000000e+00,  8.73481905e-01,  3.34992599e-01, ...,\n         7.55928946e-01,  2.84375747e+00, -1.35067551e+00],\n       [ 1.00000000e+00,  8.73481905e-01,  1.32553003e+00, ...,\n        -1.32287566e+00, -3.51647429e-01,  7.40370278e-01],\n       [ 1.00000000e+00, -3.15819190e-01,  2.51417495e+00, ...,\n         7.55928946e-01,  2.84375747e+00, -1.35067551e+00],\n       ...,\n       [ 1.00000000e+00,  8.73481905e-01,  6.51964577e-01, ...,\n         7.55928946e-01, -3.51647429e-01,  7.40370278e-01],\n       [ 1.00000000e+00,  8.73481905e-01, -2.53374904e-15, ...,\n         7.55928946e-01, -3.51647429e-01,  7.40370278e-01],\n       [ 1.00000000e+00,  8.73481905e-01, -2.53374904e-15, ...,\n         7.55928946e-01, -3.51647429e-01, -1.35067551e+00]])"
     },
     "metadata": {},
     "execution_count": 19
    }
   ],
   "source": [
    "X_test"
   ]
  },
  {
   "cell_type": "code",
   "execution_count": 20,
   "metadata": {},
   "outputs": [],
   "source": [
    "test_probabilities = predict(X_test, trained_theta)\n",
    "test_predictions = classify(test_probabilities)\n",
    "passengers_test['Survived'] = test_predictions"
   ]
  },
  {
   "cell_type": "code",
   "execution_count": 21,
   "metadata": {},
   "outputs": [
    {
     "output_type": "execute_result",
     "data": {
      "text/plain": "   PassengerId  Pclass                                          Name     Sex  \\\n0          892       3                              Kelly, Mr. James    male   \n1          893       3              Wilkes, Mrs. James (Ellen Needs)  female   \n2          894       2                     Myles, Mr. Thomas Francis    male   \n3          895       3                              Wirz, Mr. Albert    male   \n4          896       3  Hirvonen, Mrs. Alexander (Helga E Lindqvist)  female   \n\n    Age  SibSp  Parch   Ticket     Fare Cabin Embarked  Survived  \n0  34.5      0      0   330911   7.8292   NaN        Q         0  \n1  47.0      1      0   363272   7.0000   NaN        S         0  \n2  62.0      0      0   240276   9.6875   NaN        Q         0  \n3  27.0      0      0   315154   8.6625   NaN        S         0  \n4  22.0      1      1  3101298  12.2875   NaN        S         1  ",
      "text/html": "<div>\n<style scoped>\n    .dataframe tbody tr th:only-of-type {\n        vertical-align: middle;\n    }\n\n    .dataframe tbody tr th {\n        vertical-align: top;\n    }\n\n    .dataframe thead th {\n        text-align: right;\n    }\n</style>\n<table border=\"1\" class=\"dataframe\">\n  <thead>\n    <tr style=\"text-align: right;\">\n      <th></th>\n      <th>PassengerId</th>\n      <th>Pclass</th>\n      <th>Name</th>\n      <th>Sex</th>\n      <th>Age</th>\n      <th>SibSp</th>\n      <th>Parch</th>\n      <th>Ticket</th>\n      <th>Fare</th>\n      <th>Cabin</th>\n      <th>Embarked</th>\n      <th>Survived</th>\n    </tr>\n  </thead>\n  <tbody>\n    <tr>\n      <th>0</th>\n      <td>892</td>\n      <td>3</td>\n      <td>Kelly, Mr. James</td>\n      <td>male</td>\n      <td>34.5</td>\n      <td>0</td>\n      <td>0</td>\n      <td>330911</td>\n      <td>7.8292</td>\n      <td>NaN</td>\n      <td>Q</td>\n      <td>0</td>\n    </tr>\n    <tr>\n      <th>1</th>\n      <td>893</td>\n      <td>3</td>\n      <td>Wilkes, Mrs. James (Ellen Needs)</td>\n      <td>female</td>\n      <td>47.0</td>\n      <td>1</td>\n      <td>0</td>\n      <td>363272</td>\n      <td>7.0000</td>\n      <td>NaN</td>\n      <td>S</td>\n      <td>0</td>\n    </tr>\n    <tr>\n      <th>2</th>\n      <td>894</td>\n      <td>2</td>\n      <td>Myles, Mr. Thomas Francis</td>\n      <td>male</td>\n      <td>62.0</td>\n      <td>0</td>\n      <td>0</td>\n      <td>240276</td>\n      <td>9.6875</td>\n      <td>NaN</td>\n      <td>Q</td>\n      <td>0</td>\n    </tr>\n    <tr>\n      <th>3</th>\n      <td>895</td>\n      <td>3</td>\n      <td>Wirz, Mr. Albert</td>\n      <td>male</td>\n      <td>27.0</td>\n      <td>0</td>\n      <td>0</td>\n      <td>315154</td>\n      <td>8.6625</td>\n      <td>NaN</td>\n      <td>S</td>\n      <td>0</td>\n    </tr>\n    <tr>\n      <th>4</th>\n      <td>896</td>\n      <td>3</td>\n      <td>Hirvonen, Mrs. Alexander (Helga E Lindqvist)</td>\n      <td>female</td>\n      <td>22.0</td>\n      <td>1</td>\n      <td>1</td>\n      <td>3101298</td>\n      <td>12.2875</td>\n      <td>NaN</td>\n      <td>S</td>\n      <td>1</td>\n    </tr>\n  </tbody>\n</table>\n</div>"
     },
     "metadata": {},
     "execution_count": 21
    }
   ],
   "source": [
    "passengers_test.head()"
   ]
  },
  {
   "cell_type": "code",
   "execution_count": null,
   "metadata": {},
   "outputs": [],
   "source": []
  }
 ],
 "metadata": {
  "language_info": {
   "codemirror_mode": {
    "name": "ipython",
    "version": 3
   },
   "file_extension": ".py",
   "mimetype": "text/x-python",
   "name": "python",
   "nbconvert_exporter": "python",
   "pygments_lexer": "ipython3",
   "version": 3
  },
  "orig_nbformat": 2,
  "kernelspec": {
   "name": "python_defaultSpec_1594050850343",
   "display_name": "Python 3.7.6 64-bit ('base': conda)"
  }
 },
 "nbformat": 4,
 "nbformat_minor": 2
}